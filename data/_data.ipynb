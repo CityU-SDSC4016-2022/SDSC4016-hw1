{
 "cells": [
  {
   "cell_type": "code",
   "execution_count": 31,
   "metadata": {},
   "outputs": [],
   "source": [
    "import pandas as pd\n",
    "import numpy as np\n",
    "import csv\n"
   ]
  },
  {
   "cell_type": "code",
   "execution_count": 32,
   "metadata": {},
   "outputs": [],
   "source": [
    "path = 'clean.train.csv'\n"
   ]
  },
  {
   "cell_type": "code",
   "execution_count": 33,
   "metadata": {},
   "outputs": [
    {
     "name": "stdout",
     "output_type": "stream",
     "text": [
      "40 cli\n",
      "41 ili\n",
      "42 hh_cmnty_cli\n",
      "43 nohh_cmnty_cli\n",
      "44 wearing_mask\n",
      "45 travel_outside_state\n",
      "46 work_outside_home\n",
      "47 shop\n",
      "48 restaurant\n",
      "49 spent_time\n",
      "50 large_event\n",
      "51 public_transit\n",
      "52 anxious\n",
      "53 depressed\n",
      "54 felt_isolated\n",
      "55 worried_become_ill\n",
      "56 worried_finances\n",
      "57 tested_positive\n",
      "58 cli.1\n",
      "59 ili.1\n",
      "60 hh_cmnty_cli.1\n",
      "61 nohh_cmnty_cli.1\n",
      "62 wearing_mask.1\n",
      "63 travel_outside_state.1\n",
      "64 work_outside_home.1\n",
      "65 shop.1\n",
      "66 restaurant.1\n",
      "67 spent_time.1\n",
      "68 large_event.1\n",
      "69 public_transit.1\n",
      "70 anxious.1\n",
      "71 depressed.1\n",
      "72 felt_isolated.1\n",
      "73 worried_become_ill.1\n",
      "74 worried_finances.1\n",
      "75 tested_positive.1\n",
      "76 cli.2\n",
      "77 ili.2\n",
      "78 hh_cmnty_cli.2\n",
      "79 nohh_cmnty_cli.2\n",
      "80 wearing_mask.2\n",
      "81 travel_outside_state.2\n",
      "82 work_outside_home.2\n",
      "83 shop.2\n",
      "84 restaurant.2\n",
      "85 spent_time.2\n",
      "86 large_event.2\n",
      "87 public_transit.2\n",
      "88 anxious.2\n",
      "89 depressed.2\n",
      "90 felt_isolated.2\n",
      "91 worried_become_ill.2\n",
      "92 worried_finances.2\n",
      "93 tested_positive.2\n"
     ]
    }
   ],
   "source": [
    "data = pd.read_csv(path)\n",
    "for value, keys in enumerate(data.columns.values.tolist()):\n",
    "    if value > 40:\n",
    "        print(value - 1, keys)\n"
   ]
  },
  {
   "cell_type": "code",
   "execution_count": 34,
   "metadata": {},
   "outputs": [],
   "source": [
    "import pandas as pd\n",
    "from sklearn import preprocessing\n",
    "from sklearn.feature_selection import SelectKBest\n",
    "from sklearn.feature_selection import f_regression\n"
   ]
  },
  {
   "cell_type": "code",
   "execution_count": 35,
   "metadata": {},
   "outputs": [],
   "source": [
    "data = pd.read_csv(path)\n",
    "dataT = preprocessing.MinMaxScaler().fit_transform(data)\n",
    "dataT = pd.DataFrame(dataT)\n"
   ]
  },
  {
   "cell_type": "code",
   "execution_count": 36,
   "metadata": {},
   "outputs": [],
   "source": [
    "featX = dataT.iloc[:, 41:94]\n",
    "featY = dataT.iloc[:, -1]\n"
   ]
  },
  {
   "cell_type": "code",
   "execution_count": 37,
   "metadata": {},
   "outputs": [],
   "source": [
    "fit = SelectKBest(f_regression, k=5).fit(featX, featY)\n",
    "score = pd.DataFrame(list(zip(data.iloc[:, 41:94].columns.tolist(), fit.scores_)), columns=[\"Index\", \"Score\"])\n",
    "best = score.sort_values(by=\"Score\", ascending=False, ignore_index=True)\n",
    "best.index += 1\n",
    "best.to_csv(\"score.csv\", index=True)\n"
   ]
  },
  {
   "cell_type": "code",
   "execution_count": 38,
   "metadata": {},
   "outputs": [],
   "source": [
    "numBestFeat = 23\n"
   ]
  },
  {
   "cell_type": "code",
   "execution_count": 39,
   "metadata": {},
   "outputs": [],
   "source": [
    "# Select K best features\n",
    "def getKBestFeatures(path: str, k: int):\n",
    "    dataPre = pd.read_csv(path)\n",
    "    dataPre = pd.DataFrame(preprocessing.MinMaxScaler().fit_transform(dataPre))\n",
    "    dataPreX = dataPre.iloc[:, 41:94]\n",
    "    dataPreY = dataPre.iloc[:, -1]\n",
    "    dataPrefit = SelectKBest(f_regression, k=5).fit(dataPreX, dataPreY)\n",
    "    featScore = pd.DataFrame(dataPrefit.scores_, index=dataPreX.columns, columns=[\"Score\"])\n",
    "    return list(featScore.nlargest(k, \"Score\").index - 1)\n"
   ]
  },
  {
   "cell_type": "code",
   "execution_count": 40,
   "metadata": {},
   "outputs": [
    {
     "data": {
      "text/plain": [
       "[75,\n",
       " 57,\n",
       " 42,\n",
       " 60,\n",
       " 78,\n",
       " 43,\n",
       " 61,\n",
       " 79,\n",
       " 40,\n",
       " 58,\n",
       " 76,\n",
       " 41,\n",
       " 59,\n",
       " 77,\n",
       " 92,\n",
       " 74,\n",
       " 56,\n",
       " 87,\n",
       " 69,\n",
       " 51,\n",
       " 83,\n",
       " 65,\n",
       " 47]"
      ]
     },
     "execution_count": 40,
     "metadata": {},
     "output_type": "execute_result"
    }
   ],
   "source": [
    "feats = getKBestFeatures(path, numBestFeat)\n",
    "feats\n"
   ]
  }
 ],
 "metadata": {
  "kernelspec": {
   "display_name": "4016",
   "language": "python",
   "name": "python3"
  },
  "language_info": {
   "codemirror_mode": {
    "name": "ipython",
    "version": 3
   },
   "file_extension": ".py",
   "mimetype": "text/x-python",
   "name": "python",
   "nbconvert_exporter": "python",
   "pygments_lexer": "ipython3",
   "version": "3.10.9"
  },
  "orig_nbformat": 4,
  "vscode": {
   "interpreter": {
    "hash": "7d2802fe7c6103ed55938689795e5d5c39fc82d10c8d38b20790576d767dda36"
   }
  }
 },
 "nbformat": 4,
 "nbformat_minor": 2
}
