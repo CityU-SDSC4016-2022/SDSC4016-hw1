{
 "cells": [
  {
   "cell_type": "markdown",
   "id": "42b67c5d",
   "metadata": {},
   "source": [
    "# Baseline Code for HW1\n",
    "\n",
    "This is just the baseline code to set up the basic function you need. You need to modify the code yourself to achieve a better result."
   ]
  },
  {
   "cell_type": "markdown",
   "id": "d88ab3a2",
   "metadata": {},
   "source": [
    "## Import packages you need"
   ]
  },
  {
   "cell_type": "code",
   "execution_count": 260,
   "id": "b63ef26d",
   "metadata": {},
   "outputs": [],
   "source": [
    "# PyTorch\n",
    "import torch\n",
    "import torch.nn as nn\n",
    "from torch.utils.data import Dataset, DataLoader\n",
    "\n",
    "# For data preprocess\n",
    "import numpy as np\n",
    "import csv\n",
    "import os\n",
    "\n",
    "# For plotting\n",
    "import matplotlib.pyplot as plt\n",
    "from matplotlib.pyplot import figure\n",
    "\n",
    "myseed = 666  # set a random seed for reproducibility\n",
    "torch.backends.cudnn.deterministic = True\n",
    "torch.backends.cudnn.benchmark = False\n",
    "np.random.seed(myseed)\n",
    "torch.manual_seed(myseed)\n",
    "if torch.cuda.is_available():\n",
    "    torch.cuda.manual_seed_all(myseed)"
   ]
  },
  {
   "cell_type": "markdown",
   "id": "f4af96d7",
   "metadata": {},
   "source": [
    "## Basic Function\n",
    "Do not modify this part"
   ]
  },
  {
   "cell_type": "code",
   "execution_count": 261,
   "id": "7c6e7cae",
   "metadata": {},
   "outputs": [],
   "source": [
    "def get_device():\n",
    "    ''' Get device (if GPU is available, use GPU) '''\n",
    "    return 'cuda' if torch.cuda.is_available() else 'cpu'\n",
    "\n",
    "def plot_learning_curve(loss_record, title=''):\n",
    "    ''' Plot learning curve of your DNN (train & dev loss) '''\n",
    "    total_steps = len(loss_record['train'])\n",
    "    x_1 = range(total_steps)\n",
    "    x_2 = x_1[::len(loss_record['train']) // len(loss_record['dev'])]\n",
    "    figure(figsize=(6, 4))\n",
    "    plt.plot(x_1, loss_record['train'], c='tab:red', label='train')\n",
    "    plt.plot(x_2, loss_record['dev'], c='tab:cyan', label='dev')\n",
    "    plt.ylim(0.0, 5.)\n",
    "    plt.xlabel('Training steps')\n",
    "    plt.ylabel('MSE loss')\n",
    "    plt.title('Learning curve of {}'.format(title))\n",
    "    plt.legend()\n",
    "    plt.show()\n",
    "    \n",
    "def plot_pred(dv_set, model, device, lim=35., preds=None, targets=None):\n",
    "    ''' Plot prediction of your DNN '''\n",
    "    if preds is None or targets is None:\n",
    "        model.eval()\n",
    "        preds, targets = [], []\n",
    "        for x, y in dv_set:\n",
    "            x, y = x.to(device), y.to(device)\n",
    "            with torch.no_grad():\n",
    "                pred = model(x)\n",
    "                preds.append(pred.detach().cpu())\n",
    "                targets.append(y.detach().cpu())\n",
    "        preds = torch.cat(preds, dim=0).numpy()\n",
    "        targets = torch.cat(targets, dim=0).numpy()\n",
    "\n",
    "    figure(figsize=(5, 5))\n",
    "    plt.scatter(targets, preds, c='r', alpha=0.5)\n",
    "    plt.plot([-0.2, lim], [-0.2, lim], c='b')\n",
    "    plt.xlim(-0.2, lim)\n",
    "    plt.ylim(-0.2, lim)\n",
    "    plt.xlabel('Truth value')\n",
    "    plt.ylabel('predicted value')\n",
    "    plt.title('Truth v.s. Prediction')\n",
    "    plt.show()"
   ]
  },
  {
   "cell_type": "markdown",
   "id": "84bd9695",
   "metadata": {},
   "source": [
    "## Data and Preprocess\n",
    "The function below used to:\n",
    "1. Read the csv files into python\n",
    "2. Choose features (you can choose yourself)\n",
    "3. Split data into training and validation sets.\n",
    "4. Normalization"
   ]
  },
  {
   "cell_type": "code",
   "execution_count": 262,
   "id": "a19e00f8",
   "metadata": {},
   "outputs": [],
   "source": [
    "# Select K best features\n",
    "def getKBestFeatures(path: str, k: int):\n",
    "    import pandas as pd\n",
    "    from sklearn import preprocessing\n",
    "    from sklearn.feature_selection import SelectKBest\n",
    "    from sklearn.feature_selection import f_regression\n",
    "    dataPre = pd.read_csv(path)\n",
    "    dataPre = pd.DataFrame(preprocessing.MinMaxScaler().fit_transform(dataPre))\n",
    "    dataPreX = dataPre.iloc[:, 41:94]\n",
    "    dataPreY = dataPre.iloc[:, -1]\n",
    "    dataPrefit = SelectKBest(f_regression, k=5).fit(dataPreX, dataPreY)\n",
    "    featScore = pd.DataFrame(dataPrefit.scores_, index=dataPreX.columns, columns=[\"Score\"])\n",
    "    feats = list(featScore.nlargest(k, \"Score\").index - 1)\n",
    "    #print(f\"Feature selected: {feats}\")\n",
    "    return feats"
   ]
  },
  {
   "cell_type": "code",
   "execution_count": 263,
   "id": "127739cf",
   "metadata": {},
   "outputs": [],
   "source": [
    "class Dataprocess(Dataset):\n",
    "    def __init__(self,\n",
    "                 path,\n",
    "                 len_Feat,\n",
    "                 mode='train',\n",
    "                 modify=False):\n",
    "        self.mode = mode\n",
    "\n",
    "        # Read csv file\n",
    "        with open(path, 'r') as f:\n",
    "            data = list(csv.reader(f))\n",
    "            data = np.array(data[1:])[:, 1:].astype(float)\n",
    "        \n",
    "        if modify == False:\n",
    "            feats = list(range(93))\n",
    "        else:\n",
    "            # Hint:Feature Selection\n",
    "            kFeat = len_Feat\n",
    "            tPath = \"HW1.train.csv\"\n",
    "            bestFeat = getKBestFeatures(tPath, kFeat)\n",
    "            feats = bestFeat\n",
    "            pass\n",
    "\n",
    "        if mode == 'test':\n",
    "            # Testing set\n",
    "            data = data[:, feats]\n",
    "            self.data = torch.FloatTensor(data)\n",
    "        else:\n",
    "            # Training set\n",
    "            target = data[:, -1]\n",
    "            data = data[:, feats]\n",
    "\n",
    "            # Splitting data into training and validation sets\n",
    "            if mode == 'train':\n",
    "                indices = [i for i in range(len(data)) if i % 10 != 0]\n",
    "            elif mode == 'dev':\n",
    "                indices = [i for i in range(len(data)) if i % 10 == 0]\n",
    "            \n",
    "            # Convert data into PyTorch tensors\n",
    "            self.data = torch.FloatTensor(data[indices])\n",
    "            self.target = torch.FloatTensor(target[indices])\n",
    "\n",
    "        # Normalize features\n",
    "        self.data[:, 40:] = \\\n",
    "            (self.data[:, 40:] - self.data[:, 40:].mean(dim=0, keepdim=True)) \\\n",
    "            / self.data[:, 40:].std(dim=0, keepdim=True)\n",
    "\n",
    "        self.dim = self.data.shape[1]\n",
    "\n",
    "        print('Finished reading the {} set of COVID19 Dataset ({} samples found, each dim = {})'\n",
    "              .format(mode, len(self.data), self.dim))\n",
    "        \n",
    "    def __getitem__(self, index):\n",
    "        # Returns one sample at a time\n",
    "        if self.mode in ['train', 'dev']:\n",
    "            # For training\n",
    "            return self.data[index], self.target[index]\n",
    "        else:\n",
    "            # For testing\n",
    "            return self.data[index]\n",
    "\n",
    "    def __len__(self):\n",
    "        # Returns the size of the dataset\n",
    "        return len(self.data)"
   ]
  },
  {
   "cell_type": "markdown",
   "id": "dd6939cf",
   "metadata": {},
   "source": [
    "## Dataloader\n",
    "Loads data into batches."
   ]
  },
  {
   "cell_type": "code",
   "execution_count": 264,
   "id": "a5123b30",
   "metadata": {},
   "outputs": [],
   "source": [
    "def dataloader(path,len_Feat, mode, batch_size, n_jobs=0, modify=False):\n",
    "    dataset = Dataprocess(path, len_Feat, mode=mode, modify=modify)\n",
    "    dataloader = DataLoader(\n",
    "        dataset, batch_size,\n",
    "        shuffle=(mode == 'train'), drop_last=False,\n",
    "        num_workers=n_jobs, pin_memory=True)\n",
    "    return dataloader"
   ]
  },
  {
   "cell_type": "markdown",
   "id": "3683c933",
   "metadata": {},
   "source": [
    "## Define DNN by pytorch\n",
    "The DNN consists of 2 fully-connected layers with ReLU activation function"
   ]
  },
  {
   "cell_type": "code",
   "execution_count": 265,
   "id": "a18d0f3a",
   "metadata": {},
   "outputs": [],
   "source": [
    "class NeuralNet(nn.Module):\n",
    "    def __init__(self, input_dim,hidden_dim):\n",
    "        super(NeuralNet, self).__init__()\n",
    "\n",
    "        # Try to modify this DNN to achieve better performance\n",
    "        self.net = nn.Sequential(\n",
    "            nn.Linear(input_dim, hidden_dim),\n",
    "            # nn.BatchNorm1d(hidden_dim),\n",
    "            # nn.Dropout(p=0.1),\n",
    "            # nn.LeakyReLU(),\n",
    "            nn.ReLU(),\n",
    "            nn.Linear(hidden_dim, 1)\n",
    "        )\n",
    "        \"\"\"\n",
    "        self.net = nn.Sequential(\n",
    "            nn.Linear(input_dim, 64),\n",
    "            nn.ReLU(),\n",
    "            nn.Linear(64, 64),\n",
    "            nn.ReLU(),\n",
    "            nn.Linear(64, 64),\n",
    "            nn.ReLU(),\n",
    "            nn.Linear(64, 32),\n",
    "            nn.ReLU(),\n",
    "            nn.Linear(32, 1),\n",
    "        )\n",
    "        \"\"\"\n",
    "\n",
    "        # Loss function MSE\n",
    "        self.criterion = nn.MSELoss(reduction='mean')\n",
    "        #RMSLELoss()\n",
    "        \n",
    "        \n",
    "        \n",
    "\n",
    "    def forward(self, x):\n",
    "        ''' Given input of size (batch_size x input_dim), compute output of the network '''\n",
    "        return self.net(x).squeeze(1)\n",
    "\n",
    "    def cal_loss(self, pred, target):\n",
    "        ''' Calculate loss '''\n",
    "        # You may try regularization here\n",
    "\n",
    "        \n",
    "        return self.criterion(pred, target)\n",
    "    \n",
    "class RMSLELoss(nn.Module):\n",
    "    def __init__(self):\n",
    "        super().__init__()\n",
    "        self.mse = nn.MSELoss()\n",
    "        \n",
    "    def forward(self, pred, actual):\n",
    "        return torch.sqrt(self.mse(torch.log(pred + 1), torch.log(actual + 1)))"
   ]
  },
  {
   "cell_type": "markdown",
   "id": "8625e04c",
   "metadata": {},
   "source": [
    "## Training"
   ]
  },
  {
   "cell_type": "code",
   "execution_count": 266,
   "id": "42034751",
   "metadata": {},
   "outputs": [],
   "source": [
    "def train(tr_set, dv_set, model, config, device):\n",
    "\n",
    "    n_epochs = config['n_epochs']  # Maximum number of epochs\n",
    "\n",
    "    # Setup optimizer\n",
    "\n",
    "    optimizer = getattr(torch.optim, config['optimizer'])(model.parameters(), **config['optim_hparas'])\n",
    "\n",
    "    #optimizer = torch.optim.SGD(model.parameters(), lr=5e-4, weight_decay=1e-1)\n",
    "\n",
    "    min_mse = 1000.\n",
    "    loss_record = {'train': [], 'dev': []}      # for recording training loss\n",
    "    early_stop_cnt = 0\n",
    "    epoch = 0\n",
    "    while epoch < n_epochs:\n",
    "        model.train()                           # set model to training mode\n",
    "        for x, y in tr_set:                     # iterate through the dataloader\n",
    "            optimizer.zero_grad()               # set gradient to zero\n",
    "            x, y = x.to(device), y.to(device)   # move data to device (cpu/cuda)\n",
    "            pred = model(x)                     # forward pass (compute output)\n",
    "            mse_loss = model.cal_loss(pred, y)  # compute loss\n",
    "            mse_loss.backward()                 # compute gradient (backpropagation)\n",
    "            optimizer.step()                    # update model with optimizer\n",
    "            loss_record['train'].append(mse_loss.detach().cpu().item())\n",
    "\n",
    "        dev_mse = dev(dv_set, model, device)\n",
    "        if dev_mse < min_mse:\n",
    "            # Save model if your model improved\n",
    "            min_mse = dev_mse\n",
    "            #print('Saving model (epoch = {:4d}, loss = {:.4f}, dev_loss = {:.4f})'\n",
    "            #    .format(epoch + 1, min_mse, dev_mse))\n",
    "            torch.save(model.state_dict(), config['save_path'])  # Save model to specified path\n",
    "            early_stop_cnt = 0\n",
    "        else:\n",
    "            early_stop_cnt += 1\n",
    "\n",
    "        epoch += 1\n",
    "        loss_record['dev'].append(dev_mse)\n",
    "        if early_stop_cnt > config['early_stop']:\n",
    "            break\n",
    "    print(loss_record[\"dev\"][-1])\n",
    "    print('Finished training after {} epochs'.format(epoch))\n",
    "    return min_mse, loss_record"
   ]
  },
  {
   "cell_type": "markdown",
   "id": "a0f886bb",
   "metadata": {},
   "source": [
    "## Validation"
   ]
  },
  {
   "cell_type": "code",
   "execution_count": 267,
   "id": "0339c829",
   "metadata": {},
   "outputs": [],
   "source": [
    "def dev(dv_set, model, device):\n",
    "    model.eval()                                # set model to evalutation mode\n",
    "    total_loss = 0\n",
    "    for x, y in dv_set:                         # iterate through the dataloader\n",
    "        x, y = x.to(device), y.to(device)       # move data to device (cpu/cuda)\n",
    "        with torch.no_grad():                   # disable gradient calculation\n",
    "            pred = model(x)                     # forward pass (compute output)\n",
    "            mse_loss = model.cal_loss(pred, y)  # compute loss\n",
    "        total_loss += mse_loss.detach().cpu().item() * len(x)  # accumulate loss\n",
    "    total_loss = total_loss / len(dv_set.dataset)              # compute averaged loss\n",
    "\n",
    "    return total_loss"
   ]
  },
  {
   "cell_type": "markdown",
   "id": "997f8430",
   "metadata": {},
   "source": [
    "## Testing"
   ]
  },
  {
   "cell_type": "code",
   "execution_count": 268,
   "id": "841528bf",
   "metadata": {},
   "outputs": [],
   "source": [
    "def test(tt_set, model, device):\n",
    "    model.eval()                                # set model to evalutation mode\n",
    "    preds = []\n",
    "    for x in tt_set:                            # iterate through the dataloader\n",
    "        x = x.to(device)                        # move data to device (cpu/cuda)\n",
    "        with torch.no_grad():                   # disable gradient calculation\n",
    "            pred = model(x)                     # forward pass (compute output)\n",
    "            preds.append(pred.detach().cpu())   # collect prediction\n",
    "    preds = torch.cat(preds, dim=0).numpy()     # concatenate all predictions and convert to a numpy array\n",
    "    return preds"
   ]
  },
  {
   "cell_type": "markdown",
   "id": "a0aed462",
   "metadata": {},
   "source": [
    "## Hyper-parameters for DNN\n"
   ]
  },
  {
   "cell_type": "code",
   "execution_count": null,
   "id": "bde81b48",
   "metadata": {},
   "outputs": [
    {
     "name": "stderr",
     "output_type": "stream",
     "text": [
      "\u001b[32m[I 2023-02-18 00:28:15,169]\u001b[0m A new study created in memory with name: no-name-e4e7ad7f-d185-4bc6-957e-33f2c1458b58\u001b[0m\n"
     ]
    },
    {
     "name": "stdout",
     "output_type": "stream",
     "text": [
      "Finished reading the train set of COVID19 Dataset (1800 samples found, each dim = 14)\n",
      "Finished reading the dev set of COVID19 Dataset (200 samples found, each dim = 14)\n",
      "Finished reading the test set of COVID19 Dataset (500 samples found, each dim = 14)\n"
     ]
    },
    {
     "name": "stderr",
     "output_type": "stream",
     "text": [
      "\u001b[32m[I 2023-02-18 00:28:17,140]\u001b[0m Trial 0 finished with value: 46.15211162567139 and parameters: {'hidden_dim': 106, 'batch_size': 190, 'early_stop': 170, 'lr': 0.001, 'momentum': 1e-05, 'weight_decay': 0.001}. Best is trial 0 with value: 46.15211162567139.\u001b[0m\n"
     ]
    },
    {
     "name": "stdout",
     "output_type": "stream",
     "text": [
      "63.60614147186279\n",
      "Finished training after 287 epochs\n",
      "Finished reading the train set of COVID19 Dataset (1800 samples found, each dim = 14)\n",
      "Finished reading the dev set of COVID19 Dataset (200 samples found, each dim = 14)\n",
      "Finished reading the test set of COVID19 Dataset (500 samples found, each dim = 14)\n"
     ]
    },
    {
     "name": "stderr",
     "output_type": "stream",
     "text": [
      "\u001b[32m[I 2023-02-18 00:28:18,256]\u001b[0m Trial 1 finished with value: 63.59878520965576 and parameters: {'hidden_dim': 54, 'batch_size': 110, 'early_stop': 50, 'lr': 0.1, 'momentum': 0.01, 'weight_decay': 1e-06}. Best is trial 0 with value: 46.15211162567139.\u001b[0m\n"
     ]
    },
    {
     "name": "stdout",
     "output_type": "stream",
     "text": [
      "63.60098514556885\n",
      "Finished training after 121 epochs\n",
      "Finished reading the train set of COVID19 Dataset (1800 samples found, each dim = 14)\n",
      "Finished reading the dev set of COVID19 Dataset (200 samples found, each dim = 14)\n",
      "Finished reading the test set of COVID19 Dataset (500 samples found, each dim = 14)\n"
     ]
    },
    {
     "name": "stderr",
     "output_type": "stream",
     "text": [
      "\u001b[32m[I 2023-02-18 00:28:20,036]\u001b[0m Trial 2 finished with value: 63.59876613616943 and parameters: {'hidden_dim': 52, 'batch_size': 170, 'early_stop': 80, 'lr': 0.1, 'momentum': 1e-05, 'weight_decay': 0.001}. Best is trial 0 with value: 46.15211162567139.\u001b[0m\n"
     ]
    },
    {
     "name": "stdout",
     "output_type": "stream",
     "text": [
      "63.63651390075684\n",
      "Finished training after 255 epochs\n",
      "Finished reading the train set of COVID19 Dataset (1800 samples found, each dim = 14)\n",
      "Finished reading the dev set of COVID19 Dataset (200 samples found, each dim = 14)\n",
      "Finished reading the test set of COVID19 Dataset (500 samples found, each dim = 14)\n"
     ]
    },
    {
     "name": "stderr",
     "output_type": "stream",
     "text": [
      "\u001b[32m[I 2023-02-18 00:28:33,219]\u001b[0m Trial 3 finished with value: 1.6429030895233154 and parameters: {'hidden_dim': 120, 'batch_size': 200, 'early_stop': 150, 'lr': 1e-06, 'momentum': 0.0001, 'weight_decay': 0.1}. Best is trial 3 with value: 1.6429030895233154.\u001b[0m\n"
     ]
    },
    {
     "name": "stdout",
     "output_type": "stream",
     "text": [
      "1.6429030895233154\n",
      "Finished training after 2300 epochs\n",
      "Finished reading the train set of COVID19 Dataset (1800 samples found, each dim = 14)\n",
      "Finished reading the dev set of COVID19 Dataset (200 samples found, each dim = 14)\n",
      "Finished reading the test set of COVID19 Dataset (500 samples found, each dim = 14)\n"
     ]
    },
    {
     "name": "stderr",
     "output_type": "stream",
     "text": [
      "\u001b[32m[I 2023-02-18 00:28:34,349]\u001b[0m Trial 4 finished with value: 3.03647917509079 and parameters: {'hidden_dim': 74, 'batch_size': 70, 'early_stop': 90, 'lr': 0.0001, 'momentum': 1.0, 'weight_decay': 1e-06}. Best is trial 3 with value: 1.6429030895233154.\u001b[0m\n"
     ]
    },
    {
     "name": "stdout",
     "output_type": "stream",
     "text": [
      "77.7721336364746\n",
      "Finished training after 96 epochs\n",
      "Finished reading the train set of COVID19 Dataset (1800 samples found, each dim = 14)\n",
      "Finished reading the dev set of COVID19 Dataset (200 samples found, each dim = 14)\n",
      "Finished reading the test set of COVID19 Dataset (500 samples found, each dim = 14)\n"
     ]
    },
    {
     "name": "stderr",
     "output_type": "stream",
     "text": [
      "\u001b[32m[I 2023-02-18 00:28:35,814]\u001b[0m Trial 5 finished with value: 63.598777770996094 and parameters: {'hidden_dim': 20, 'batch_size': 140, 'early_stop': 30, 'lr': 0.001, 'momentum': 0.01, 'weight_decay': 1e-05}. Best is trial 3 with value: 1.6429030895233154.\u001b[0m\n"
     ]
    },
    {
     "name": "stdout",
     "output_type": "stream",
     "text": [
      "63.6025203704834\n",
      "Finished training after 219 epochs\n",
      "Finished reading the train set of COVID19 Dataset (1800 samples found, each dim = 14)\n",
      "Finished reading the dev set of COVID19 Dataset (200 samples found, each dim = 14)\n",
      "Finished reading the test set of COVID19 Dataset (500 samples found, each dim = 14)\n"
     ]
    },
    {
     "name": "stderr",
     "output_type": "stream",
     "text": [
      "\u001b[32m[I 2023-02-18 00:28:47,072]\u001b[0m Trial 6 finished with value: 0.829495120048523 and parameters: {'hidden_dim': 96, 'batch_size': 160, 'early_stop': 150, 'lr': 0.0001, 'momentum': 0.1, 'weight_decay': 0.01}. Best is trial 6 with value: 0.829495120048523.\u001b[0m\n"
     ]
    },
    {
     "name": "stdout",
     "output_type": "stream",
     "text": [
      "0.9037721991539002\n",
      "Finished training after 2300 epochs\n",
      "Finished reading the train set of COVID19 Dataset (1800 samples found, each dim = 14)\n",
      "Finished reading the dev set of COVID19 Dataset (200 samples found, each dim = 14)\n",
      "Finished reading the test set of COVID19 Dataset (500 samples found, each dim = 14)\n"
     ]
    },
    {
     "name": "stderr",
     "output_type": "stream",
     "text": [
      "\u001b[32m[I 2023-02-18 00:28:50,120]\u001b[0m Trial 7 finished with value: 63.59877014160156 and parameters: {'hidden_dim': 42, 'batch_size': 100, 'early_stop': 100, 'lr': 0.1, 'momentum': 0.01, 'weight_decay': 0.001}. Best is trial 6 with value: 0.829495120048523.\u001b[0m\n"
     ]
    },
    {
     "name": "stdout",
     "output_type": "stream",
     "text": [
      "63.63850784301758\n",
      "Finished training after 428 epochs\n",
      "Finished reading the train set of COVID19 Dataset (1800 samples found, each dim = 14)\n",
      "Finished reading the dev set of COVID19 Dataset (200 samples found, each dim = 14)\n",
      "Finished reading the test set of COVID19 Dataset (500 samples found, each dim = 14)\n"
     ]
    },
    {
     "name": "stderr",
     "output_type": "stream",
     "text": [
      "\u001b[32m[I 2023-02-18 00:28:56,298]\u001b[0m Trial 8 finished with value: 63.599134063720705 and parameters: {'hidden_dim': 58, 'batch_size': 40, 'early_stop': 180, 'lr': 0.001, 'momentum': 1.0, 'weight_decay': 1e-05}. Best is trial 6 with value: 0.829495120048523.\u001b[0m\n"
     ]
    },
    {
     "name": "stdout",
     "output_type": "stream",
     "text": [
      "69.13806457519532\n",
      "Finished training after 616 epochs\n",
      "Finished reading the train set of COVID19 Dataset (1800 samples found, each dim = 14)\n",
      "Finished reading the dev set of COVID19 Dataset (200 samples found, each dim = 14)\n",
      "Finished reading the test set of COVID19 Dataset (500 samples found, each dim = 14)\n"
     ]
    },
    {
     "name": "stderr",
     "output_type": "stream",
     "text": [
      "\u001b[32m[I 2023-02-18 00:28:58,864]\u001b[0m Trial 9 finished with value: 63.59877319335938 and parameters: {'hidden_dim': 70, 'batch_size': 170, 'early_stop': 190, 'lr': 0.1, 'momentum': 0.1, 'weight_decay': 1e-06}. Best is trial 6 with value: 0.829495120048523.\u001b[0m\n"
     ]
    },
    {
     "name": "stdout",
     "output_type": "stream",
     "text": [
      "63.64047374725342\n",
      "Finished training after 381 epochs\n",
      "Finished reading the train set of COVID19 Dataset (1800 samples found, each dim = 14)\n",
      "Finished reading the dev set of COVID19 Dataset (200 samples found, each dim = 14)\n",
      "Finished reading the test set of COVID19 Dataset (500 samples found, each dim = 14)\n"
     ]
    },
    {
     "name": "stderr",
     "output_type": "stream",
     "text": [
      "\u001b[32m[I 2023-02-18 00:29:07,063]\u001b[0m Trial 10 finished with value: 0.8410224795341492 and parameters: {'hidden_dim': 98, 'batch_size': 140, 'early_stop': 140, 'lr': 0.0001, 'momentum': 0.1, 'weight_decay': 0.01}. Best is trial 6 with value: 0.829495120048523.\u001b[0m\n"
     ]
    },
    {
     "name": "stdout",
     "output_type": "stream",
     "text": [
      "0.8486029088497162\n",
      "Finished training after 1478 epochs\n",
      "Finished reading the train set of COVID19 Dataset (1800 samples found, each dim = 14)\n",
      "Finished reading the dev set of COVID19 Dataset (200 samples found, each dim = 14)\n",
      "Finished reading the test set of COVID19 Dataset (500 samples found, each dim = 14)\n"
     ]
    },
    {
     "name": "stderr",
     "output_type": "stream",
     "text": [
      "\u001b[32m[I 2023-02-18 00:29:19,211]\u001b[0m Trial 11 finished with value: 0.8278571009635926 and parameters: {'hidden_dim': 96, 'batch_size': 140, 'early_stop': 130, 'lr': 0.0001, 'momentum': 0.1, 'weight_decay': 0.01}. Best is trial 11 with value: 0.8278571009635926.\u001b[0m\n"
     ]
    },
    {
     "name": "stdout",
     "output_type": "stream",
     "text": [
      "0.9218389391899109\n",
      "Finished training after 2300 epochs\n",
      "Finished reading the train set of COVID19 Dataset (1800 samples found, each dim = 14)\n",
      "Finished reading the dev set of COVID19 Dataset (200 samples found, each dim = 14)\n",
      "Finished reading the test set of COVID19 Dataset (500 samples found, each dim = 14)\n"
     ]
    },
    {
     "name": "stderr",
     "output_type": "stream",
     "text": [
      "\u001b[32m[I 2023-02-18 00:29:20,376]\u001b[0m Trial 12 finished with value: 1000.0 and parameters: {'hidden_dim': 94, 'batch_size': 140, 'early_stop': 130, 'lr': 1.0, 'momentum': 1e-06, 'weight_decay': 0.01}. Best is trial 11 with value: 0.8278571009635926.\u001b[0m\n"
     ]
    },
    {
     "name": "stdout",
     "output_type": "stream",
     "text": [
      "inf\n",
      "Finished training after 131 epochs\n",
      "Finished reading the train set of COVID19 Dataset (1800 samples found, each dim = 14)\n",
      "Finished reading the dev set of COVID19 Dataset (200 samples found, each dim = 14)\n",
      "Finished reading the test set of COVID19 Dataset (500 samples found, each dim = 14)\n"
     ]
    },
    {
     "name": "stderr",
     "output_type": "stream",
     "text": [
      "\u001b[32m[I 2023-02-18 00:29:21,756]\u001b[0m Trial 13 finished with value: 89.03001708984375 and parameters: {'hidden_dim': 124, 'batch_size': 160, 'early_stop': 120, 'lr': 0.01, 'momentum': 0.001, 'weight_decay': 1.0}. Best is trial 11 with value: 0.8278571009635926.\u001b[0m\n"
     ]
    },
    {
     "name": "stdout",
     "output_type": "stream",
     "text": [
      "89.79559936523438\n",
      "Finished training after 182 epochs\n",
      "Finished reading the train set of COVID19 Dataset (1800 samples found, each dim = 14)\n",
      "Finished reading the dev set of COVID19 Dataset (200 samples found, each dim = 14)\n",
      "Finished reading the test set of COVID19 Dataset (500 samples found, each dim = 14)\n"
     ]
    },
    {
     "name": "stderr",
     "output_type": "stream",
     "text": [
      "\u001b[32m[I 2023-02-18 00:29:35,806]\u001b[0m Trial 14 finished with value: 0.9491382598876953 and parameters: {'hidden_dim': 88, 'batch_size': 90, 'early_stop': 160, 'lr': 1e-05, 'momentum': 0.1, 'weight_decay': 0.01}. Best is trial 11 with value: 0.8278571009635926.\u001b[0m\n"
     ]
    },
    {
     "name": "stdout",
     "output_type": "stream",
     "text": [
      "0.9588076949119568\n",
      "Finished training after 2300 epochs\n",
      "Finished reading the train set of COVID19 Dataset (1800 samples found, each dim = 14)\n",
      "Finished reading the dev set of COVID19 Dataset (200 samples found, each dim = 14)\n",
      "Finished reading the test set of COVID19 Dataset (500 samples found, each dim = 14)\n"
     ]
    },
    {
     "name": "stderr",
     "output_type": "stream",
     "text": [
      "\u001b[32m[I 2023-02-18 00:29:49,173]\u001b[0m Trial 15 finished with value: 0.8424440830945968 and parameters: {'hidden_dim': 110, 'batch_size': 130, 'early_stop': 200, 'lr': 0.0001, 'momentum': 0.1, 'weight_decay': 0.0001}. Best is trial 11 with value: 0.8278571009635926.\u001b[0m\n"
     ]
    },
    {
     "name": "stdout",
     "output_type": "stream",
     "text": [
      "0.8575575053691864\n",
      "Finished training after 2300 epochs\n",
      "Finished reading the train set of COVID19 Dataset (1800 samples found, each dim = 14)\n",
      "Finished reading the dev set of COVID19 Dataset (200 samples found, each dim = 14)\n",
      "Finished reading the test set of COVID19 Dataset (500 samples found, each dim = 14)\n"
     ]
    },
    {
     "name": "stderr",
     "output_type": "stream",
     "text": [
      "\u001b[32m[I 2023-02-18 00:29:56,058]\u001b[0m Trial 16 finished with value: 0.8343068689107895 and parameters: {'hidden_dim': 84, 'batch_size': 70, 'early_stop': 70, 'lr': 0.0001, 'momentum': 0.1, 'weight_decay': 0.01}. Best is trial 11 with value: 0.8278571009635926.\u001b[0m\n"
     ]
    },
    {
     "name": "stdout",
     "output_type": "stream",
     "text": [
      "0.8442161858081818\n",
      "Finished training after 942 epochs\n",
      "Finished reading the train set of COVID19 Dataset (1800 samples found, each dim = 14)\n",
      "Finished reading the dev set of COVID19 Dataset (200 samples found, each dim = 14)\n",
      "Finished reading the test set of COVID19 Dataset (500 samples found, each dim = 14)\n"
     ]
    },
    {
     "name": "stderr",
     "output_type": "stream",
     "text": [
      "\u001b[32m[I 2023-02-18 00:30:14,605]\u001b[0m Trial 17 finished with value: 0.8203634470701218 and parameters: {'hidden_dim': 112, 'batch_size': 20, 'early_stop': 110, 'lr': 0.0001, 'momentum': 0.0001, 'weight_decay': 0.01}. Best is trial 17 with value: 0.8203634470701218.\u001b[0m\n"
     ]
    },
    {
     "name": "stdout",
     "output_type": "stream",
     "text": [
      "0.8261915385723114\n",
      "Finished training after 1203 epochs\n",
      "Finished reading the train set of COVID19 Dataset (1800 samples found, each dim = 14)\n",
      "Finished reading the dev set of COVID19 Dataset (200 samples found, each dim = 14)\n",
      "Finished reading the test set of COVID19 Dataset (500 samples found, each dim = 14)\n"
     ]
    },
    {
     "name": "stderr",
     "output_type": "stream",
     "text": [
      "\u001b[32m[I 2023-02-18 00:30:41,582]\u001b[0m Trial 18 finished with value: 0.8422074407339096 and parameters: {'hidden_dim': 112, 'batch_size': 30, 'early_stop': 120, 'lr': 1e-05, 'momentum': 0.0001, 'weight_decay': 0.1}. Best is trial 17 with value: 0.8203634470701218.\u001b[0m\n"
     ]
    },
    {
     "name": "stdout",
     "output_type": "stream",
     "text": [
      "0.862843570113182\n",
      "Finished training after 2300 epochs\n",
      "Finished reading the train set of COVID19 Dataset (1800 samples found, each dim = 14)\n",
      "Finished reading the dev set of COVID19 Dataset (200 samples found, each dim = 14)\n",
      "Finished reading the test set of COVID19 Dataset (500 samples found, each dim = 14)\n"
     ]
    },
    {
     "name": "stderr",
     "output_type": "stream",
     "text": [
      "\u001b[32m[I 2023-02-18 00:30:42,890]\u001b[0m Trial 19 finished with value: 1000.0 and parameters: {'hidden_dim': 78, 'batch_size': 20, 'early_stop': 60, 'lr': 1.0, 'momentum': 0.0001, 'weight_decay': 0.0001}. Best is trial 17 with value: 0.8203634470701218.\u001b[0m\n"
     ]
    },
    {
     "name": "stdout",
     "output_type": "stream",
     "text": [
      "1526594290476646.5\n",
      "Finished training after 61 epochs\n",
      "Finished reading the train set of COVID19 Dataset (1800 samples found, each dim = 14)\n",
      "Finished reading the dev set of COVID19 Dataset (200 samples found, each dim = 14)\n",
      "Finished reading the test set of COVID19 Dataset (500 samples found, each dim = 14)\n"
     ]
    },
    {
     "name": "stderr",
     "output_type": "stream",
     "text": [
      "\u001b[32m[I 2023-02-18 00:30:44,397]\u001b[0m Trial 20 finished with value: 89.26803398132324 and parameters: {'hidden_dim': 126, 'batch_size': 50, 'early_stop': 100, 'lr': 0.01, 'momentum': 0.001, 'weight_decay': 1.0}. Best is trial 17 with value: 0.8203634470701218.\u001b[0m\n"
     ]
    },
    {
     "name": "stdout",
     "output_type": "stream",
     "text": [
      "89.73398303985596\n",
      "Finished training after 123 epochs\n",
      "Finished reading the train set of COVID19 Dataset (1800 samples found, each dim = 14)\n",
      "Finished reading the dev set of COVID19 Dataset (200 samples found, each dim = 14)\n",
      "Finished reading the test set of COVID19 Dataset (500 samples found, each dim = 14)\n"
     ]
    },
    {
     "name": "stderr",
     "output_type": "stream",
     "text": [
      "\u001b[32m[I 2023-02-18 00:30:58,828]\u001b[0m Trial 21 finished with value: 0.8295438528060913 and parameters: {'hidden_dim': 100, 'batch_size': 120, 'early_stop': 140, 'lr': 0.0001, 'momentum': 1e-06, 'weight_decay': 0.01}. Best is trial 17 with value: 0.8203634470701218.\u001b[0m\n"
     ]
    },
    {
     "name": "stdout",
     "output_type": "stream",
     "text": [
      "0.8316532015800476\n",
      "Finished training after 2300 epochs\n",
      "Finished reading the train set of COVID19 Dataset (1800 samples found, each dim = 14)\n",
      "Finished reading the dev set of COVID19 Dataset (200 samples found, each dim = 14)\n",
      "Finished reading the test set of COVID19 Dataset (500 samples found, each dim = 14)\n"
     ]
    },
    {
     "name": "stderr",
     "output_type": "stream",
     "text": [
      "\u001b[32m[I 2023-02-18 00:31:10,333]\u001b[0m Trial 22 finished with value: 0.8388014435768127 and parameters: {'hidden_dim': 114, 'batch_size': 160, 'early_stop': 110, 'lr': 0.0001, 'momentum': 0.0001, 'weight_decay': 0.01}. Best is trial 17 with value: 0.8203634470701218.\u001b[0m\n"
     ]
    },
    {
     "name": "stdout",
     "output_type": "stream",
     "text": [
      "0.8702199220657348\n",
      "Finished training after 1932 epochs\n",
      "Finished reading the train set of COVID19 Dataset (1800 samples found, each dim = 14)\n",
      "Finished reading the dev set of COVID19 Dataset (200 samples found, each dim = 14)\n",
      "Finished reading the test set of COVID19 Dataset (500 samples found, each dim = 14)\n"
     ]
    },
    {
     "name": "stderr",
     "output_type": "stream",
     "text": [
      "\u001b[32m[I 2023-02-18 00:31:22,151]\u001b[0m Trial 23 finished with value: 0.8266822040081024 and parameters: {'hidden_dim': 90, 'batch_size': 180, 'early_stop': 160, 'lr': 0.0001, 'momentum': 0.1, 'weight_decay': 0.01}. Best is trial 17 with value: 0.8203634470701218.\u001b[0m\n"
     ]
    },
    {
     "name": "stdout",
     "output_type": "stream",
     "text": [
      "0.8449566692113877\n",
      "Finished training after 2300 epochs\n",
      "Finished reading the train set of COVID19 Dataset (1800 samples found, each dim = 14)\n",
      "Finished reading the dev set of COVID19 Dataset (200 samples found, each dim = 14)\n",
      "Finished reading the test set of COVID19 Dataset (500 samples found, each dim = 14)\n"
     ]
    },
    {
     "name": "stderr",
     "output_type": "stream",
     "text": [
      "\u001b[32m[I 2023-02-18 00:31:35,694]\u001b[0m Trial 24 finished with value: 1.978861889243126 and parameters: {'hidden_dim': 66, 'batch_size': 190, 'early_stop': 170, 'lr': 1e-06, 'momentum': 0.1, 'weight_decay': 0.01}. Best is trial 17 with value: 0.8203634470701218.\u001b[0m\n"
     ]
    },
    {
     "name": "stdout",
     "output_type": "stream",
     "text": [
      "1.978861889243126\n",
      "Finished training after 2300 epochs\n",
      "Finished reading the train set of COVID19 Dataset (1800 samples found, each dim = 14)\n",
      "Finished reading the dev set of COVID19 Dataset (200 samples found, each dim = 14)\n",
      "Finished reading the test set of COVID19 Dataset (500 samples found, each dim = 14)\n"
     ]
    },
    {
     "name": "stderr",
     "output_type": "stream",
     "text": [
      "\u001b[32m[I 2023-02-18 00:31:49,711]\u001b[0m Trial 25 finished with value: 0.8243152171373367 and parameters: {'hidden_dim': 88, 'batch_size': 70, 'early_stop': 130, 'lr': 0.0001, 'momentum': 0.0001, 'weight_decay': 0.01}. Best is trial 17 with value: 0.8203634470701218.\u001b[0m\n"
     ]
    },
    {
     "name": "stdout",
     "output_type": "stream",
     "text": [
      "0.8685877114534378\n",
      "Finished training after 1923 epochs\n",
      "Finished reading the train set of COVID19 Dataset (1800 samples found, each dim = 14)\n",
      "Finished reading the dev set of COVID19 Dataset (200 samples found, each dim = 14)\n",
      "Finished reading the test set of COVID19 Dataset (500 samples found, each dim = 14)\n"
     ]
    },
    {
     "name": "stderr",
     "output_type": "stream",
     "text": [
      "\u001b[32m[I 2023-02-18 00:31:58,270]\u001b[0m Trial 26 finished with value: 0.8526221066713333 and parameters: {'hidden_dim': 84, 'batch_size': 60, 'early_stop': 120, 'lr': 0.0001, 'momentum': 0.0001, 'weight_decay': 0.01}. Best is trial 17 with value: 0.8203634470701218.\u001b[0m\n"
     ]
    },
    {
     "name": "stdout",
     "output_type": "stream",
     "text": [
      "0.8843975901603699\n",
      "Finished training after 1064 epochs\n",
      "Finished reading the train set of COVID19 Dataset (1800 samples found, each dim = 14)\n",
      "Finished reading the dev set of COVID19 Dataset (200 samples found, each dim = 14)\n",
      "Finished reading the test set of COVID19 Dataset (500 samples found, each dim = 14)\n"
     ]
    },
    {
     "name": "stderr",
     "output_type": "stream",
     "text": [
      "\u001b[32m[I 2023-02-18 00:32:15,781]\u001b[0m Trial 27 finished with value: 0.8354111552238465 and parameters: {'hidden_dim': 106, 'batch_size': 80, 'early_stop': 160, 'lr': 0.0001, 'momentum': 0.0001, 'weight_decay': 0.01}. Best is trial 17 with value: 0.8203634470701218.\u001b[0m\n"
     ]
    },
    {
     "name": "stdout",
     "output_type": "stream",
     "text": [
      "0.8472009420394897\n",
      "Finished training after 2300 epochs\n",
      "Finished reading the train set of COVID19 Dataset (1800 samples found, each dim = 14)\n",
      "Finished reading the dev set of COVID19 Dataset (200 samples found, each dim = 14)\n",
      "Finished reading the test set of COVID19 Dataset (500 samples found, each dim = 14)\n"
     ]
    },
    {
     "name": "stderr",
     "output_type": "stream",
     "text": [
      "\u001b[32m[I 2023-02-18 00:32:20,290]\u001b[0m Trial 28 finished with value: 1.0325690746307372 and parameters: {'hidden_dim': 88, 'batch_size': 40, 'early_stop': 100, 'lr': 0.0001, 'momentum': 0.0001, 'weight_decay': 1.0}. Best is trial 17 with value: 0.8203634470701218.\u001b[0m\n"
     ]
    },
    {
     "name": "stdout",
     "output_type": "stream",
     "text": [
      "1.0417081475257874\n",
      "Finished training after 447 epochs\n",
      "Finished reading the train set of COVID19 Dataset (1800 samples found, each dim = 14)\n",
      "Finished reading the dev set of COVID19 Dataset (200 samples found, each dim = 14)\n",
      "Finished reading the test set of COVID19 Dataset (500 samples found, each dim = 14)\n"
     ]
    }
   ],
   "source": [
    "import optuna\n",
    "device = get_device()                 # get the current available device ('cpu' or 'cuda')\n",
    "os.makedirs('models', exist_ok=True)  # The trained model will be saved to ./models/\n",
    "modify = False                        # Need selection\n",
    "\n",
    "train_path = 'HW1.train.csv'  # path to training data\n",
    "test_path = 'HW1.test.csv'   # path to testing data\n",
    "\n",
    "def objective(trial):\n",
    "    features = 14\n",
    "    hidden_dim = trial.suggest_int(\"hidden_dim\", 20, 128,2)\n",
    "    batch_size = trial.suggest_int(\"batch_size\", 20, 200,10)\n",
    "    early_stop = trial.suggest_int(\"early_stop\", 20, 200,10)\n",
    "    lr = trial.suggest_categorical(\"lr\", [1e-6, 1e-5, 1e-4, 1e-3, 1e-2, 1e-1, 1.0])\n",
    "    momentum = trial.suggest_categorical(\"momentum\", [1e-6, 1e-5, 1e-4, 1e-3, 1e-2, 1e-1, 1.0])\n",
    "    weight_decay = trial.suggest_categorical(\"weight_decay\", [1e-6, 1e-5, 1e-4, 1e-3, 1e-2, 1e-1, 1.0])\n",
    "    \n",
    "    config = {\n",
    "    'n_epochs': 2300,                  # maximum number of epochs\n",
    "    'batch_size': batch_size,                  # mini-batch size for dataloader\n",
    "    'optimizer': 'SGD',                 # optimization algorithm (optimizer in torch.optim)\n",
    "    'optim_hparas': {                   # hyper-parameters for the optimizer (depends on which optimizer you are using)\n",
    "        'lr': lr,                     # learning rate of SGD\n",
    "        'momentum': momentum,\n",
    "        'weight_decay': weight_decay\n",
    "    },\n",
    "    'early_stop': early_stop,                  # early stopping epochs (the number epochs since your model's last improvement)\n",
    "    'save_path': 'models/model.pth'     # your model will be saved here\n",
    "    }\n",
    "    \n",
    "    \n",
    "    train_set = dataloader(train_path, features,'train', config['batch_size'], modify=True)\n",
    "    validation_set = dataloader(train_path, features,'dev', config['batch_size'], modify=True)\n",
    "    test_set = dataloader(test_path, features, 'test', config['batch_size'], modify=True)\n",
    "    \n",
    "    model = NeuralNet(train_set.dataset.dim,hidden_dim).to(device)\n",
    "    \n",
    "    model_loss, model_loss_record = train(train_set, validation_set, model, config, device)\n",
    "    \n",
    "    return model_loss\n",
    "\n",
    "# Creating Optuna object and defining its parameters\n",
    "study = optuna.create_study(direction='minimize')\n",
    "study.optimize(objective, n_trials = 200)\n",
    "\n",
    "# Showing optimization results\n",
    "print('Number of finished trials:', len(study.trials))\n",
    "print('Best trial parameters:', study.best_trial.params)\n",
    "print('Best score:', study.best_value)"
   ]
  },
  {
   "cell_type": "markdown",
   "id": "1b2f04ac",
   "metadata": {},
   "source": [
    "## Read the dataset"
   ]
  },
  {
   "cell_type": "code",
   "execution_count": 253,
   "id": "55ad5a64",
   "metadata": {
    "scrolled": true
   },
   "outputs": [
    {
     "name": "stdout",
     "output_type": "stream",
     "text": [
      "Finished reading the train set of COVID19 Dataset (1800 samples found, each dim = 14)\n",
      "Finished reading the dev set of COVID19 Dataset (200 samples found, each dim = 14)\n",
      "Finished reading the test set of COVID19 Dataset (500 samples found, each dim = 14)\n"
     ]
    }
   ],
   "source": [
    "hidden_dim = 84\n",
    "config = {\n",
    "    'n_epochs': 10000,                  # maximum number of epochs\n",
    "    'batch_size': 100,                  # mini-batch size for dataloader\n",
    "    'optimizer': 'SGD',                 # optimization algorithm (optimizer in torch.optim)\n",
    "    'optim_hparas': {                   # hyper-parameters for the optimizer (depends on which optimizer you are using)\n",
    "        'lr': 0.0001,                     # learning rate of SGD\n",
    "        'momentum': 0.1,\n",
    "        'weight_decay':1e-06\n",
    "    },\n",
    "    'early_stop': 170,                  # early stopping epochs (the number epochs since your model's last improvement)\n",
    "    'save_path': 'models/model.pth'     # your model will be saved here\n",
    "    }\n",
    "train_set = dataloader(train_path, 14,'train', config['batch_size'], modify=True)\n",
    "validation_set = dataloader(train_path, 14,'dev', config['batch_size'], modify=True)\n",
    "test_set = dataloader(test_path,14, 'test', config['batch_size'], modify=True)"
   ]
  },
  {
   "cell_type": "markdown",
   "id": "c4020f9b",
   "metadata": {},
   "source": [
    "## Try to train your DNN"
   ]
  },
  {
   "cell_type": "code",
   "execution_count": 254,
   "id": "0a27228e",
   "metadata": {},
   "outputs": [],
   "source": [
    "model = NeuralNet(train_set.dataset.dim,hidden_dim).to(device)  # Construct model and move to device"
   ]
  },
  {
   "cell_type": "code",
   "execution_count": 255,
   "id": "a6416f36",
   "metadata": {
    "scrolled": true
   },
   "outputs": [
    {
     "name": "stdout",
     "output_type": "stream",
     "text": [
      "Saving model (epoch =    1, loss = 8.5870, dev_loss = 8.5870)\n",
      "Saving model (epoch =    2, loss = 7.0563, dev_loss = 7.0563)\n",
      "Saving model (epoch =    3, loss = 5.6982, dev_loss = 5.6982)\n",
      "Saving model (epoch =    4, loss = 4.7970, dev_loss = 4.7970)\n",
      "Saving model (epoch =    5, loss = 3.9852, dev_loss = 3.9852)\n",
      "Saving model (epoch =    6, loss = 3.3644, dev_loss = 3.3644)\n",
      "Saving model (epoch =    7, loss = 3.0185, dev_loss = 3.0185)\n",
      "Saving model (epoch =    8, loss = 2.5460, dev_loss = 2.5460)\n",
      "Saving model (epoch =    9, loss = 2.2614, dev_loss = 2.2614)\n",
      "Saving model (epoch =   10, loss = 2.0760, dev_loss = 2.0760)\n",
      "Saving model (epoch =   11, loss = 1.8323, dev_loss = 1.8323)\n",
      "Saving model (epoch =   12, loss = 1.7068, dev_loss = 1.7068)\n",
      "Saving model (epoch =   13, loss = 1.6495, dev_loss = 1.6495)\n",
      "Saving model (epoch =   14, loss = 1.5204, dev_loss = 1.5204)\n",
      "Saving model (epoch =   15, loss = 1.4658, dev_loss = 1.4658)\n",
      "Saving model (epoch =   16, loss = 1.4294, dev_loss = 1.4294)\n",
      "Saving model (epoch =   18, loss = 1.3912, dev_loss = 1.3912)\n",
      "Saving model (epoch =   20, loss = 1.3711, dev_loss = 1.3711)\n",
      "Saving model (epoch =   21, loss = 1.3357, dev_loss = 1.3357)\n",
      "Saving model (epoch =   28, loss = 1.2996, dev_loss = 1.2996)\n",
      "Saving model (epoch =   33, loss = 1.2854, dev_loss = 1.2854)\n",
      "Saving model (epoch =   34, loss = 1.2833, dev_loss = 1.2833)\n",
      "Saving model (epoch =   38, loss = 1.2686, dev_loss = 1.2686)\n",
      "Saving model (epoch =   39, loss = 1.2657, dev_loss = 1.2657)\n",
      "Saving model (epoch =   41, loss = 1.2651, dev_loss = 1.2651)\n",
      "Saving model (epoch =   44, loss = 1.2509, dev_loss = 1.2509)\n",
      "Saving model (epoch =   48, loss = 1.2402, dev_loss = 1.2402)\n",
      "Saving model (epoch =   49, loss = 1.2375, dev_loss = 1.2375)\n",
      "Saving model (epoch =   52, loss = 1.2288, dev_loss = 1.2288)\n",
      "Saving model (epoch =   56, loss = 1.2176, dev_loss = 1.2176)\n",
      "Saving model (epoch =   59, loss = 1.2121, dev_loss = 1.2121)\n",
      "Saving model (epoch =   64, loss = 1.1983, dev_loss = 1.1983)\n",
      "Saving model (epoch =   67, loss = 1.1964, dev_loss = 1.1964)\n",
      "Saving model (epoch =   70, loss = 1.1832, dev_loss = 1.1832)\n",
      "Saving model (epoch =   74, loss = 1.1795, dev_loss = 1.1795)\n",
      "Saving model (epoch =   76, loss = 1.1754, dev_loss = 1.1754)\n",
      "Saving model (epoch =   79, loss = 1.1571, dev_loss = 1.1571)\n",
      "Saving model (epoch =   84, loss = 1.1508, dev_loss = 1.1508)\n",
      "Saving model (epoch =   85, loss = 1.1467, dev_loss = 1.1467)\n",
      "Saving model (epoch =   87, loss = 1.1389, dev_loss = 1.1389)\n",
      "Saving model (epoch =   89, loss = 1.1329, dev_loss = 1.1329)\n",
      "Saving model (epoch =   90, loss = 1.1300, dev_loss = 1.1300)\n",
      "Saving model (epoch =   93, loss = 1.1266, dev_loss = 1.1266)\n",
      "Saving model (epoch =   95, loss = 1.1212, dev_loss = 1.1212)\n",
      "Saving model (epoch =  101, loss = 1.1164, dev_loss = 1.1164)\n",
      "Saving model (epoch =  104, loss = 1.1099, dev_loss = 1.1099)\n",
      "Saving model (epoch =  109, loss = 1.0980, dev_loss = 1.0980)\n",
      "Saving model (epoch =  116, loss = 1.0916, dev_loss = 1.0916)\n",
      "Saving model (epoch =  117, loss = 1.0889, dev_loss = 1.0889)\n",
      "Saving model (epoch =  119, loss = 1.0826, dev_loss = 1.0826)\n",
      "Saving model (epoch =  121, loss = 1.0791, dev_loss = 1.0791)\n",
      "Saving model (epoch =  124, loss = 1.0764, dev_loss = 1.0764)\n",
      "Saving model (epoch =  126, loss = 1.0744, dev_loss = 1.0744)\n",
      "Saving model (epoch =  128, loss = 1.0722, dev_loss = 1.0722)\n",
      "Saving model (epoch =  129, loss = 1.0719, dev_loss = 1.0719)\n",
      "Saving model (epoch =  130, loss = 1.0694, dev_loss = 1.0694)\n",
      "Saving model (epoch =  131, loss = 1.0646, dev_loss = 1.0646)\n",
      "Saving model (epoch =  135, loss = 1.0593, dev_loss = 1.0593)\n",
      "Saving model (epoch =  145, loss = 1.0573, dev_loss = 1.0573)\n",
      "Saving model (epoch =  146, loss = 1.0520, dev_loss = 1.0520)\n",
      "Saving model (epoch =  147, loss = 1.0487, dev_loss = 1.0487)\n",
      "Saving model (epoch =  148, loss = 1.0421, dev_loss = 1.0421)\n",
      "Saving model (epoch =  152, loss = 1.0392, dev_loss = 1.0392)\n",
      "Saving model (epoch =  155, loss = 1.0325, dev_loss = 1.0325)\n",
      "Saving model (epoch =  156, loss = 1.0322, dev_loss = 1.0322)\n",
      "Saving model (epoch =  163, loss = 1.0254, dev_loss = 1.0254)\n",
      "Saving model (epoch =  165, loss = 1.0216, dev_loss = 1.0216)\n",
      "Saving model (epoch =  169, loss = 1.0202, dev_loss = 1.0202)\n",
      "Saving model (epoch =  176, loss = 1.0156, dev_loss = 1.0156)\n",
      "Saving model (epoch =  180, loss = 1.0084, dev_loss = 1.0084)\n",
      "Saving model (epoch =  182, loss = 1.0026, dev_loss = 1.0026)\n",
      "Saving model (epoch =  183, loss = 1.0012, dev_loss = 1.0012)\n",
      "Saving model (epoch =  187, loss = 1.0001, dev_loss = 1.0001)\n",
      "Saving model (epoch =  188, loss = 0.9969, dev_loss = 0.9969)\n",
      "Saving model (epoch =  207, loss = 0.9843, dev_loss = 0.9843)\n",
      "Saving model (epoch =  213, loss = 0.9835, dev_loss = 0.9835)\n",
      "Saving model (epoch =  216, loss = 0.9833, dev_loss = 0.9833)\n",
      "Saving model (epoch =  220, loss = 0.9789, dev_loss = 0.9789)\n",
      "Saving model (epoch =  223, loss = 0.9755, dev_loss = 0.9755)\n",
      "Saving model (epoch =  228, loss = 0.9639, dev_loss = 0.9639)\n",
      "Saving model (epoch =  231, loss = 0.9602, dev_loss = 0.9602)\n",
      "Saving model (epoch =  243, loss = 0.9510, dev_loss = 0.9510)\n",
      "Saving model (epoch =  247, loss = 0.9486, dev_loss = 0.9486)\n",
      "Saving model (epoch =  251, loss = 0.9461, dev_loss = 0.9461)\n",
      "Saving model (epoch =  252, loss = 0.9453, dev_loss = 0.9453)\n",
      "Saving model (epoch =  260, loss = 0.9398, dev_loss = 0.9398)\n",
      "Saving model (epoch =  262, loss = 0.9385, dev_loss = 0.9385)\n",
      "Saving model (epoch =  266, loss = 0.9365, dev_loss = 0.9365)\n",
      "Saving model (epoch =  268, loss = 0.9351, dev_loss = 0.9351)\n",
      "Saving model (epoch =  273, loss = 0.9341, dev_loss = 0.9341)\n",
      "Saving model (epoch =  274, loss = 0.9317, dev_loss = 0.9317)\n",
      "Saving model (epoch =  283, loss = 0.9261, dev_loss = 0.9261)\n",
      "Saving model (epoch =  290, loss = 0.9236, dev_loss = 0.9236)\n",
      "Saving model (epoch =  291, loss = 0.9223, dev_loss = 0.9223)\n",
      "Saving model (epoch =  306, loss = 0.9171, dev_loss = 0.9171)\n",
      "Saving model (epoch =  309, loss = 0.9135, dev_loss = 0.9135)\n",
      "Saving model (epoch =  316, loss = 0.9096, dev_loss = 0.9096)\n",
      "Saving model (epoch =  324, loss = 0.9068, dev_loss = 0.9068)\n",
      "Saving model (epoch =  330, loss = 0.9030, dev_loss = 0.9030)\n",
      "Saving model (epoch =  332, loss = 0.9025, dev_loss = 0.9025)\n",
      "Saving model (epoch =  341, loss = 0.9020, dev_loss = 0.9020)\n",
      "Saving model (epoch =  356, loss = 0.8957, dev_loss = 0.8957)\n",
      "Saving model (epoch =  359, loss = 0.8936, dev_loss = 0.8936)\n",
      "Saving model (epoch =  363, loss = 0.8907, dev_loss = 0.8907)\n",
      "Saving model (epoch =  365, loss = 0.8900, dev_loss = 0.8900)\n",
      "Saving model (epoch =  376, loss = 0.8872, dev_loss = 0.8872)\n",
      "Saving model (epoch =  384, loss = 0.8853, dev_loss = 0.8853)\n",
      "Saving model (epoch =  388, loss = 0.8816, dev_loss = 0.8816)\n",
      "Saving model (epoch =  394, loss = 0.8800, dev_loss = 0.8800)\n",
      "Saving model (epoch =  404, loss = 0.8777, dev_loss = 0.8777)\n",
      "Saving model (epoch =  415, loss = 0.8746, dev_loss = 0.8746)\n",
      "Saving model (epoch =  419, loss = 0.8737, dev_loss = 0.8737)\n",
      "Saving model (epoch =  421, loss = 0.8727, dev_loss = 0.8727)\n",
      "Saving model (epoch =  427, loss = 0.8708, dev_loss = 0.8708)\n",
      "Saving model (epoch =  435, loss = 0.8707, dev_loss = 0.8707)\n",
      "Saving model (epoch =  441, loss = 0.8696, dev_loss = 0.8696)\n",
      "Saving model (epoch =  445, loss = 0.8673, dev_loss = 0.8673)\n",
      "Saving model (epoch =  456, loss = 0.8655, dev_loss = 0.8655)\n",
      "Saving model (epoch =  457, loss = 0.8653, dev_loss = 0.8653)\n",
      "Saving model (epoch =  495, loss = 0.8621, dev_loss = 0.8621)\n",
      "Saving model (epoch =  498, loss = 0.8616, dev_loss = 0.8616)\n",
      "Saving model (epoch =  500, loss = 0.8614, dev_loss = 0.8614)\n",
      "Saving model (epoch =  512, loss = 0.8603, dev_loss = 0.8603)\n",
      "Saving model (epoch =  528, loss = 0.8569, dev_loss = 0.8569)\n",
      "Saving model (epoch =  537, loss = 0.8543, dev_loss = 0.8543)\n",
      "Saving model (epoch =  541, loss = 0.8533, dev_loss = 0.8533)\n",
      "Saving model (epoch =  549, loss = 0.8527, dev_loss = 0.8527)\n",
      "Saving model (epoch =  553, loss = 0.8516, dev_loss = 0.8516)\n",
      "Saving model (epoch =  560, loss = 0.8516, dev_loss = 0.8516)\n",
      "Saving model (epoch =  564, loss = 0.8511, dev_loss = 0.8511)\n",
      "Saving model (epoch =  577, loss = 0.8505, dev_loss = 0.8505)\n",
      "Saving model (epoch =  579, loss = 0.8486, dev_loss = 0.8486)\n",
      "Saving model (epoch =  588, loss = 0.8484, dev_loss = 0.8484)\n",
      "Saving model (epoch =  597, loss = 0.8471, dev_loss = 0.8471)\n"
     ]
    },
    {
     "name": "stdout",
     "output_type": "stream",
     "text": [
      "Saving model (epoch =  625, loss = 0.8441, dev_loss = 0.8441)\n",
      "Saving model (epoch =  637, loss = 0.8435, dev_loss = 0.8435)\n",
      "Saving model (epoch =  654, loss = 0.8433, dev_loss = 0.8433)\n",
      "Saving model (epoch =  656, loss = 0.8423, dev_loss = 0.8423)\n",
      "Saving model (epoch =  660, loss = 0.8419, dev_loss = 0.8419)\n",
      "Saving model (epoch =  669, loss = 0.8413, dev_loss = 0.8413)\n",
      "Saving model (epoch =  676, loss = 0.8412, dev_loss = 0.8412)\n",
      "Saving model (epoch =  694, loss = 0.8402, dev_loss = 0.8402)\n",
      "Saving model (epoch =  697, loss = 0.8397, dev_loss = 0.8397)\n",
      "Saving model (epoch =  723, loss = 0.8388, dev_loss = 0.8388)\n",
      "Saving model (epoch =  754, loss = 0.8375, dev_loss = 0.8375)\n",
      "Saving model (epoch =  767, loss = 0.8365, dev_loss = 0.8365)\n",
      "Saving model (epoch =  808, loss = 0.8357, dev_loss = 0.8357)\n",
      "Saving model (epoch =  814, loss = 0.8356, dev_loss = 0.8356)\n",
      "Saving model (epoch =  838, loss = 0.8355, dev_loss = 0.8355)\n",
      "Saving model (epoch =  855, loss = 0.8350, dev_loss = 0.8350)\n",
      "Saving model (epoch =  877, loss = 0.8342, dev_loss = 0.8342)\n",
      "Saving model (epoch =  884, loss = 0.8342, dev_loss = 0.8342)\n",
      "Saving model (epoch =  893, loss = 0.8340, dev_loss = 0.8340)\n",
      "Saving model (epoch =  911, loss = 0.8335, dev_loss = 0.8335)\n",
      "Saving model (epoch =  965, loss = 0.8329, dev_loss = 0.8329)\n",
      "Saving model (epoch =  978, loss = 0.8325, dev_loss = 0.8325)\n",
      "Saving model (epoch =  982, loss = 0.8322, dev_loss = 0.8322)\n",
      "Saving model (epoch = 1016, loss = 0.8319, dev_loss = 0.8319)\n",
      "Saving model (epoch = 1018, loss = 0.8318, dev_loss = 0.8318)\n",
      "Saving model (epoch = 1033, loss = 0.8317, dev_loss = 0.8317)\n",
      "Saving model (epoch = 1039, loss = 0.8312, dev_loss = 0.8312)\n",
      "Saving model (epoch = 1108, loss = 0.8310, dev_loss = 0.8310)\n",
      "Saving model (epoch = 1127, loss = 0.8305, dev_loss = 0.8305)\n",
      "Saving model (epoch = 1131, loss = 0.8304, dev_loss = 0.8304)\n",
      "0.8359007239341736\n",
      "Finished training after 1302 epochs\n"
     ]
    }
   ],
   "source": [
    "model_loss, model_loss_record = train(train_set, validation_set, model, config, device)\n"
   ]
  },
  {
   "cell_type": "code",
   "execution_count": 256,
   "id": "2881054f",
   "metadata": {},
   "outputs": [
    {
     "data": {
      "image/png": "[encoded data removed]",
      "text/plain": [
       "<Figure size 600x400 with 1 Axes>"
      ]
     },
     "metadata": {},
     "output_type": "display_data"
    }
   ],
   "source": [
    "plot_learning_curve(model_loss_record, title='deep model')"
   ]
  },
  {
   "cell_type": "code",
   "execution_count": 257,
   "id": "f1bee712",
   "metadata": {},
   "outputs": [
    {
     "data": {
      "image/png": "[encoded data removed]",
      "text/plain": [
       "<Figure size 500x500 with 1 Axes>"
      ]
     },
     "metadata": {},
     "output_type": "display_data"
    }
   ],
   "source": [
    "del model\n",
    "model = NeuralNet(train_set.dataset.dim,hidden_dim).to(device)\n",
    "ckpt = torch.load(config['save_path'], map_location='cpu')  # Load your best model\n",
    "model.load_state_dict(ckpt)\n",
    "plot_pred(validation_set, model, device)  # Show prediction on the validation set"
   ]
  },
  {
   "cell_type": "markdown",
   "id": "31261f5f",
   "metadata": {},
   "source": [
    "## Testing\n",
    "Get the prediction result and save it to csv file named 'prediction.csv'"
   ]
  },
  {
   "cell_type": "code",
   "execution_count": 259,
   "id": "a6acc3b6",
   "metadata": {},
   "outputs": [
    {
     "name": "stdout",
     "output_type": "stream",
     "text": [
      "Saving results to prediction.csv\n"
     ]
    }
   ],
   "source": [
    "def save_pred(preds, file):\n",
    "    print('Saving results to {}'.format(file))\n",
    "    with open(file, 'w') as fp:\n",
    "        writer = csv.writer(fp)\n",
    "        writer.writerow(['id', 'tested_positive'])\n",
    "        for i, p in enumerate(preds):\n",
    "            writer.writerow([i, p])\n",
    "\n",
    "preds = test(test_set, model, device)  # predict COVID-19 cases with your model\n",
    "save_pred(preds, 'prediction.csv')         # save prediction file to pred.csv"
   ]
  },
  {
   "cell_type": "code",
   "execution_count": 252,
   "id": "88bf2f27",
   "metadata": {},
   "outputs": [
    {
     "data": {
      "text/plain": [
       "NeuralNet(\n",
       "  (net): Sequential(\n",
       "    (0): Linear(in_features=26, out_features=47, bias=True)\n",
       "    (1): ReLU()\n",
       "    (2): Linear(in_features=47, out_features=1, bias=True)\n",
       "  )\n",
       "  (criterion): MSELoss()\n",
       ")"
      ]
     },
     "execution_count": 252,
     "metadata": {},
     "output_type": "execute_result"
    }
   ],
   "source": [
    "model.eval()"
   ]
  },
  {
   "cell_type": "markdown",
   "id": "7340932d",
   "metadata": {},
   "source": [
    "## Hints for better result\n",
    "* Feature selection\n",
    "* DNN architecture\n",
    "* Training (mini-batch/optimizer/learning rate)\n",
    "* Regularization"
   ]
  }
 ],
 "metadata": {
  "kernelspec": {
   "display_name": "Python 3 (ipykernel)",
   "language": "python",
   "name": "python3"
  },
  "language_info": {
   "codemirror_mode": {
    "name": "ipython",
    "version": 3
   },
   "file_extension": ".py",
   "mimetype": "text/x-python",
   "name": "python",
   "nbconvert_exporter": "python",
   "pygments_lexer": "ipython3",
   "version": "3.9.0"
  },
  "vscode": {
   "interpreter": {
    "hash": "dec76cbff7fd00a9f0e0ca5e0160884888f12244eabd59eecc9f974d0f3fdba0"
   }
  }
 },
 "nbformat": 4,
 "nbformat_minor": 5
}
