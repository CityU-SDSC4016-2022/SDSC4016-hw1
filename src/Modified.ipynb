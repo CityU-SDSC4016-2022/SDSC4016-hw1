{
 "cells": [
  {
   "attachments": {},
   "cell_type": "markdown",
   "id": "42b67c5d",
   "metadata": {},
   "source": [
    "# Baseline Code for HW1\n",
    "\n",
    "This is just the baseline code to set up the basic function you need. You need to modify the code yourself to achieve a better result.\n"
   ]
  },
  {
   "attachments": {},
   "cell_type": "markdown",
   "id": "d88ab3a2",
   "metadata": {},
   "source": [
    "## Import packages you need\n"
   ]
  },
  {
   "cell_type": "code",
   "execution_count": 1,
   "id": "b63ef26d",
   "metadata": {},
   "outputs": [],
   "source": [
    "# PyTorch\n",
    "import torch\n",
    "import torch.nn as nn\n",
    "from torch.utils.data import Dataset, DataLoader\n",
    "\n",
    "# For data preprocess\n",
    "import numpy as np\n",
    "import csv\n",
    "import os\n",
    "\n",
    "# For plotting\n",
    "import matplotlib.pyplot as plt\n",
    "from matplotlib.pyplot import figure\n",
    "\n",
    "myseed = 666  # set a random seed for reproducibility\n",
    "torch.backends.cudnn.deterministic = True\n",
    "torch.backends.cudnn.benchmark = False\n",
    "np.random.seed(myseed)\n",
    "torch.manual_seed(myseed)\n",
    "if torch.cuda.is_available():\n",
    "    torch.cuda.manual_seed_all(myseed)\n"
   ]
  },
  {
   "cell_type": "code",
   "execution_count": 2,
   "id": "f2f8d51e",
   "metadata": {},
   "outputs": [],
   "source": [
    "import pandas as pd\n",
    "from sklearn import preprocessing\n",
    "from sklearn.feature_selection import SelectKBest\n",
    "from sklearn.feature_selection import f_regression\n"
   ]
  },
  {
   "attachments": {},
   "cell_type": "markdown",
   "id": "0bad5f7a",
   "metadata": {},
   "source": [
    "## Show current device name\n"
   ]
  },
  {
   "cell_type": "code",
   "execution_count": 3,
   "id": "7bb581ce",
   "metadata": {},
   "outputs": [
    {
     "data": {
      "text/plain": [
       "'NVIDIA GeForce RTX 3080 Ti'"
      ]
     },
     "execution_count": 3,
     "metadata": {},
     "output_type": "execute_result"
    }
   ],
   "source": [
    "torch.cuda.get_device_name(0)\n"
   ]
  },
  {
   "attachments": {},
   "cell_type": "markdown",
   "id": "f4af96d7",
   "metadata": {},
   "source": [
    "## Basic Function\n",
    "\n",
    "Do not modify this part\n"
   ]
  },
  {
   "cell_type": "code",
   "execution_count": 4,
   "id": "7c6e7cae",
   "metadata": {},
   "outputs": [],
   "source": [
    "def get_device():\n",
    "    ''' Get device (if GPU is available, use GPU) '''\n",
    "    return 'cuda' if torch.cuda.is_available() else 'cpu'\n",
    "\n",
    "\n",
    "def plot_learning_curve(loss_record, title=''):\n",
    "    ''' Plot learning curve of your DNN (train & dev loss) '''\n",
    "    total_steps = len(loss_record['train'])\n",
    "    x_1 = range(total_steps)\n",
    "    x_2 = x_1[::len(loss_record['train']) // len(loss_record['dev'])]\n",
    "    figure(figsize=(6, 4))\n",
    "    plt.plot(x_1, loss_record['train'], c='tab:red', label='train')\n",
    "    plt.plot(x_2, loss_record['dev'], c='tab:cyan', label='dev')\n",
    "    plt.ylim(0.0, 5.)\n",
    "    plt.xlabel('Training steps')\n",
    "    plt.ylabel('MSE loss')\n",
    "    plt.title('Learning curve of {}'.format(title))\n",
    "    plt.legend()\n",
    "    plt.show()\n",
    "\n",
    "\n",
    "def plot_pred(dv_set, model, device, lim=35., preds=None, targets=None):\n",
    "    ''' Plot prediction of your DNN '''\n",
    "    if preds is None or targets is None:\n",
    "        model.eval()\n",
    "        preds, targets = [], []\n",
    "        for x, y in dv_set:\n",
    "            x, y = x.to(device), y.to(device)\n",
    "            with torch.no_grad():\n",
    "                pred = model(x)\n",
    "                preds.append(pred.detach().cpu())\n",
    "                targets.append(y.detach().cpu())\n",
    "        preds = torch.cat(preds, dim=0).numpy()\n",
    "        targets = torch.cat(targets, dim=0).numpy()\n",
    "\n",
    "    figure(figsize=(5, 5))\n",
    "    plt.scatter(targets, preds, c='r', alpha=0.5)\n",
    "    plt.plot([-0.2, lim], [-0.2, lim], c='b')\n",
    "    plt.xlim(-0.2, lim)\n",
    "    plt.ylim(-0.2, lim)\n",
    "    plt.xlabel('Truth value')\n",
    "    plt.ylabel('predicted value')\n",
    "    plt.title('Truth v.s. Prediction')\n",
    "    plt.show()\n"
   ]
  },
  {
   "attachments": {},
   "cell_type": "markdown",
   "id": "84bd9695",
   "metadata": {},
   "source": [
    "## Data and Preprocess\n",
    "\n",
    "The function below used to:\n",
    "\n",
    "1. Read the csv files into python\n",
    "2. Choose features (you can choose yourself)\n",
    "3. Split data into training and validation sets.\n",
    "4. Normalization\n"
   ]
  },
  {
   "cell_type": "code",
   "execution_count": 5,
   "id": "59282174",
   "metadata": {},
   "outputs": [],
   "source": [
    "# Features selection\n",
    "numBestFeat = 26\n"
   ]
  },
  {
   "cell_type": "code",
   "execution_count": 6,
   "id": "5978b2bb",
   "metadata": {},
   "outputs": [],
   "source": [
    "# Select K best features\n",
    "def getKBestFeatures(path: str, k: int):\n",
    "    dataPre = pd.read_csv(path)\n",
    "    dataPre = pd.DataFrame(preprocessing.MinMaxScaler().fit_transform(dataPre))\n",
    "    dataPreX = dataPre.iloc[:, 41:94]\n",
    "    dataPreY = dataPre.iloc[:, -1]\n",
    "    dataPrefit = SelectKBest(f_regression, k=5).fit(dataPreX, dataPreY)\n",
    "    featScore = pd.DataFrame(dataPrefit.scores_, index=dataPreX.columns, columns=[\"Score\"])\n",
    "    return list(featScore.nlargest(k, \"Score\").index - 1)\n"
   ]
  },
  {
   "cell_type": "code",
   "execution_count": 7,
   "id": "127739cf",
   "metadata": {},
   "outputs": [],
   "source": [
    "class Dataprocess(Dataset):\n",
    "    def __init__(self,\n",
    "                 path,\n",
    "                 mode='train',\n",
    "                 modify=False):\n",
    "        self.mode = mode\n",
    "\n",
    "        # Read csv file\n",
    "        with open(path, 'r') as f:\n",
    "            data = list(csv.reader(f))\n",
    "            data = np.array(data[1:])[:, 1:].astype(float)\n",
    "\n",
    "        if modify == False:\n",
    "            feats = list(range(93))\n",
    "        else:\n",
    "            # Hint:Feature Selection\n",
    "            # feats = list(range(40, 93))\n",
    "            feats = getKBestFeatures(path, numBestFeat)\n",
    "\n",
    "        if mode == 'test':\n",
    "            # Testing set\n",
    "            data = data[:, feats]\n",
    "            self.data = torch.FloatTensor(data)\n",
    "        else:\n",
    "            # Training set\n",
    "            target = data[:, -1]\n",
    "            data = data[:, feats]\n",
    "\n",
    "            # Splitting data into training and validation sets\n",
    "            if mode == 'train':\n",
    "                indices = [i for i in range(len(data)) if i % 10 != 0]\n",
    "            elif mode == 'dev':\n",
    "                indices = [i for i in range(len(data)) if i % 10 == 0]\n",
    "\n",
    "            # Convert data into PyTorch tensors\n",
    "            self.data = torch.FloatTensor(data[indices])\n",
    "            self.target = torch.FloatTensor(target[indices])\n",
    "\n",
    "        # Normalize features\n",
    "        self.data[:, 40:] = \\\n",
    "            (self.data[:, 40:] - self.data[:, 40:].mean(dim=0, keepdim=True)) \\\n",
    "            / self.data[:, 40:].std(dim=0, keepdim=True)\n",
    "\n",
    "        self.dim = self.data.shape[1]\n",
    "\n",
    "        print('Finished reading the {} set of COVID19 Dataset ({} samples found, each dim = {})'\n",
    "              .format(mode, len(self.data), self.dim))\n",
    "\n",
    "    def __getitem__(self, index):\n",
    "        # Returns one sample at a time\n",
    "        if self.mode in ['train', 'dev']:\n",
    "            # For training\n",
    "            return self.data[index], self.target[index]\n",
    "        else:\n",
    "            # For testing\n",
    "            return self.data[index]\n",
    "\n",
    "    def __len__(self):\n",
    "        # Returns the size of the dataset\n",
    "        return len(self.data)\n"
   ]
  },
  {
   "attachments": {},
   "cell_type": "markdown",
   "id": "dd6939cf",
   "metadata": {},
   "source": [
    "## Dataloader\n",
    "\n",
    "Loads data into batches.\n"
   ]
  },
  {
   "cell_type": "code",
   "execution_count": 8,
   "id": "a5123b30",
   "metadata": {},
   "outputs": [],
   "source": [
    "def dataloader(path, mode, batch_size, n_jobs=0, modify=False):\n",
    "    dataset = Dataprocess(path, mode=mode, modify=modify)\n",
    "    dataloader = DataLoader(\n",
    "        dataset, batch_size,\n",
    "        shuffle=(mode == 'train'), drop_last=False,\n",
    "        num_workers=n_jobs, pin_memory=True)\n",
    "    return dataloader\n"
   ]
  },
  {
   "attachments": {},
   "cell_type": "markdown",
   "id": "3683c933",
   "metadata": {},
   "source": [
    "## Define DNN by pytorch\n",
    "\n",
    "The DNN consists of 2 fully-connected layers with ReLU activation function\n"
   ]
  },
  {
   "cell_type": "code",
   "execution_count": 9,
   "id": "a18d0f3a",
   "metadata": {},
   "outputs": [],
   "source": [
    "class NeuralNet(nn.Module):\n",
    "    def __init__(self, input_dim):\n",
    "        super(NeuralNet, self).__init__()\n",
    "\n",
    "        # Try to modify this DNN to achieve better performance\n",
    "        self.net = nn.Sequential(\n",
    "            nn.Linear(input_dim, 47),\n",
    "            nn.ReLU(),\n",
    "            nn.Linear(47, 1)\n",
    "        )\n",
    "\n",
    "        # Loss function MSE\n",
    "        self.criterion = nn.MSELoss(reduction='mean')\n",
    "\n",
    "    def forward(self, x):\n",
    "        ''' Given input of size (batch_size x input_dim), compute output of the network '''\n",
    "        return self.net(x).squeeze(1)\n",
    "\n",
    "    def cal_loss(self, pred, target):\n",
    "        ''' Calculate loss '''\n",
    "        # You may try regularization here\n",
    "        return self.criterion(pred, target)\n"
   ]
  },
  {
   "attachments": {},
   "cell_type": "markdown",
   "id": "a0f886bb",
   "metadata": {},
   "source": [
    "## Validation\n"
   ]
  },
  {
   "cell_type": "code",
   "execution_count": 10,
   "id": "0339c829",
   "metadata": {},
   "outputs": [],
   "source": [
    "def dev(dv_set, model, device):\n",
    "    model.eval()                                # set model to evalutation mode\n",
    "    total_loss = 0\n",
    "    for x, y in dv_set:                         # iterate through the dataloader\n",
    "        x, y = x.to(device), y.to(device)       # move data to device (cpu/cuda)\n",
    "        with torch.no_grad():                   # disable gradient calculation\n",
    "            pred = model(x)                     # forward pass (compute output)\n",
    "            mse_loss = model.cal_loss(pred, y)  # compute loss\n",
    "        total_loss += mse_loss.detach().cpu().item() * len(x)  # accumulate loss\n",
    "    total_loss = total_loss / len(dv_set.dataset)              # compute averaged loss\n",
    "\n",
    "    return total_loss\n"
   ]
  },
  {
   "attachments": {},
   "cell_type": "markdown",
   "id": "8625e04c",
   "metadata": {},
   "source": [
    "## Training\n"
   ]
  },
  {
   "cell_type": "code",
   "execution_count": 11,
   "id": "42034751",
   "metadata": {},
   "outputs": [],
   "source": [
    "def train(tr_set, dv_set, model, config, device):\n",
    "\n",
    "    n_epochs = config['n_epochs']  # Maximum number of epochs\n",
    "\n",
    "    # Setup optimizer\n",
    "    optimizer = getattr(torch.optim, config['optimizer'])(\n",
    "        model.parameters(), **config['optim_hparas'])\n",
    "\n",
    "    min_mse = 1000.\n",
    "    loss_record = {'train': [], 'dev': []}      # for recording training loss\n",
    "    early_stop_cnt = 0\n",
    "    epoch = 0\n",
    "    while epoch < n_epochs:\n",
    "        model.train()                           # set model to training mode\n",
    "        for x, y in tr_set:                     # iterate through the dataloader\n",
    "            optimizer.zero_grad()               # set gradient to zero\n",
    "            x, y = x.to(device), y.to(device)   # move data to device (cpu/cuda)\n",
    "            pred = model(x)                     # forward pass (compute output)\n",
    "            mse_loss = model.cal_loss(pred, y)  # compute loss\n",
    "            mse_loss.backward()                 # compute gradient (backpropagation)\n",
    "            optimizer.step()                    # update model with optimizer\n",
    "            loss_record['train'].append(mse_loss.detach().cpu().item())\n",
    "\n",
    "        dev_mse = dev(dv_set, model, device)\n",
    "        if dev_mse < min_mse:\n",
    "            # Save model if your model improved\n",
    "            min_mse = dev_mse\n",
    "            print('Saving model (epoch = {:4d}, loss = {:.4f})'\n",
    "                  .format(epoch + 1, min_mse))\n",
    "            torch.save(model.state_dict(), config['save_path'])  # Save model to specified path\n",
    "            early_stop_cnt = 0\n",
    "        else:\n",
    "            early_stop_cnt += 1\n",
    "\n",
    "        epoch += 1\n",
    "        loss_record['dev'].append(dev_mse)\n",
    "        if early_stop_cnt > config['early_stop']:\n",
    "            break\n",
    "\n",
    "    print('Finished training after {} epochs'.format(epoch))\n",
    "    return min_mse, loss_record\n"
   ]
  },
  {
   "attachments": {},
   "cell_type": "markdown",
   "id": "997f8430",
   "metadata": {},
   "source": [
    "## Testing\n"
   ]
  },
  {
   "cell_type": "code",
   "execution_count": 12,
   "id": "841528bf",
   "metadata": {},
   "outputs": [],
   "source": [
    "def test(tt_set, model, device):\n",
    "    model.eval()                                # set model to evalutation mode\n",
    "    preds = []\n",
    "    for x in tt_set:                            # iterate through the dataloader\n",
    "        x = x.to(device)                        # move data to device (cpu/cuda)\n",
    "        with torch.no_grad():                   # disable gradient calculation\n",
    "            pred = model(x)                     # forward pass (compute output)\n",
    "            preds.append(pred.detach().cpu())   # collect prediction\n",
    "    preds = torch.cat(preds, dim=0).numpy()     # concatenate all predictions and convert to a numpy array\n",
    "    return preds\n"
   ]
  },
  {
   "cell_type": "markdown",
   "id": "a0aed462",
   "metadata": {},
   "source": [
    "## Hyper-parameters for DNN\n"
   ]
  },
  {
   "cell_type": "code",
   "execution_count": 13,
   "id": "bde81b48",
   "metadata": {},
   "outputs": [],
   "source": [
    "device = get_device()                   # get the current available device ('cpu' or 'cuda')\n",
    "os.makedirs('models', exist_ok=True)    # The trained model will be saved to ./models/\n",
    "modify = True                           # Need selection\n",
    "\n",
    "# Tune these hyper-parameters to improve your model\n",
    "config = {\n",
    "    'n_epochs': 5000,                   # maximum number of epochs\n",
    "    'batch_size': 100,                  # mini-batch size for dataloader\n",
    "    'optimizer': 'SGD',                 # optimization algorithm (optimizer in torch.optim)\n",
    "    'optim_hparas': {                   # hyper-parameters for the optimizer (depends on which optimizer you are using)\n",
    "        'lr': 1e-4,                     # learning rate of SGD\n",
    "        'momentum': 0.5,\n",
    "        'weight_decay': 1e-3\n",
    "    },\n",
    "    'early_stop': 100,                  # early stopping epochs (the number epochs since your model's last improvement)\n",
    "    'save_path': 'models/model.pth'     # your model will be saved here\n",
    "}\n"
   ]
  },
  {
   "attachments": {},
   "cell_type": "markdown",
   "id": "1b2f04ac",
   "metadata": {},
   "source": [
    "## Read the dataset\n"
   ]
  },
  {
   "cell_type": "code",
   "execution_count": 14,
   "id": "55ad5a64",
   "metadata": {
    "scrolled": true
   },
   "outputs": [
    {
     "name": "stdout",
     "output_type": "stream",
     "text": [
      "Finished reading the train set of COVID19 Dataset (1800 samples found, each dim = 26)\n",
      "Finished reading the dev set of COVID19 Dataset (200 samples found, each dim = 26)\n",
      "Finished reading the test set of COVID19 Dataset (500 samples found, each dim = 26)\n"
     ]
    }
   ],
   "source": [
    "train_path = '../data/HW1.train.csv'  # path to training data\n",
    "test_path = '../data/HW1.test.csv'   # path to testing data\n",
    "\n",
    "train_set = dataloader(train_path, 'train', config['batch_size'], modify=modify)\n",
    "validation_set = dataloader(train_path, 'dev', config['batch_size'], modify=modify)\n",
    "test_set = dataloader(test_path, 'test', config['batch_size'], modify=modify)\n"
   ]
  },
  {
   "attachments": {},
   "cell_type": "markdown",
   "id": "c4020f9b",
   "metadata": {},
   "source": [
    "## Try to train your DNN\n"
   ]
  },
  {
   "cell_type": "code",
   "execution_count": 15,
   "id": "0a27228e",
   "metadata": {},
   "outputs": [],
   "source": [
    "model = NeuralNet(train_set.dataset.dim).to(device)  # Construct model and move to device\n"
   ]
  },
  {
   "cell_type": "code",
   "execution_count": 16,
   "id": "a6416f36",
   "metadata": {},
   "outputs": [
    {
     "name": "stdout",
     "output_type": "stream",
     "text": [
      "Saving model (epoch =    1, loss = 10.1088)\n",
      "Saving model (epoch =    2, loss = 7.6011)\n",
      "Saving model (epoch =    4, loss = 5.2071)\n",
      "Saving model (epoch =    5, loss = 4.7173)\n",
      "Saving model (epoch =    6, loss = 3.9206)\n",
      "Saving model (epoch =    7, loss = 3.2867)\n",
      "Saving model (epoch =    8, loss = 2.8649)\n",
      "Saving model (epoch =    9, loss = 2.5731)\n",
      "Saving model (epoch =   10, loss = 2.2875)\n",
      "Saving model (epoch =   12, loss = 2.2793)\n",
      "Saving model (epoch =   13, loss = 1.8780)\n",
      "Saving model (epoch =   15, loss = 1.7457)\n",
      "Saving model (epoch =   18, loss = 1.5982)\n",
      "Saving model (epoch =   22, loss = 1.5006)\n",
      "Saving model (epoch =   41, loss = 1.4117)\n",
      "Saving model (epoch =   45, loss = 1.3891)\n",
      "Saving model (epoch =   48, loss = 1.3697)\n",
      "Saving model (epoch =   54, loss = 1.3450)\n",
      "Saving model (epoch =   63, loss = 1.3388)\n",
      "Saving model (epoch =   65, loss = 1.3194)\n",
      "Saving model (epoch =   72, loss = 1.2982)\n",
      "Saving model (epoch =   74, loss = 1.2923)\n",
      "Saving model (epoch =   78, loss = 1.2890)\n",
      "Saving model (epoch =   82, loss = 1.2848)\n",
      "Saving model (epoch =   90, loss = 1.2681)\n",
      "Saving model (epoch =   94, loss = 1.2536)\n",
      "Saving model (epoch =   99, loss = 1.2464)\n",
      "Saving model (epoch =  112, loss = 1.2370)\n",
      "Saving model (epoch =  113, loss = 1.2365)\n",
      "Saving model (epoch =  116, loss = 1.2301)\n",
      "Saving model (epoch =  117, loss = 1.2168)\n",
      "Saving model (epoch =  122, loss = 1.2122)\n",
      "Saving model (epoch =  124, loss = 1.2053)\n",
      "Saving model (epoch =  131, loss = 1.1974)\n",
      "Saving model (epoch =  137, loss = 1.1908)\n",
      "Saving model (epoch =  143, loss = 1.1895)\n",
      "Saving model (epoch =  145, loss = 1.1888)\n",
      "Saving model (epoch =  147, loss = 1.1818)\n",
      "Saving model (epoch =  149, loss = 1.1818)\n",
      "Saving model (epoch =  155, loss = 1.1792)\n",
      "Saving model (epoch =  157, loss = 1.1766)\n",
      "Saving model (epoch =  159, loss = 1.1615)\n",
      "Saving model (epoch =  165, loss = 1.1579)\n",
      "Saving model (epoch =  166, loss = 1.1578)\n",
      "Saving model (epoch =  182, loss = 1.1394)\n",
      "Saving model (epoch =  190, loss = 1.1303)\n",
      "Saving model (epoch =  193, loss = 1.1299)\n",
      "Saving model (epoch =  197, loss = 1.1225)\n",
      "Saving model (epoch =  218, loss = 1.1042)\n",
      "Saving model (epoch =  224, loss = 1.1042)\n",
      "Saving model (epoch =  231, loss = 1.0949)\n",
      "Saving model (epoch =  236, loss = 1.0946)\n",
      "Saving model (epoch =  248, loss = 1.0814)\n",
      "Saving model (epoch =  251, loss = 1.0811)\n",
      "Saving model (epoch =  264, loss = 1.0736)\n",
      "Saving model (epoch =  268, loss = 1.0731)\n",
      "Saving model (epoch =  274, loss = 1.0684)\n",
      "Saving model (epoch =  284, loss = 1.0623)\n",
      "Saving model (epoch =  285, loss = 1.0559)\n",
      "Saving model (epoch =  303, loss = 1.0480)\n",
      "Saving model (epoch =  304, loss = 1.0458)\n",
      "Saving model (epoch =  318, loss = 1.0433)\n",
      "Saving model (epoch =  319, loss = 1.0385)\n",
      "Saving model (epoch =  322, loss = 1.0347)\n",
      "Saving model (epoch =  325, loss = 1.0342)\n",
      "Saving model (epoch =  330, loss = 1.0311)\n",
      "Saving model (epoch =  342, loss = 1.0262)\n",
      "Saving model (epoch =  366, loss = 1.0160)\n",
      "Saving model (epoch =  374, loss = 1.0099)\n",
      "Saving model (epoch =  391, loss = 1.0068)\n",
      "Saving model (epoch =  392, loss = 1.0050)\n",
      "Saving model (epoch =  393, loss = 1.0021)\n",
      "Saving model (epoch =  403, loss = 0.9980)\n",
      "Saving model (epoch =  408, loss = 0.9978)\n",
      "Saving model (epoch =  411, loss = 0.9971)\n",
      "Saving model (epoch =  416, loss = 0.9914)\n",
      "Saving model (epoch =  419, loss = 0.9897)\n",
      "Saving model (epoch =  430, loss = 0.9854)\n",
      "Saving model (epoch =  442, loss = 0.9825)\n",
      "Saving model (epoch =  448, loss = 0.9764)\n",
      "Saving model (epoch =  468, loss = 0.9728)\n",
      "Saving model (epoch =  472, loss = 0.9704)\n",
      "Saving model (epoch =  479, loss = 0.9704)\n",
      "Saving model (epoch =  481, loss = 0.9658)\n",
      "Saving model (epoch =  488, loss = 0.9652)\n",
      "Saving model (epoch =  497, loss = 0.9609)\n",
      "Saving model (epoch =  512, loss = 0.9607)\n",
      "Saving model (epoch =  515, loss = 0.9552)\n",
      "Saving model (epoch =  524, loss = 0.9538)\n",
      "Saving model (epoch =  539, loss = 0.9461)\n",
      "Saving model (epoch =  557, loss = 0.9455)\n",
      "Saving model (epoch =  558, loss = 0.9447)\n",
      "Saving model (epoch =  571, loss = 0.9397)\n",
      "Saving model (epoch =  574, loss = 0.9385)\n",
      "Saving model (epoch =  579, loss = 0.9377)\n",
      "Saving model (epoch =  584, loss = 0.9371)\n",
      "Saving model (epoch =  585, loss = 0.9363)\n",
      "Saving model (epoch =  601, loss = 0.9340)\n",
      "Saving model (epoch =  626, loss = 0.9294)\n",
      "Saving model (epoch =  635, loss = 0.9265)\n",
      "Saving model (epoch =  643, loss = 0.9261)\n",
      "Saving model (epoch =  657, loss = 0.9235)\n",
      "Saving model (epoch =  671, loss = 0.9209)\n",
      "Saving model (epoch =  676, loss = 0.9196)\n",
      "Saving model (epoch =  698, loss = 0.9184)\n",
      "Saving model (epoch =  702, loss = 0.9169)\n",
      "Saving model (epoch =  719, loss = 0.9136)\n",
      "Saving model (epoch =  724, loss = 0.9120)\n",
      "Saving model (epoch =  735, loss = 0.9103)\n",
      "Saving model (epoch =  759, loss = 0.9075)\n",
      "Saving model (epoch =  761, loss = 0.9075)\n",
      "Saving model (epoch =  766, loss = 0.9073)\n",
      "Saving model (epoch =  776, loss = 0.9041)\n",
      "Saving model (epoch =  789, loss = 0.9024)\n",
      "Saving model (epoch =  790, loss = 0.9002)\n",
      "Saving model (epoch =  804, loss = 0.8995)\n",
      "Saving model (epoch =  840, loss = 0.8987)\n",
      "Saving model (epoch =  849, loss = 0.8949)\n",
      "Saving model (epoch =  868, loss = 0.8932)\n",
      "Saving model (epoch =  900, loss = 0.8926)\n",
      "Saving model (epoch =  905, loss = 0.8920)\n",
      "Saving model (epoch =  907, loss = 0.8913)\n",
      "Saving model (epoch =  910, loss = 0.8903)\n",
      "Saving model (epoch =  923, loss = 0.8889)\n",
      "Saving model (epoch =  930, loss = 0.8878)\n",
      "Saving model (epoch =  953, loss = 0.8863)\n",
      "Saving model (epoch =  971, loss = 0.8862)\n",
      "Saving model (epoch =  978, loss = 0.8844)\n",
      "Saving model (epoch =  994, loss = 0.8839)\n",
      "Saving model (epoch = 1009, loss = 0.8831)\n",
      "Saving model (epoch = 1032, loss = 0.8826)\n",
      "Saving model (epoch = 1043, loss = 0.8820)\n",
      "Saving model (epoch = 1047, loss = 0.8814)\n",
      "Saving model (epoch = 1063, loss = 0.8812)\n",
      "Saving model (epoch = 1067, loss = 0.8797)\n",
      "Saving model (epoch = 1102, loss = 0.8776)\n",
      "Saving model (epoch = 1137, loss = 0.8765)\n",
      "Saving model (epoch = 1142, loss = 0.8762)\n",
      "Saving model (epoch = 1156, loss = 0.8751)\n",
      "Saving model (epoch = 1167, loss = 0.8750)\n",
      "Saving model (epoch = 1194, loss = 0.8732)\n",
      "Saving model (epoch = 1236, loss = 0.8731)\n",
      "Saving model (epoch = 1257, loss = 0.8727)\n",
      "Saving model (epoch = 1261, loss = 0.8704)\n",
      "Saving model (epoch = 1307, loss = 0.8693)\n",
      "Saving model (epoch = 1349, loss = 0.8689)\n",
      "Saving model (epoch = 1353, loss = 0.8674)\n",
      "Saving model (epoch = 1443, loss = 0.8671)\n",
      "Saving model (epoch = 1457, loss = 0.8670)\n",
      "Saving model (epoch = 1486, loss = 0.8662)\n",
      "Saving model (epoch = 1490, loss = 0.8662)\n",
      "Saving model (epoch = 1491, loss = 0.8658)\n",
      "Saving model (epoch = 1544, loss = 0.8649)\n",
      "Saving model (epoch = 1562, loss = 0.8648)\n",
      "Saving model (epoch = 1586, loss = 0.8644)\n",
      "Saving model (epoch = 1609, loss = 0.8638)\n",
      "Saving model (epoch = 1625, loss = 0.8629)\n",
      "Saving model (epoch = 1649, loss = 0.8623)\n",
      "Saving model (epoch = 1716, loss = 0.8619)\n",
      "Saving model (epoch = 1787, loss = 0.8616)\n",
      "Saving model (epoch = 1812, loss = 0.8589)\n",
      "Saving model (epoch = 1852, loss = 0.8581)\n",
      "Saving model (epoch = 1919, loss = 0.8578)\n",
      "Saving model (epoch = 1969, loss = 0.8571)\n",
      "Saving model (epoch = 1979, loss = 0.8570)\n",
      "Saving model (epoch = 2034, loss = 0.8570)\n",
      "Saving model (epoch = 2041, loss = 0.8569)\n",
      "Saving model (epoch = 2106, loss = 0.8557)\n",
      "Saving model (epoch = 2157, loss = 0.8556)\n",
      "Saving model (epoch = 2203, loss = 0.8556)\n",
      "Saving model (epoch = 2218, loss = 0.8553)\n",
      "Saving model (epoch = 2250, loss = 0.8548)\n",
      "Saving model (epoch = 2270, loss = 0.8544)\n",
      "Saving model (epoch = 2309, loss = 0.8541)\n",
      "Finished training after 2410 epochs\n"
     ]
    }
   ],
   "source": [
    "model_loss, model_loss_record = train(train_set, validation_set, model, config, device)\n"
   ]
  },
  {
   "cell_type": "code",
   "execution_count": 17,
   "id": "2881054f",
   "metadata": {},
   "outputs": [
    {
     "data": {
      "image/png": "[encoded data removed]",
      "text/plain": [
       "<Figure size 600x400 with 1 Axes>"
      ]
     },
     "metadata": {},
     "output_type": "display_data"
    }
   ],
   "source": [
    "plot_learning_curve(model_loss_record, title='deep model')\n"
   ]
  },
  {
   "cell_type": "code",
   "execution_count": 18,
   "id": "f1bee712",
   "metadata": {},
   "outputs": [
    {
     "data": {
      "image/png": "[encoded data removed]",
      "text/plain": [
       "<Figure size 500x500 with 1 Axes>"
      ]
     },
     "metadata": {},
     "output_type": "display_data"
    }
   ],
   "source": [
    "del model\n",
    "model = NeuralNet(train_set.dataset.dim).to(device)\n",
    "ckpt = torch.load(config['save_path'], map_location='cpu')  # Load your best model\n",
    "model.load_state_dict(ckpt)\n",
    "plot_pred(validation_set, model, device)  # Show prediction on the validation set\n"
   ]
  },
  {
   "attachments": {},
   "cell_type": "markdown",
   "id": "31261f5f",
   "metadata": {},
   "source": [
    "## Testing\n",
    "\n",
    "Get the prediction result and save it to csv file named 'prediction.csv'\n"
   ]
  },
  {
   "cell_type": "code",
   "execution_count": 19,
   "id": "a6acc3b6",
   "metadata": {},
   "outputs": [
    {
     "name": "stdout",
     "output_type": "stream",
     "text": [
      "Saving results to prediction.csv\n"
     ]
    }
   ],
   "source": [
    "def save_pred(preds, file):\n",
    "    print('Saving results to {}'.format(file))\n",
    "    with open(file, 'w') as fp:\n",
    "        writer = csv.writer(fp)\n",
    "        writer.writerow(['id', 'tested_positive'])\n",
    "        for i, p in enumerate(preds):\n",
    "            writer.writerow([i, p])\n",
    "\n",
    "\n",
    "preds = test(test_set, model, device)  # predict COVID-19 cases with your model\n",
    "save_pred(preds, 'prediction.csv')         # save prediction file to pred.csv\n"
   ]
  },
  {
   "attachments": {},
   "cell_type": "markdown",
   "id": "7340932d",
   "metadata": {},
   "source": [
    "## Hints for better result\n",
    "\n",
    "-   Feature selection\n",
    "-   DNN architecture\n",
    "-   Training (mini-batch/optimizer/learning rate)\n",
    "-   Regularization\n"
   ]
  }
 ],
 "metadata": {
  "kernelspec": {
   "display_name": "4016",
   "language": "python",
   "name": "python3"
  },
  "language_info": {
   "codemirror_mode": {
    "name": "ipython",
    "version": 3
   },
   "file_extension": ".py",
   "mimetype": "text/x-python",
   "name": "python",
   "nbconvert_exporter": "python",
   "pygments_lexer": "ipython3",
   "version": "3.10.9"
  },
  "vscode": {
   "interpreter": {
    "hash": "7d2802fe7c6103ed55938689795e5d5c39fc82d10c8d38b20790576d767dda36"
   }
  }
 },
 "nbformat": 4,
 "nbformat_minor": 5
}
