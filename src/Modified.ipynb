{
 "cells": [
  {
   "attachments": {},
   "cell_type": "markdown",
   "id": "42b67c5d",
   "metadata": {},
   "source": [
    "# Baseline Code for HW1\n",
    "\n",
    "This is just the baseline code to set up the basic function you need. You need to modify the code yourself to achieve a better result.\n"
   ]
  },
  {
   "attachments": {},
   "cell_type": "markdown",
   "id": "d88ab3a2",
   "metadata": {},
   "source": [
    "## Import packages you need\n"
   ]
  },
  {
   "cell_type": "code",
   "execution_count": 103,
   "id": "b63ef26d",
   "metadata": {},
   "outputs": [],
   "source": [
    "# PyTorch\n",
    "import torch\n",
    "import torch.nn as nn\n",
    "from torch.utils.data import Dataset, DataLoader\n",
    "\n",
    "# For data preprocess\n",
    "import numpy as np\n",
    "import csv\n",
    "import os\n",
    "\n",
    "# For plotting\n",
    "import matplotlib.pyplot as plt\n",
    "from matplotlib.pyplot import figure\n",
    "\n",
    "myseed = 666  # set a random seed for reproducibility\n",
    "torch.backends.cudnn.deterministic = True\n",
    "torch.backends.cudnn.benchmark = False\n",
    "np.random.seed(myseed)\n",
    "torch.manual_seed(myseed)\n",
    "if torch.cuda.is_available():\n",
    "    torch.cuda.manual_seed_all(myseed)\n"
   ]
  },
  {
   "cell_type": "code",
   "execution_count": 104,
   "id": "f2f8d51e",
   "metadata": {},
   "outputs": [],
   "source": [
    "import math\n",
    "import pandas as pd\n",
    "from sklearn import preprocessing\n",
    "from sklearn.feature_selection import SelectKBest\n",
    "from sklearn.feature_selection import f_regression\n"
   ]
  },
  {
   "attachments": {},
   "cell_type": "markdown",
   "id": "0bad5f7a",
   "metadata": {},
   "source": [
    "## Show current device name\n"
   ]
  },
  {
   "cell_type": "code",
   "execution_count": 105,
   "id": "7bb581ce",
   "metadata": {},
   "outputs": [
    {
     "data": {
      "text/plain": [
       "'NVIDIA GeForce RTX 3080 Ti'"
      ]
     },
     "execution_count": 105,
     "metadata": {},
     "output_type": "execute_result"
    }
   ],
   "source": [
    "torch.cuda.get_device_name(0)\n"
   ]
  },
  {
   "attachments": {},
   "cell_type": "markdown",
   "id": "f4af96d7",
   "metadata": {},
   "source": [
    "## Basic Function\n",
    "\n",
    "Do not modify this part\n"
   ]
  },
  {
   "cell_type": "code",
   "execution_count": 106,
   "id": "7c6e7cae",
   "metadata": {},
   "outputs": [],
   "source": [
    "def get_device():\n",
    "    ''' Get device (if GPU is available, use GPU) '''\n",
    "    return 'cuda' if torch.cuda.is_available() else 'cpu'\n",
    "\n",
    "\n",
    "def plot_learning_curve(loss_record, title=''):\n",
    "    ''' Plot learning curve of your DNN (train & dev loss) '''\n",
    "    total_steps = len(loss_record['train'])\n",
    "    x_1 = range(total_steps)\n",
    "    x_2 = x_1[::len(loss_record['train']) // len(loss_record['dev'])]\n",
    "    figure(figsize=(6, 4))\n",
    "    plt.plot(x_1, loss_record['train'], c='tab:red', label='train')\n",
    "    plt.plot(x_2, loss_record['dev'], c='tab:cyan', label='dev')\n",
    "    plt.ylim(0.0, 5.)\n",
    "    plt.xlabel('Training steps')\n",
    "    plt.ylabel('MSE loss')\n",
    "    plt.title('Learning curve of {}'.format(title))\n",
    "    plt.legend()\n",
    "    plt.show()\n",
    "\n",
    "\n",
    "def plot_pred(dv_set, model, device, lim=35., preds=None, targets=None):\n",
    "    ''' Plot prediction of your DNN '''\n",
    "    if preds is None or targets is None:\n",
    "        model.eval()\n",
    "        preds, targets = [], []\n",
    "        for x, y in dv_set:\n",
    "            x, y = x.to(device), y.to(device)\n",
    "            with torch.no_grad():\n",
    "                pred = model(x)\n",
    "                preds.append(pred.detach().cpu())\n",
    "                targets.append(y.detach().cpu())\n",
    "        preds = torch.cat(preds, dim=0).numpy()\n",
    "        targets = torch.cat(targets, dim=0).numpy()\n",
    "\n",
    "    figure(figsize=(5, 5))\n",
    "    plt.scatter(targets, preds, c='r', alpha=0.5)\n",
    "    plt.plot([-0.2, lim], [-0.2, lim], c='b')\n",
    "    plt.xlim(-0.2, lim)\n",
    "    plt.ylim(-0.2, lim)\n",
    "    plt.xlabel('Truth value')\n",
    "    plt.ylabel('predicted value')\n",
    "    plt.title('Truth v.s. Prediction')\n",
    "    plt.show()\n"
   ]
  },
  {
   "attachments": {},
   "cell_type": "markdown",
   "id": "84bd9695",
   "metadata": {},
   "source": [
    "## Data and Preprocess\n",
    "\n",
    "The function below used to:\n",
    "\n",
    "1. Read the csv files into python\n",
    "2. Choose features (you can choose yourself)\n",
    "3. Split data into training and validation sets.\n",
    "4. Normalization\n"
   ]
  },
  {
   "cell_type": "code",
   "execution_count": 107,
   "id": "59282174",
   "metadata": {},
   "outputs": [],
   "source": [
    "numBestFeat = 26\n",
    "dataPre = pd.read_csv('../data/HW1.train.csv')\n",
    "dataPre = pd.DataFrame(preprocessing.MinMaxScaler().fit_transform(dataPre))\n",
    "\n",
    "dataPreX = dataPre.iloc[:, 41:94]\n",
    "dataPreY = dataPre.iloc[:, -1]\n",
    "dataPrefit = SelectKBest(f_regression, k=5).fit(dataPreX, dataPreY)\n",
    "featScore = pd.DataFrame(dataPrefit.scores_, index=dataPreX.columns, columns=[\"Score\"])\n",
    "featBest = list(featScore.nlargest(numBestFeat, \"Score\").index - 1)\n"
   ]
  },
  {
   "cell_type": "code",
   "execution_count": 108,
   "id": "127739cf",
   "metadata": {},
   "outputs": [],
   "source": [
    "class Dataprocess(Dataset):\n",
    "    def __init__(self,\n",
    "                 path,\n",
    "                 mode='train',\n",
    "                 modify=False):\n",
    "        self.mode = mode\n",
    "\n",
    "        # Read csv file\n",
    "        with open(path, 'r') as f:\n",
    "            data = list(csv.reader(f))\n",
    "            data = np.array(data[1:])[:, 1:].astype(float)\n",
    "\n",
    "        if modify == False:\n",
    "            feats = list(range(93))\n",
    "        else:\n",
    "            # Hint:Feature Selection\n",
    "            # feats = list(range(40, 93))\n",
    "            feats = featBest\n",
    "\n",
    "        if mode == 'test':\n",
    "            # Testing set\n",
    "            data = data[:, feats]\n",
    "            self.data = torch.FloatTensor(data)\n",
    "        else:\n",
    "            # Training set\n",
    "            target = data[:, -1]\n",
    "            data = data[:, feats]\n",
    "\n",
    "            # Splitting data into training and validation sets\n",
    "            if mode == 'train':\n",
    "                indices = [i for i in range(len(data)) if i % 10 != 0]\n",
    "            elif mode == 'dev':\n",
    "                indices = [i for i in range(len(data)) if i % 10 == 0]\n",
    "\n",
    "            # Convert data into PyTorch tensors\n",
    "            self.data = torch.FloatTensor(data[indices])\n",
    "            self.target = torch.FloatTensor(target[indices])\n",
    "\n",
    "        # Normalize features\n",
    "        self.data[:, 40:] = \\\n",
    "            (self.data[:, 40:] - self.data[:, 40:].mean(dim=0, keepdim=True)) \\\n",
    "            / self.data[:, 40:].std(dim=0, keepdim=True)\n",
    "\n",
    "        self.dim = self.data.shape[1]\n",
    "\n",
    "        print('Finished reading the {} set of COVID19 Dataset ({} samples found, each dim = {})'\n",
    "              .format(mode, len(self.data), self.dim))\n",
    "\n",
    "    def __getitem__(self, index):\n",
    "        # Returns one sample at a time\n",
    "        if self.mode in ['train', 'dev']:\n",
    "            # For training\n",
    "            return self.data[index], self.target[index]\n",
    "        else:\n",
    "            # For testing\n",
    "            return self.data[index]\n",
    "\n",
    "    def __len__(self):\n",
    "        # Returns the size of the dataset\n",
    "        return len(self.data)\n"
   ]
  },
  {
   "attachments": {},
   "cell_type": "markdown",
   "id": "dd6939cf",
   "metadata": {},
   "source": [
    "## Dataloader\n",
    "\n",
    "Loads data into batches.\n"
   ]
  },
  {
   "cell_type": "code",
   "execution_count": 109,
   "id": "a5123b30",
   "metadata": {},
   "outputs": [],
   "source": [
    "def dataloader(path, mode, batch_size, n_jobs=0, modify=False):\n",
    "    dataset = Dataprocess(path, mode=mode, modify=modify)\n",
    "    dataloader = DataLoader(\n",
    "        dataset, batch_size,\n",
    "        shuffle=(mode == 'train'), drop_last=False,\n",
    "        num_workers=n_jobs, pin_memory=True)\n",
    "    return dataloader\n"
   ]
  },
  {
   "attachments": {},
   "cell_type": "markdown",
   "id": "3683c933",
   "metadata": {},
   "source": [
    "## Define DNN by pytorch\n",
    "\n",
    "The DNN consists of 2 fully-connected layers with ReLU activation function\n"
   ]
  },
  {
   "cell_type": "code",
   "execution_count": 110,
   "id": "a18d0f3a",
   "metadata": {},
   "outputs": [],
   "source": [
    "class NeuralNet(nn.Module):\n",
    "    def __init__(self, input_dim):\n",
    "        super(NeuralNet, self).__init__()\n",
    "\n",
    "        # Try to modify this DNN to achieve better performance\n",
    "        self.net = nn.Sequential(\n",
    "            nn.Linear(input_dim, numBestFeat*2),\n",
    "            nn.ReLU(),\n",
    "            nn.Linear(numBestFeat*2, 1)\n",
    "        )\n",
    "\n",
    "        # Loss function MSE\n",
    "        self.criterion = nn.MSELoss(reduction='mean')\n",
    "\n",
    "    def forward(self, x):\n",
    "        ''' Given input of size (batch_size x input_dim), compute output of the network '''\n",
    "        return self.net(x).squeeze(1)\n",
    "\n",
    "    def cal_loss(self, pred, target):\n",
    "        ''' Calculate loss '''\n",
    "        # You may try regularization here\n",
    "        return self.criterion(pred, target)\n"
   ]
  },
  {
   "attachments": {},
   "cell_type": "markdown",
   "id": "a0f886bb",
   "metadata": {},
   "source": [
    "## Validation\n"
   ]
  },
  {
   "cell_type": "code",
   "execution_count": 111,
   "id": "0339c829",
   "metadata": {},
   "outputs": [],
   "source": [
    "def dev(dv_set, model, device):\n",
    "    model.eval()                                # set model to evalutation mode\n",
    "    total_loss = 0\n",
    "    for x, y in dv_set:                         # iterate through the dataloader\n",
    "        x, y = x.to(device), y.to(device)       # move data to device (cpu/cuda)\n",
    "        with torch.no_grad():                   # disable gradient calculation\n",
    "            pred = model(x)                     # forward pass (compute output)\n",
    "            mse_loss = model.cal_loss(pred, y)  # compute loss\n",
    "        total_loss += mse_loss.detach().cpu().item() * len(x)  # accumulate loss\n",
    "    total_loss = total_loss / len(dv_set.dataset)              # compute averaged loss\n",
    "\n",
    "    return total_loss\n"
   ]
  },
  {
   "attachments": {},
   "cell_type": "markdown",
   "id": "8625e04c",
   "metadata": {},
   "source": [
    "## Training\n"
   ]
  },
  {
   "cell_type": "code",
   "execution_count": 112,
   "id": "42034751",
   "metadata": {},
   "outputs": [],
   "source": [
    "def train(tr_set, dv_set, model, config, device):\n",
    "\n",
    "    n_epochs = config['n_epochs']  # Maximum number of epochs\n",
    "\n",
    "    # Setup optimizer\n",
    "    optimizer = getattr(torch.optim, config['optimizer'])(\n",
    "        model.parameters(), **config['optim_hparas'])\n",
    "\n",
    "    min_mse = 1000.\n",
    "    loss_record = {'train': [], 'dev': []}      # for recording training loss\n",
    "    early_stop_cnt = 0\n",
    "    epoch = 0\n",
    "    while epoch < n_epochs:\n",
    "        model.train()                           # set model to training mode\n",
    "        for x, y in tr_set:                     # iterate through the dataloader\n",
    "            optimizer.zero_grad()               # set gradient to zero\n",
    "            x, y = x.to(device), y.to(device)   # move data to device (cpu/cuda)\n",
    "            pred = model(x)                     # forward pass (compute output)\n",
    "            mse_loss = model.cal_loss(pred, y)  # compute loss\n",
    "            mse_loss.backward()                 # compute gradient (backpropagation)\n",
    "            optimizer.step()                    # update model with optimizer\n",
    "            loss_record['train'].append(mse_loss.detach().cpu().item())\n",
    "\n",
    "        dev_mse = dev(dv_set, model, device)\n",
    "        if dev_mse < min_mse:\n",
    "            # Save model if your model improved\n",
    "            min_mse = dev_mse\n",
    "            print('Saving model (epoch = {:4d}, loss = {:.4f})'\n",
    "                  .format(epoch + 1, min_mse))\n",
    "            torch.save(model.state_dict(), config['save_path'])  # Save model to specified path\n",
    "            early_stop_cnt = 0\n",
    "        else:\n",
    "            early_stop_cnt += 1\n",
    "\n",
    "        epoch += 1\n",
    "        loss_record['dev'].append(dev_mse)\n",
    "        if early_stop_cnt > config['early_stop']:\n",
    "            break\n",
    "\n",
    "    print('Finished training after {} epochs'.format(epoch))\n",
    "    return min_mse, loss_record\n"
   ]
  },
  {
   "attachments": {},
   "cell_type": "markdown",
   "id": "997f8430",
   "metadata": {},
   "source": [
    "## Testing\n"
   ]
  },
  {
   "cell_type": "code",
   "execution_count": 113,
   "id": "841528bf",
   "metadata": {},
   "outputs": [],
   "source": [
    "def test(tt_set, model, device):\n",
    "    model.eval()                                # set model to evalutation mode\n",
    "    preds = []\n",
    "    for x in tt_set:                            # iterate through the dataloader\n",
    "        x = x.to(device)                        # move data to device (cpu/cuda)\n",
    "        with torch.no_grad():                   # disable gradient calculation\n",
    "            pred = model(x)                     # forward pass (compute output)\n",
    "            preds.append(pred.detach().cpu())   # collect prediction\n",
    "    preds = torch.cat(preds, dim=0).numpy()     # concatenate all predictions and convert to a numpy array\n",
    "    return preds\n"
   ]
  },
  {
   "cell_type": "markdown",
   "id": "a0aed462",
   "metadata": {},
   "source": [
    "## Hyper-parameters for DNN\n"
   ]
  },
  {
   "cell_type": "code",
   "execution_count": 114,
   "id": "bde81b48",
   "metadata": {},
   "outputs": [],
   "source": [
    "device = get_device()                   # get the current available device ('cpu' or 'cuda')\n",
    "os.makedirs('models', exist_ok=True)    # The trained model will be saved to ./models/\n",
    "modify = True                           # Need selection\n",
    "\n",
    "# Tune these hyper-parameters to improve your model\n",
    "config = {\n",
    "    'n_epochs': 5000,                   # maximum number of epochs\n",
    "    'batch_size': 100,                  # mini-batch size for dataloader\n",
    "    'optimizer': 'SGD',                 # optimization algorithm (optimizer in torch.optim)\n",
    "    'optim_hparas': {                   # hyper-parameters for the optimizer (depends on which optimizer you are using)\n",
    "        'lr': 1e-4,                     # learning rate of SGD\n",
    "        'momentum': 0.5,\n",
    "        'weight_decay': 1e-3\n",
    "    },\n",
    "    'early_stop': 100,                  # early stopping epochs (the number epochs since your model's last improvement)\n",
    "    'save_path': 'models/model.pth'     # your model will be saved here\n",
    "}\n"
   ]
  },
  {
   "attachments": {},
   "cell_type": "markdown",
   "id": "1b2f04ac",
   "metadata": {},
   "source": [
    "## Read the dataset\n"
   ]
  },
  {
   "cell_type": "code",
   "execution_count": 115,
   "id": "55ad5a64",
   "metadata": {
    "scrolled": true
   },
   "outputs": [
    {
     "name": "stdout",
     "output_type": "stream",
     "text": [
      "Finished reading the train set of COVID19 Dataset (1800 samples found, each dim = 26)\n",
      "Finished reading the dev set of COVID19 Dataset (200 samples found, each dim = 26)\n",
      "Finished reading the test set of COVID19 Dataset (500 samples found, each dim = 26)\n"
     ]
    }
   ],
   "source": [
    "train_path = '../data/HW1.train.csv'  # path to training data\n",
    "test_path = '../data/HW1.test.csv'   # path to testing data\n",
    "\n",
    "train_set = dataloader(train_path, 'train', config['batch_size'], modify=modify)\n",
    "validation_set = dataloader(train_path, 'dev', config['batch_size'], modify=modify)\n",
    "test_set = dataloader(test_path, 'test', config['batch_size'], modify=modify)\n"
   ]
  },
  {
   "attachments": {},
   "cell_type": "markdown",
   "id": "c4020f9b",
   "metadata": {},
   "source": [
    "## Try to train your DNN\n"
   ]
  },
  {
   "cell_type": "code",
   "execution_count": 116,
   "id": "0a27228e",
   "metadata": {},
   "outputs": [],
   "source": [
    "model = NeuralNet(train_set.dataset.dim).to(device)  # Construct model and move to device\n"
   ]
  },
  {
   "cell_type": "code",
   "execution_count": 117,
   "id": "a6416f36",
   "metadata": {},
   "outputs": [
    {
     "name": "stdout",
     "output_type": "stream",
     "text": [
      "Saving model (epoch =    1, loss = 23.3712)\n",
      "Saving model (epoch =    2, loss = 13.2644)\n",
      "Saving model (epoch =    3, loss = 7.7346)\n",
      "Saving model (epoch =    4, loss = 4.9990)\n",
      "Saving model (epoch =    6, loss = 3.8081)\n",
      "Saving model (epoch =   10, loss = 3.8069)\n",
      "Saving model (epoch =   11, loss = 2.2802)\n",
      "Saving model (epoch =   13, loss = 1.9529)\n",
      "Saving model (epoch =   15, loss = 1.8521)\n",
      "Saving model (epoch =   17, loss = 1.6786)\n",
      "Saving model (epoch =   18, loss = 1.6135)\n",
      "Saving model (epoch =   19, loss = 1.5877)\n",
      "Saving model (epoch =   24, loss = 1.5289)\n",
      "Saving model (epoch =   25, loss = 1.4942)\n",
      "Saving model (epoch =   34, loss = 1.4099)\n",
      "Saving model (epoch =   42, loss = 1.3608)\n",
      "Saving model (epoch =   46, loss = 1.3504)\n",
      "Saving model (epoch =   48, loss = 1.3355)\n",
      "Saving model (epoch =   50, loss = 1.3290)\n",
      "Saving model (epoch =   54, loss = 1.3188)\n",
      "Saving model (epoch =   56, loss = 1.3174)\n",
      "Saving model (epoch =   63, loss = 1.3083)\n",
      "Saving model (epoch =   67, loss = 1.2857)\n",
      "Saving model (epoch =   76, loss = 1.2736)\n",
      "Saving model (epoch =   83, loss = 1.2520)\n",
      "Saving model (epoch =   86, loss = 1.2499)\n",
      "Saving model (epoch =   93, loss = 1.2407)\n",
      "Saving model (epoch =   94, loss = 1.2314)\n",
      "Saving model (epoch =   99, loss = 1.2300)\n",
      "Saving model (epoch =  104, loss = 1.2298)\n",
      "Saving model (epoch =  112, loss = 1.1996)\n",
      "Saving model (epoch =  120, loss = 1.1967)\n",
      "Saving model (epoch =  125, loss = 1.1785)\n",
      "Saving model (epoch =  136, loss = 1.1681)\n",
      "Saving model (epoch =  139, loss = 1.1657)\n",
      "Saving model (epoch =  146, loss = 1.1518)\n",
      "Saving model (epoch =  147, loss = 1.1477)\n",
      "Saving model (epoch =  156, loss = 1.1412)\n",
      "Saving model (epoch =  173, loss = 1.1189)\n",
      "Saving model (epoch =  181, loss = 1.1087)\n",
      "Saving model (epoch =  189, loss = 1.1055)\n",
      "Saving model (epoch =  195, loss = 1.0984)\n",
      "Saving model (epoch =  204, loss = 1.0898)\n",
      "Saving model (epoch =  212, loss = 1.0823)\n",
      "Saving model (epoch =  218, loss = 1.0803)\n",
      "Saving model (epoch =  222, loss = 1.0766)\n",
      "Saving model (epoch =  231, loss = 1.0693)\n",
      "Saving model (epoch =  242, loss = 1.0573)\n",
      "Saving model (epoch =  247, loss = 1.0513)\n",
      "Saving model (epoch =  255, loss = 1.0508)\n",
      "Saving model (epoch =  262, loss = 1.0434)\n",
      "Saving model (epoch =  269, loss = 1.0405)\n",
      "Saving model (epoch =  271, loss = 1.0331)\n",
      "Saving model (epoch =  281, loss = 1.0326)\n",
      "Saving model (epoch =  289, loss = 1.0256)\n",
      "Saving model (epoch =  309, loss = 1.0143)\n",
      "Saving model (epoch =  310, loss = 1.0113)\n",
      "Saving model (epoch =  319, loss = 1.0094)\n",
      "Saving model (epoch =  322, loss = 1.0082)\n",
      "Saving model (epoch =  332, loss = 0.9981)\n",
      "Saving model (epoch =  344, loss = 0.9853)\n",
      "Saving model (epoch =  358, loss = 0.9837)\n",
      "Saving model (epoch =  360, loss = 0.9791)\n",
      "Saving model (epoch =  371, loss = 0.9751)\n",
      "Saving model (epoch =  383, loss = 0.9716)\n",
      "Saving model (epoch =  393, loss = 0.9695)\n",
      "Saving model (epoch =  397, loss = 0.9637)\n",
      "Saving model (epoch =  399, loss = 0.9635)\n",
      "Saving model (epoch =  406, loss = 0.9621)\n",
      "Saving model (epoch =  408, loss = 0.9618)\n",
      "Saving model (epoch =  410, loss = 0.9591)\n",
      "Saving model (epoch =  427, loss = 0.9585)\n",
      "Saving model (epoch =  432, loss = 0.9491)\n",
      "Saving model (epoch =  442, loss = 0.9470)\n",
      "Saving model (epoch =  446, loss = 0.9460)\n",
      "Saving model (epoch =  463, loss = 0.9458)\n",
      "Saving model (epoch =  467, loss = 0.9429)\n",
      "Saving model (epoch =  496, loss = 0.9416)\n",
      "Saving model (epoch =  510, loss = 0.9266)\n",
      "Saving model (epoch =  574, loss = 0.9244)\n",
      "Saving model (epoch =  581, loss = 0.9231)\n",
      "Saving model (epoch =  585, loss = 0.9196)\n",
      "Saving model (epoch =  599, loss = 0.9158)\n",
      "Saving model (epoch =  600, loss = 0.9154)\n",
      "Saving model (epoch =  605, loss = 0.9142)\n",
      "Saving model (epoch =  620, loss = 0.9112)\n",
      "Saving model (epoch =  627, loss = 0.9095)\n",
      "Saving model (epoch =  637, loss = 0.9074)\n",
      "Saving model (epoch =  643, loss = 0.9031)\n",
      "Saving model (epoch =  671, loss = 0.9027)\n",
      "Saving model (epoch =  690, loss = 0.9013)\n",
      "Saving model (epoch =  696, loss = 0.9001)\n",
      "Saving model (epoch =  699, loss = 0.8989)\n",
      "Saving model (epoch =  720, loss = 0.8947)\n",
      "Saving model (epoch =  762, loss = 0.8920)\n",
      "Saving model (epoch =  765, loss = 0.8918)\n",
      "Saving model (epoch =  771, loss = 0.8891)\n",
      "Saving model (epoch =  791, loss = 0.8878)\n",
      "Saving model (epoch =  814, loss = 0.8865)\n",
      "Saving model (epoch =  817, loss = 0.8847)\n",
      "Saving model (epoch =  823, loss = 0.8843)\n",
      "Saving model (epoch =  841, loss = 0.8832)\n",
      "Saving model (epoch =  867, loss = 0.8823)\n",
      "Saving model (epoch =  873, loss = 0.8781)\n",
      "Saving model (epoch =  890, loss = 0.8752)\n",
      "Saving model (epoch =  925, loss = 0.8743)\n",
      "Saving model (epoch =  944, loss = 0.8736)\n",
      "Saving model (epoch =  957, loss = 0.8720)\n",
      "Saving model (epoch =  976, loss = 0.8709)\n",
      "Saving model (epoch =  979, loss = 0.8674)\n",
      "Saving model (epoch = 1018, loss = 0.8668)\n",
      "Saving model (epoch = 1079, loss = 0.8633)\n",
      "Saving model (epoch = 1093, loss = 0.8631)\n",
      "Saving model (epoch = 1106, loss = 0.8630)\n",
      "Saving model (epoch = 1117, loss = 0.8602)\n",
      "Saving model (epoch = 1171, loss = 0.8554)\n",
      "Saving model (epoch = 1203, loss = 0.8514)\n",
      "Saving model (epoch = 1263, loss = 0.8509)\n",
      "Saving model (epoch = 1343, loss = 0.8481)\n",
      "Saving model (epoch = 1370, loss = 0.8420)\n",
      "Saving model (epoch = 1438, loss = 0.8410)\n",
      "Saving model (epoch = 1513, loss = 0.8407)\n",
      "Saving model (epoch = 1517, loss = 0.8406)\n",
      "Saving model (epoch = 1601, loss = 0.8400)\n",
      "Saving model (epoch = 1645, loss = 0.8393)\n",
      "Finished training after 1746 epochs\n"
     ]
    }
   ],
   "source": [
    "model_loss, model_loss_record = train(train_set, validation_set, model, config, device)\n"
   ]
  },
  {
   "cell_type": "code",
   "execution_count": 118,
   "id": "2881054f",
   "metadata": {},
   "outputs": [
    {
     "data": {
      "image/png": "[encoded data removed]",
      "text/plain": [
       "<Figure size 600x400 with 1 Axes>"
      ]
     },
     "metadata": {},
     "output_type": "display_data"
    }
   ],
   "source": [
    "plot_learning_curve(model_loss_record, title='deep model')\n"
   ]
  },
  {
   "cell_type": "code",
   "execution_count": 119,
   "id": "f1bee712",
   "metadata": {},
   "outputs": [
    {
     "data": {
      "image/png": "[encoded data removed]",
      "text/plain": [
       "<Figure size 500x500 with 1 Axes>"
      ]
     },
     "metadata": {},
     "output_type": "display_data"
    }
   ],
   "source": [
    "del model\n",
    "model = NeuralNet(train_set.dataset.dim).to(device)\n",
    "ckpt = torch.load(config['save_path'], map_location='cpu')  # Load your best model\n",
    "model.load_state_dict(ckpt)\n",
    "plot_pred(validation_set, model, device)  # Show prediction on the validation set\n"
   ]
  },
  {
   "attachments": {},
   "cell_type": "markdown",
   "id": "31261f5f",
   "metadata": {},
   "source": [
    "## Testing\n",
    "\n",
    "Get the prediction result and save it to csv file named 'prediction.csv'\n"
   ]
  },
  {
   "cell_type": "code",
   "execution_count": 120,
   "id": "a6acc3b6",
   "metadata": {},
   "outputs": [
    {
     "name": "stdout",
     "output_type": "stream",
     "text": [
      "Saving results to prediction.csv\n"
     ]
    }
   ],
   "source": [
    "def save_pred(preds, file):\n",
    "    print('Saving results to {}'.format(file))\n",
    "    with open(file, 'w') as fp:\n",
    "        writer = csv.writer(fp)\n",
    "        writer.writerow(['id', 'tested_positive'])\n",
    "        for i, p in enumerate(preds):\n",
    "            writer.writerow([i, p])\n",
    "\n",
    "\n",
    "preds = test(test_set, model, device)  # predict COVID-19 cases with your model\n",
    "save_pred(preds, 'prediction.csv')         # save prediction file to pred.csv\n"
   ]
  },
  {
   "attachments": {},
   "cell_type": "markdown",
   "id": "7340932d",
   "metadata": {},
   "source": [
    "## Hints for better result\n",
    "\n",
    "-   Feature selection\n",
    "-   DNN architecture\n",
    "-   Training (mini-batch/optimizer/learning rate)\n",
    "-   Regularization\n"
   ]
  }
 ],
 "metadata": {
  "kernelspec": {
   "display_name": "4016",
   "language": "python",
   "name": "python3"
  },
  "language_info": {
   "codemirror_mode": {
    "name": "ipython",
    "version": 3
   },
   "file_extension": ".py",
   "mimetype": "text/x-python",
   "name": "python",
   "nbconvert_exporter": "python",
   "pygments_lexer": "ipython3",
   "version": "3.10.9"
  },
  "vscode": {
   "interpreter": {
    "hash": "7d2802fe7c6103ed55938689795e5d5c39fc82d10c8d38b20790576d767dda36"
   }
  }
 },
 "nbformat": 4,
 "nbformat_minor": 5
}
