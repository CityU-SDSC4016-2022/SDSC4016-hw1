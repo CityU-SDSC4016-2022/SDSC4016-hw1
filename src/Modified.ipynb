{
 "cells": [
  {
   "attachments": {},
   "cell_type": "markdown",
   "id": "42b67c5d",
   "metadata": {},
   "source": [
    "# Baseline Code for HW1\n",
    "\n",
    "This is just the baseline code to set up the basic function you need. You need to modify the code yourself to achieve a better result.\n"
   ]
  },
  {
   "attachments": {},
   "cell_type": "markdown",
   "id": "d88ab3a2",
   "metadata": {},
   "source": [
    "## Import packages you need\n"
   ]
  },
  {
   "cell_type": "code",
   "execution_count": 1,
   "id": "b63ef26d",
   "metadata": {},
   "outputs": [],
   "source": [
    "# PyTorch\n",
    "import torch\n",
    "import torch.nn as nn\n",
    "from torch.utils.data import Dataset, DataLoader\n",
    "\n",
    "# For data preprocess\n",
    "import numpy as np\n",
    "import csv\n",
    "import os\n",
    "\n",
    "# For plotting\n",
    "import matplotlib.pyplot as plt\n",
    "from matplotlib.pyplot import figure\n",
    "\n",
    "myseed = 666  # set a random seed for reproducibility\n",
    "torch.backends.cudnn.deterministic = True\n",
    "torch.backends.cudnn.benchmark = False\n",
    "np.random.seed(myseed)\n",
    "torch.manual_seed(myseed)\n",
    "if torch.cuda.is_available():\n",
    "    torch.cuda.manual_seed_all(myseed)\n"
   ]
  },
  {
   "attachments": {},
   "cell_type": "markdown",
   "id": "0bad5f7a",
   "metadata": {},
   "source": [
    "## Show current device name\n"
   ]
  },
  {
   "cell_type": "code",
   "execution_count": 2,
   "id": "7bb581ce",
   "metadata": {},
   "outputs": [
    {
     "data": {
      "text/plain": [
       "'NVIDIA GeForce RTX 3080 Ti'"
      ]
     },
     "execution_count": 2,
     "metadata": {},
     "output_type": "execute_result"
    }
   ],
   "source": [
    "torch.cuda.get_device_name(0)\n"
   ]
  },
  {
   "attachments": {},
   "cell_type": "markdown",
   "id": "f4af96d7",
   "metadata": {},
   "source": [
    "## Basic Function\n",
    "\n",
    "Do not modify this part\n"
   ]
  },
  {
   "cell_type": "code",
   "execution_count": 3,
   "id": "7c6e7cae",
   "metadata": {},
   "outputs": [],
   "source": [
    "def get_device():\n",
    "    ''' Get device (if GPU is available, use GPU) '''\n",
    "    return 'cuda' if torch.cuda.is_available() else 'cpu'\n",
    "\n",
    "\n",
    "def plot_learning_curve(loss_record, title=''):\n",
    "    ''' Plot learning curve of your DNN (train & dev loss) '''\n",
    "    total_steps = len(loss_record['train'])\n",
    "    x_1 = range(total_steps)\n",
    "    x_2 = x_1[::len(loss_record['train']) // len(loss_record['dev'])]\n",
    "    figure(figsize=(6, 4))\n",
    "    plt.plot(x_1, loss_record['train'], c='tab:red', label='train')\n",
    "    plt.plot(x_2, loss_record['dev'], c='tab:cyan', label='dev')\n",
    "    plt.ylim(0.0, 5.)\n",
    "    plt.xlabel('Training steps')\n",
    "    plt.ylabel('MSE loss')\n",
    "    plt.title('Learning curve of {}'.format(title))\n",
    "    plt.legend()\n",
    "    plt.show()\n",
    "\n",
    "\n",
    "def plot_pred(dv_set, model, device, lim=35., preds=None, targets=None):\n",
    "    ''' Plot prediction of your DNN '''\n",
    "    if preds is None or targets is None:\n",
    "        model.eval()\n",
    "        preds, targets = [], []\n",
    "        for x, y in dv_set:\n",
    "            x, y = x.to(device), y.to(device)\n",
    "            with torch.no_grad():\n",
    "                pred = model(x)\n",
    "                preds.append(pred.detach().cpu())\n",
    "                targets.append(y.detach().cpu())\n",
    "        preds = torch.cat(preds, dim=0).numpy()\n",
    "        targets = torch.cat(targets, dim=0).numpy()\n",
    "\n",
    "    figure(figsize=(5, 5))\n",
    "    plt.scatter(targets, preds, c='r', alpha=0.5)\n",
    "    plt.plot([-0.2, lim], [-0.2, lim], c='b')\n",
    "    plt.xlim(-0.2, lim)\n",
    "    plt.ylim(-0.2, lim)\n",
    "    plt.xlabel('Truth value')\n",
    "    plt.ylabel('predicted value')\n",
    "    plt.title('Truth v.s. Prediction')\n",
    "    plt.show()\n"
   ]
  },
  {
   "attachments": {},
   "cell_type": "markdown",
   "id": "84bd9695",
   "metadata": {},
   "source": [
    "## Data and Preprocess\n",
    "\n",
    "The function below used to:\n",
    "\n",
    "1. Read the csv files into python\n",
    "2. Choose features (you can choose yourself)\n",
    "3. Split data into training and validation sets.\n",
    "4. Normalization\n"
   ]
  },
  {
   "cell_type": "code",
   "execution_count": 4,
   "id": "127739cf",
   "metadata": {},
   "outputs": [],
   "source": [
    "class Dataprocess(Dataset):\n",
    "    def __init__(self,\n",
    "                 path,\n",
    "                 mode='train',\n",
    "                 modify=False):\n",
    "        self.mode = mode\n",
    "\n",
    "        # Read csv file\n",
    "        with open(path, 'r') as f:\n",
    "            data = list(csv.reader(f))\n",
    "            data = np.array(data[1:])[:, 1:].astype(float)\n",
    "\n",
    "        if modify == False:\n",
    "            feats = list(range(93))\n",
    "        else:\n",
    "            # Hint:Feature Selection\n",
    "            feats = list(range(1, 93))\n",
    "\n",
    "        if mode == 'test':\n",
    "            # Testing set\n",
    "            data = data[:, feats]\n",
    "            self.data = torch.FloatTensor(data)\n",
    "        else:\n",
    "            # Training set\n",
    "            target = data[:, -1]\n",
    "            data = data[:, feats]\n",
    "\n",
    "            # Splitting data into training and validation sets\n",
    "            if mode == 'train':\n",
    "                indices = [i for i in range(len(data)) if i % 10 != 0]\n",
    "            elif mode == 'dev':\n",
    "                indices = [i for i in range(len(data)) if i % 10 == 0]\n",
    "\n",
    "            # Convert data into PyTorch tensors\n",
    "            self.data = torch.FloatTensor(data[indices])\n",
    "            self.target = torch.FloatTensor(target[indices])\n",
    "\n",
    "        # Normalize features\n",
    "        self.data[:, 40:] = \\\n",
    "            (self.data[:, 40:] - self.data[:, 40:].mean(dim=0, keepdim=True)) \\\n",
    "            / self.data[:, 40:].std(dim=0, keepdim=True)\n",
    "\n",
    "        self.dim = self.data.shape[1]\n",
    "\n",
    "        print('Finished reading the {} set of COVID19 Dataset ({} samples found, each dim = {})'\n",
    "              .format(mode, len(self.data), self.dim))\n",
    "\n",
    "    def __getitem__(self, index):\n",
    "        # Returns one sample at a time\n",
    "        if self.mode in ['train', 'dev']:\n",
    "            # For training\n",
    "            return self.data[index], self.target[index]\n",
    "        else:\n",
    "            # For testing\n",
    "            return self.data[index]\n",
    "\n",
    "    def __len__(self):\n",
    "        # Returns the size of the dataset\n",
    "        return len(self.data)\n"
   ]
  },
  {
   "attachments": {},
   "cell_type": "markdown",
   "id": "dd6939cf",
   "metadata": {},
   "source": [
    "## Dataloader\n",
    "\n",
    "Loads data into batches.\n"
   ]
  },
  {
   "cell_type": "code",
   "execution_count": 5,
   "id": "a5123b30",
   "metadata": {},
   "outputs": [],
   "source": [
    "def dataloader(path, mode, batch_size, n_jobs=0, modify=False):\n",
    "    dataset = Dataprocess(path, mode=mode, modify=modify)\n",
    "    dataloader = DataLoader(\n",
    "        dataset, batch_size,\n",
    "        shuffle=(mode == 'train'), drop_last=False,\n",
    "        num_workers=n_jobs, pin_memory=True)\n",
    "    return dataloader\n"
   ]
  },
  {
   "attachments": {},
   "cell_type": "markdown",
   "id": "3683c933",
   "metadata": {},
   "source": [
    "## Define DNN by pytorch\n",
    "\n",
    "The DNN consists of 2 fully-connected layers with ReLU activation function\n"
   ]
  },
  {
   "cell_type": "code",
   "execution_count": 6,
   "id": "a18d0f3a",
   "metadata": {},
   "outputs": [],
   "source": [
    "class NeuralNet(nn.Module):\n",
    "    def __init__(self, input_dim):\n",
    "        super(NeuralNet, self).__init__()\n",
    "\n",
    "        # Try to modify this DNN to achieve better performance\n",
    "        self.net = nn.Sequential(\n",
    "            nn.Linear(input_dim, 47),\n",
    "            nn.ReLU(),\n",
    "            nn.Linear(47, 1)\n",
    "        )\n",
    "\n",
    "        # Loss function MSE\n",
    "        self.criterion = nn.MSELoss(reduction='mean')\n",
    "\n",
    "    def forward(self, x):\n",
    "        ''' Given input of size (batch_size x input_dim), compute output of the network '''\n",
    "        return self.net(x).squeeze(1)\n",
    "\n",
    "    def cal_loss(self, pred, target):\n",
    "        ''' Calculate loss '''\n",
    "        # You may try regularization here\n",
    "\n",
    "        return self.criterion(pred, target)\n"
   ]
  },
  {
   "attachments": {},
   "cell_type": "markdown",
   "id": "a0f886bb",
   "metadata": {},
   "source": [
    "## Validation\n"
   ]
  },
  {
   "cell_type": "code",
   "execution_count": 7,
   "id": "0339c829",
   "metadata": {},
   "outputs": [],
   "source": [
    "def dev(dv_set, model, device):\n",
    "    model.eval()                                # set model to evalutation mode\n",
    "    total_loss = 0\n",
    "    for x, y in dv_set:                         # iterate through the dataloader\n",
    "        x, y = x.to(device), y.to(device)       # move data to device (cpu/cuda)\n",
    "        with torch.no_grad():                   # disable gradient calculation\n",
    "            pred = model(x)                     # forward pass (compute output)\n",
    "            mse_loss = model.cal_loss(pred, y)  # compute loss\n",
    "        total_loss += mse_loss.detach().cpu().item() * len(x)  # accumulate loss\n",
    "    total_loss = total_loss / len(dv_set.dataset)              # compute averaged loss\n",
    "\n",
    "    return total_loss\n"
   ]
  },
  {
   "attachments": {},
   "cell_type": "markdown",
   "id": "8625e04c",
   "metadata": {},
   "source": [
    "## Training\n"
   ]
  },
  {
   "cell_type": "code",
   "execution_count": 8,
   "id": "42034751",
   "metadata": {},
   "outputs": [],
   "source": [
    "def train(tr_set, dv_set, model, config, device):\n",
    "\n",
    "    n_epochs = config['n_epochs']  # Maximum number of epochs\n",
    "\n",
    "    # Setup optimizer\n",
    "    optimizer = getattr(torch.optim, config['optimizer'])(\n",
    "        model.parameters(), **config['optim_hparas'])\n",
    "\n",
    "    min_mse = 1000.\n",
    "    loss_record = {'train': [], 'dev': []}      # for recording training loss\n",
    "    early_stop_cnt = 0\n",
    "    epoch = 0\n",
    "    while epoch < n_epochs:\n",
    "        model.train()                           # set model to training mode\n",
    "        for x, y in tr_set:                     # iterate through the dataloader\n",
    "            optimizer.zero_grad()               # set gradient to zero\n",
    "            x, y = x.to(device), y.to(device)   # move data to device (cpu/cuda)\n",
    "            pred = model(x)                     # forward pass (compute output)\n",
    "            mse_loss = model.cal_loss(pred, y)  # compute loss\n",
    "            mse_loss.backward()                 # compute gradient (backpropagation)\n",
    "            optimizer.step()                    # update model with optimizer\n",
    "            loss_record['train'].append(mse_loss.detach().cpu().item())\n",
    "\n",
    "        dev_mse = dev(dv_set, model, device)\n",
    "        if dev_mse < min_mse:\n",
    "            # Save model if your model improved\n",
    "            min_mse = dev_mse\n",
    "            print('Saving model (epoch = {:4d}, loss = {:.4f})'\n",
    "                  .format(epoch + 1, min_mse))\n",
    "            torch.save(model.state_dict(), config['save_path'])  # Save model to specified path\n",
    "            early_stop_cnt = 0\n",
    "        else:\n",
    "            early_stop_cnt += 1\n",
    "\n",
    "        epoch += 1\n",
    "        loss_record['dev'].append(dev_mse)\n",
    "        if early_stop_cnt > config['early_stop']:\n",
    "            break\n",
    "\n",
    "    print('Finished training after {} epochs'.format(epoch))\n",
    "    return min_mse, loss_record\n"
   ]
  },
  {
   "attachments": {},
   "cell_type": "markdown",
   "id": "997f8430",
   "metadata": {},
   "source": [
    "## Testing\n"
   ]
  },
  {
   "cell_type": "code",
   "execution_count": 9,
   "id": "841528bf",
   "metadata": {},
   "outputs": [],
   "source": [
    "def test(tt_set, model, device):\n",
    "    model.eval()                                # set model to evalutation mode\n",
    "    preds = []\n",
    "    for x in tt_set:                            # iterate through the dataloader\n",
    "        x = x.to(device)                        # move data to device (cpu/cuda)\n",
    "        with torch.no_grad():                   # disable gradient calculation\n",
    "            pred = model(x)                     # forward pass (compute output)\n",
    "            preds.append(pred.detach().cpu())   # collect prediction\n",
    "    preds = torch.cat(preds, dim=0).numpy()     # concatenate all predictions and convert to a numpy array\n",
    "    return preds\n"
   ]
  },
  {
   "cell_type": "markdown",
   "id": "a0aed462",
   "metadata": {},
   "source": [
    "## Hyper-parameters for DNN\n"
   ]
  },
  {
   "cell_type": "code",
   "execution_count": 10,
   "id": "bde81b48",
   "metadata": {},
   "outputs": [],
   "source": [
    "device = get_device()                 # get the current available device ('cpu' or 'cuda')\n",
    "os.makedirs('models', exist_ok=True)  # The trained model will be saved to ./models/\n",
    "modify = True                        # Need selection\n",
    "\n",
    "# Tune these hyper-parameters to improve your model\n",
    "config = {\n",
    "    'n_epochs': 5000,                # maximum number of epochs\n",
    "    'batch_size': 100,               # mini-batch size for dataloader\n",
    "    'optimizer': 'SGD',              # optimization algorithm (optimizer in torch.optim)\n",
    "    'optim_hparas': {                # hyper-parameters for the optimizer (depends on which optimizer you are using)\n",
    "        'lr': 0.0001,                # learning rate of SGD\n",
    "        'momentum': 0.9\n",
    "    },\n",
    "    'early_stop': 100,               # early stopping epochs (the number epochs since your model's last improvement)\n",
    "    'save_path': 'models/model.pth'  # your model will be saved here\n",
    "}\n"
   ]
  },
  {
   "attachments": {},
   "cell_type": "markdown",
   "id": "1b2f04ac",
   "metadata": {},
   "source": [
    "## Read the dataset\n"
   ]
  },
  {
   "cell_type": "code",
   "execution_count": 11,
   "id": "55ad5a64",
   "metadata": {
    "scrolled": true
   },
   "outputs": [
    {
     "name": "stdout",
     "output_type": "stream",
     "text": [
      "Finished reading the train set of COVID19 Dataset (1800 samples found, each dim = 92)\n",
      "Finished reading the dev set of COVID19 Dataset (200 samples found, each dim = 92)\n",
      "Finished reading the test set of COVID19 Dataset (500 samples found, each dim = 92)\n"
     ]
    }
   ],
   "source": [
    "train_path = '../data/HW1.train.csv'  # path to training data\n",
    "test_path = '../data/HW1.test.csv'   # path to testing data\n",
    "\n",
    "train_set = dataloader(train_path, 'train', config['batch_size'], modify=modify)\n",
    "validation_set = dataloader(train_path, 'dev', config['batch_size'], modify=modify)\n",
    "test_set = dataloader(test_path, 'test', config['batch_size'], modify=modify)\n"
   ]
  },
  {
   "attachments": {},
   "cell_type": "markdown",
   "id": "c4020f9b",
   "metadata": {},
   "source": [
    "## Try to train your DNN\n"
   ]
  },
  {
   "cell_type": "code",
   "execution_count": 12,
   "id": "0a27228e",
   "metadata": {},
   "outputs": [],
   "source": [
    "model = NeuralNet(train_set.dataset.dim).to(device)  # Construct model and move to device\n"
   ]
  },
  {
   "cell_type": "code",
   "execution_count": 13,
   "id": "a6416f36",
   "metadata": {},
   "outputs": [
    {
     "name": "stdout",
     "output_type": "stream",
     "text": [
      "Saving model (epoch =    1, loss = 270.1534)\n",
      "Saving model (epoch =    2, loss = 155.2136)\n",
      "Saving model (epoch =    3, loss = 43.1149)\n",
      "Saving model (epoch =    4, loss = 20.5454)\n",
      "Saving model (epoch =    5, loss = 17.9555)\n",
      "Saving model (epoch =    6, loss = 15.8707)\n",
      "Saving model (epoch =    7, loss = 14.1802)\n",
      "Saving model (epoch =    8, loss = 12.7285)\n",
      "Saving model (epoch =    9, loss = 11.5275)\n",
      "Saving model (epoch =   10, loss = 10.4614)\n",
      "Saving model (epoch =   11, loss = 9.5266)\n",
      "Saving model (epoch =   12, loss = 8.6701)\n",
      "Saving model (epoch =   13, loss = 7.9030)\n",
      "Saving model (epoch =   14, loss = 7.2556)\n",
      "Saving model (epoch =   15, loss = 6.6479)\n",
      "Saving model (epoch =   16, loss = 6.1404)\n",
      "Saving model (epoch =   17, loss = 5.6914)\n",
      "Saving model (epoch =   18, loss = 5.3020)\n",
      "Saving model (epoch =   19, loss = 4.9702)\n",
      "Saving model (epoch =   20, loss = 4.6541)\n",
      "Saving model (epoch =   21, loss = 4.3987)\n",
      "Saving model (epoch =   22, loss = 4.1556)\n",
      "Saving model (epoch =   23, loss = 3.9339)\n",
      "Saving model (epoch =   24, loss = 3.7345)\n",
      "Saving model (epoch =   25, loss = 3.5787)\n",
      "Saving model (epoch =   26, loss = 3.3953)\n",
      "Saving model (epoch =   27, loss = 3.2696)\n",
      "Saving model (epoch =   28, loss = 3.1249)\n",
      "Saving model (epoch =   29, loss = 3.0010)\n",
      "Saving model (epoch =   30, loss = 2.9010)\n",
      "Saving model (epoch =   31, loss = 2.7979)\n",
      "Saving model (epoch =   32, loss = 2.7107)\n",
      "Saving model (epoch =   33, loss = 2.6167)\n",
      "Saving model (epoch =   34, loss = 2.5319)\n",
      "Saving model (epoch =   35, loss = 2.4618)\n",
      "Saving model (epoch =   36, loss = 2.3771)\n",
      "Saving model (epoch =   37, loss = 2.3156)\n",
      "Saving model (epoch =   38, loss = 2.2452)\n",
      "Saving model (epoch =   39, loss = 2.1817)\n",
      "Saving model (epoch =   40, loss = 2.1242)\n",
      "Saving model (epoch =   41, loss = 2.0681)\n",
      "Saving model (epoch =   42, loss = 2.0187)\n",
      "Saving model (epoch =   43, loss = 1.9684)\n",
      "Saving model (epoch =   44, loss = 1.9249)\n",
      "Saving model (epoch =   45, loss = 1.8724)\n",
      "Saving model (epoch =   46, loss = 1.8277)\n",
      "Saving model (epoch =   47, loss = 1.8040)\n",
      "Saving model (epoch =   48, loss = 1.7648)\n",
      "Saving model (epoch =   49, loss = 1.7254)\n",
      "Saving model (epoch =   50, loss = 1.6945)\n",
      "Saving model (epoch =   51, loss = 1.6774)\n",
      "Saving model (epoch =   52, loss = 1.6299)\n",
      "Saving model (epoch =   53, loss = 1.6211)\n",
      "Saving model (epoch =   54, loss = 1.5943)\n",
      "Saving model (epoch =   55, loss = 1.5647)\n",
      "Saving model (epoch =   57, loss = 1.5185)\n",
      "Saving model (epoch =   59, loss = 1.4892)\n",
      "Saving model (epoch =   60, loss = 1.4741)\n",
      "Saving model (epoch =   61, loss = 1.4565)\n",
      "Saving model (epoch =   62, loss = 1.4325)\n",
      "Saving model (epoch =   63, loss = 1.4250)\n",
      "Saving model (epoch =   65, loss = 1.3958)\n",
      "Saving model (epoch =   66, loss = 1.3867)\n",
      "Saving model (epoch =   67, loss = 1.3751)\n",
      "Saving model (epoch =   68, loss = 1.3680)\n",
      "Saving model (epoch =   69, loss = 1.3500)\n",
      "Saving model (epoch =   70, loss = 1.3441)\n",
      "Saving model (epoch =   71, loss = 1.3373)\n",
      "Saving model (epoch =   72, loss = 1.3341)\n",
      "Saving model (epoch =   73, loss = 1.3143)\n",
      "Saving model (epoch =   74, loss = 1.3124)\n",
      "Saving model (epoch =   75, loss = 1.3097)\n",
      "Saving model (epoch =   76, loss = 1.2915)\n",
      "Saving model (epoch =   77, loss = 1.2839)\n",
      "Saving model (epoch =   78, loss = 1.2725)\n",
      "Saving model (epoch =   79, loss = 1.2723)\n",
      "Saving model (epoch =   80, loss = 1.2686)\n",
      "Saving model (epoch =   81, loss = 1.2627)\n",
      "Saving model (epoch =   82, loss = 1.2558)\n",
      "Saving model (epoch =   83, loss = 1.2460)\n",
      "Saving model (epoch =   84, loss = 1.2319)\n",
      "Saving model (epoch =   86, loss = 1.2252)\n",
      "Saving model (epoch =   87, loss = 1.2214)\n",
      "Saving model (epoch =   88, loss = 1.2163)\n",
      "Saving model (epoch =   89, loss = 1.2105)\n",
      "Saving model (epoch =   90, loss = 1.2090)\n",
      "Saving model (epoch =   91, loss = 1.1905)\n",
      "Saving model (epoch =   93, loss = 1.1897)\n",
      "Saving model (epoch =   94, loss = 1.1842)\n",
      "Saving model (epoch =   96, loss = 1.1691)\n",
      "Saving model (epoch =   98, loss = 1.1563)\n",
      "Saving model (epoch =  100, loss = 1.1517)\n",
      "Saving model (epoch =  102, loss = 1.1490)\n",
      "Saving model (epoch =  105, loss = 1.1386)\n",
      "Saving model (epoch =  106, loss = 1.1350)\n",
      "Saving model (epoch =  109, loss = 1.1273)\n",
      "Saving model (epoch =  111, loss = 1.1243)\n",
      "Saving model (epoch =  113, loss = 1.1214)\n",
      "Saving model (epoch =  114, loss = 1.1168)\n",
      "Saving model (epoch =  116, loss = 1.1136)\n",
      "Saving model (epoch =  117, loss = 1.1068)\n",
      "Saving model (epoch =  121, loss = 1.1044)\n",
      "Saving model (epoch =  123, loss = 1.0930)\n",
      "Saving model (epoch =  129, loss = 1.0868)\n",
      "Saving model (epoch =  130, loss = 1.0843)\n",
      "Saving model (epoch =  131, loss = 1.0752)\n",
      "Saving model (epoch =  134, loss = 1.0748)\n",
      "Saving model (epoch =  137, loss = 1.0690)\n",
      "Saving model (epoch =  140, loss = 1.0671)\n",
      "Saving model (epoch =  141, loss = 1.0610)\n",
      "Saving model (epoch =  143, loss = 1.0591)\n",
      "Saving model (epoch =  145, loss = 1.0567)\n",
      "Saving model (epoch =  147, loss = 1.0466)\n",
      "Saving model (epoch =  153, loss = 1.0422)\n",
      "Saving model (epoch =  154, loss = 1.0403)\n",
      "Saving model (epoch =  155, loss = 1.0380)\n",
      "Saving model (epoch =  160, loss = 1.0312)\n",
      "Saving model (epoch =  163, loss = 1.0288)\n",
      "Saving model (epoch =  165, loss = 1.0288)\n",
      "Saving model (epoch =  167, loss = 1.0233)\n",
      "Saving model (epoch =  169, loss = 1.0173)\n",
      "Saving model (epoch =  176, loss = 1.0147)\n",
      "Saving model (epoch =  177, loss = 1.0131)\n",
      "Saving model (epoch =  179, loss = 1.0119)\n",
      "Saving model (epoch =  180, loss = 1.0078)\n",
      "Saving model (epoch =  184, loss = 1.0044)\n",
      "Saving model (epoch =  189, loss = 1.0037)\n",
      "Saving model (epoch =  190, loss = 1.0004)\n",
      "Saving model (epoch =  191, loss = 0.9942)\n",
      "Saving model (epoch =  193, loss = 0.9926)\n",
      "Saving model (epoch =  199, loss = 0.9922)\n",
      "Saving model (epoch =  200, loss = 0.9861)\n",
      "Saving model (epoch =  204, loss = 0.9842)\n",
      "Saving model (epoch =  208, loss = 0.9834)\n",
      "Saving model (epoch =  210, loss = 0.9824)\n",
      "Saving model (epoch =  212, loss = 0.9802)\n",
      "Saving model (epoch =  213, loss = 0.9786)\n",
      "Saving model (epoch =  216, loss = 0.9728)\n",
      "Saving model (epoch =  223, loss = 0.9717)\n",
      "Saving model (epoch =  224, loss = 0.9710)\n",
      "Saving model (epoch =  226, loss = 0.9687)\n",
      "Saving model (epoch =  230, loss = 0.9678)\n",
      "Saving model (epoch =  233, loss = 0.9648)\n",
      "Saving model (epoch =  239, loss = 0.9632)\n",
      "Saving model (epoch =  240, loss = 0.9606)\n",
      "Saving model (epoch =  245, loss = 0.9606)\n",
      "Saving model (epoch =  246, loss = 0.9585)\n",
      "Saving model (epoch =  249, loss = 0.9558)\n",
      "Saving model (epoch =  252, loss = 0.9545)\n",
      "Saving model (epoch =  255, loss = 0.9540)\n",
      "Saving model (epoch =  257, loss = 0.9490)\n",
      "Saving model (epoch =  261, loss = 0.9475)\n",
      "Saving model (epoch =  266, loss = 0.9468)\n",
      "Saving model (epoch =  267, loss = 0.9456)\n",
      "Saving model (epoch =  269, loss = 0.9448)\n",
      "Saving model (epoch =  272, loss = 0.9395)\n",
      "Saving model (epoch =  277, loss = 0.9392)\n",
      "Saving model (epoch =  280, loss = 0.9367)\n",
      "Saving model (epoch =  282, loss = 0.9336)\n",
      "Saving model (epoch =  289, loss = 0.9330)\n",
      "Saving model (epoch =  291, loss = 0.9328)\n",
      "Saving model (epoch =  293, loss = 0.9267)\n",
      "Saving model (epoch =  301, loss = 0.9257)\n",
      "Saving model (epoch =  302, loss = 0.9228)\n",
      "Saving model (epoch =  306, loss = 0.9195)\n",
      "Saving model (epoch =  315, loss = 0.9160)\n",
      "Saving model (epoch =  321, loss = 0.9092)\n",
      "Saving model (epoch =  332, loss = 0.9069)\n",
      "Saving model (epoch =  338, loss = 0.9061)\n",
      "Saving model (epoch =  340, loss = 0.9042)\n",
      "Saving model (epoch =  342, loss = 0.9028)\n",
      "Saving model (epoch =  346, loss = 0.8984)\n",
      "Saving model (epoch =  352, loss = 0.8960)\n",
      "Saving model (epoch =  363, loss = 0.8958)\n",
      "Saving model (epoch =  365, loss = 0.8957)\n",
      "Saving model (epoch =  367, loss = 0.8935)\n",
      "Saving model (epoch =  368, loss = 0.8928)\n",
      "Saving model (epoch =  374, loss = 0.8924)\n",
      "Saving model (epoch =  375, loss = 0.8918)\n",
      "Saving model (epoch =  378, loss = 0.8889)\n",
      "Saving model (epoch =  383, loss = 0.8871)\n",
      "Saving model (epoch =  386, loss = 0.8852)\n",
      "Saving model (epoch =  391, loss = 0.8846)\n",
      "Saving model (epoch =  398, loss = 0.8828)\n",
      "Saving model (epoch =  400, loss = 0.8822)\n",
      "Saving model (epoch =  402, loss = 0.8793)\n",
      "Saving model (epoch =  405, loss = 0.8785)\n",
      "Saving model (epoch =  411, loss = 0.8781)\n",
      "Saving model (epoch =  414, loss = 0.8761)\n",
      "Saving model (epoch =  423, loss = 0.8742)\n",
      "Saving model (epoch =  431, loss = 0.8720)\n",
      "Saving model (epoch =  436, loss = 0.8697)\n",
      "Saving model (epoch =  443, loss = 0.8668)\n",
      "Saving model (epoch =  448, loss = 0.8648)\n",
      "Saving model (epoch =  462, loss = 0.8644)\n",
      "Saving model (epoch =  466, loss = 0.8637)\n",
      "Saving model (epoch =  470, loss = 0.8635)\n",
      "Saving model (epoch =  474, loss = 0.8625)\n",
      "Saving model (epoch =  477, loss = 0.8610)\n",
      "Saving model (epoch =  479, loss = 0.8604)\n",
      "Saving model (epoch =  482, loss = 0.8593)\n",
      "Saving model (epoch =  485, loss = 0.8589)\n",
      "Saving model (epoch =  491, loss = 0.8580)\n",
      "Saving model (epoch =  505, loss = 0.8530)\n",
      "Saving model (epoch =  515, loss = 0.8525)\n",
      "Saving model (epoch =  533, loss = 0.8516)\n",
      "Saving model (epoch =  537, loss = 0.8501)\n",
      "Saving model (epoch =  541, loss = 0.8495)\n",
      "Saving model (epoch =  544, loss = 0.8484)\n",
      "Saving model (epoch =  574, loss = 0.8471)\n",
      "Saving model (epoch =  587, loss = 0.8456)\n",
      "Saving model (epoch =  601, loss = 0.8449)\n",
      "Saving model (epoch =  615, loss = 0.8447)\n",
      "Saving model (epoch =  623, loss = 0.8446)\n",
      "Saving model (epoch =  627, loss = 0.8421)\n",
      "Saving model (epoch =  631, loss = 0.8414)\n",
      "Saving model (epoch =  638, loss = 0.8404)\n",
      "Saving model (epoch =  643, loss = 0.8395)\n",
      "Saving model (epoch =  661, loss = 0.8369)\n",
      "Saving model (epoch =  716, loss = 0.8367)\n",
      "Saving model (epoch =  751, loss = 0.8342)\n",
      "Saving model (epoch =  797, loss = 0.8315)\n",
      "Saving model (epoch =  832, loss = 0.8294)\n",
      "Saving model (epoch =  895, loss = 0.8275)\n",
      "Saving model (epoch =  959, loss = 0.8247)\n",
      "Saving model (epoch =  979, loss = 0.8242)\n",
      "Finished training after 1080 epochs\n"
     ]
    }
   ],
   "source": [
    "model_loss, model_loss_record = train(train_set, validation_set, model, config, device)\n"
   ]
  },
  {
   "cell_type": "code",
   "execution_count": 14,
   "id": "2881054f",
   "metadata": {},
   "outputs": [
    {
     "data": {
      "image/png": "[encoded data removed]",
      "text/plain": [
       "<Figure size 600x400 with 1 Axes>"
      ]
     },
     "metadata": {},
     "output_type": "display_data"
    }
   ],
   "source": [
    "plot_learning_curve(model_loss_record, title='deep model')\n"
   ]
  },
  {
   "cell_type": "code",
   "execution_count": 15,
   "id": "f1bee712",
   "metadata": {},
   "outputs": [
    {
     "data": {
      "image/png": "[encoded data removed]",
      "text/plain": [
       "<Figure size 500x500 with 1 Axes>"
      ]
     },
     "metadata": {},
     "output_type": "display_data"
    }
   ],
   "source": [
    "del model\n",
    "model = NeuralNet(train_set.dataset.dim).to(device)\n",
    "ckpt = torch.load(config['save_path'], map_location='cpu')  # Load your best model\n",
    "model.load_state_dict(ckpt)\n",
    "plot_pred(validation_set, model, device)  # Show prediction on the validation set\n"
   ]
  },
  {
   "attachments": {},
   "cell_type": "markdown",
   "id": "31261f5f",
   "metadata": {},
   "source": [
    "## Testing\n",
    "\n",
    "Get the prediction result and save it to csv file named 'prediction.csv'\n"
   ]
  },
  {
   "cell_type": "code",
   "execution_count": 16,
   "id": "a6acc3b6",
   "metadata": {},
   "outputs": [
    {
     "name": "stdout",
     "output_type": "stream",
     "text": [
      "Saving results to prediction.csv\n"
     ]
    }
   ],
   "source": [
    "def save_pred(preds, file):\n",
    "    print('Saving results to {}'.format(file))\n",
    "    with open(file, 'w') as fp:\n",
    "        writer = csv.writer(fp)\n",
    "        writer.writerow(['id', 'tested_positive'])\n",
    "        for i, p in enumerate(preds):\n",
    "            writer.writerow([i, p])\n",
    "\n",
    "\n",
    "preds = test(test_set, model, device)  # predict COVID-19 cases with your model\n",
    "save_pred(preds, 'prediction.csv')         # save prediction file to pred.csv\n"
   ]
  },
  {
   "attachments": {},
   "cell_type": "markdown",
   "id": "7340932d",
   "metadata": {},
   "source": [
    "## Hints for better result\n",
    "\n",
    "-   Feature selection\n",
    "-   DNN architecture\n",
    "-   Training (mini-batch/optimizer/learning rate)\n",
    "-   Regularization\n"
   ]
  }
 ],
 "metadata": {
  "kernelspec": {
   "display_name": "4016",
   "language": "python",
   "name": "python3"
  },
  "language_info": {
   "codemirror_mode": {
    "name": "ipython",
    "version": 3
   },
   "file_extension": ".py",
   "mimetype": "text/x-python",
   "name": "python",
   "nbconvert_exporter": "python",
   "pygments_lexer": "ipython3",
   "version": "3.10.8"
  },
  "vscode": {
   "interpreter": {
    "hash": "7d2802fe7c6103ed55938689795e5d5c39fc82d10c8d38b20790576d767dda36"
   }
  }
 },
 "nbformat": 4,
 "nbformat_minor": 5
}
