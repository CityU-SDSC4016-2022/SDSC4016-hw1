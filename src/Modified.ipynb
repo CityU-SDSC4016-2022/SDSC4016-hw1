{
 "cells": [
  {
   "attachments": {},
   "cell_type": "markdown",
   "id": "42b67c5d",
   "metadata": {},
   "source": [
    "# Baseline Code for HW1\n",
    "\n",
    "This is just the baseline code to set up the basic function you need. You need to modify the code yourself to achieve a better result.\n"
   ]
  },
  {
   "attachments": {},
   "cell_type": "markdown",
   "id": "d88ab3a2",
   "metadata": {},
   "source": [
    "## Import packages you need\n"
   ]
  },
  {
   "cell_type": "code",
   "execution_count": 33,
   "id": "b63ef26d",
   "metadata": {},
   "outputs": [],
   "source": [
    "# PyTorch\n",
    "import torch\n",
    "import torch.nn as nn\n",
    "from torch.utils.data import Dataset, DataLoader\n",
    "\n",
    "# For data preprocess\n",
    "import numpy as np\n",
    "import csv\n",
    "import os\n",
    "\n",
    "# For plotting\n",
    "import matplotlib.pyplot as plt\n",
    "from matplotlib.pyplot import figure\n",
    "\n",
    "myseed = 666  # set a random seed for reproducibility\n",
    "torch.backends.cudnn.deterministic = True\n",
    "torch.backends.cudnn.benchmark = False\n",
    "np.random.seed(myseed)\n",
    "torch.manual_seed(myseed)\n",
    "if torch.cuda.is_available():\n",
    "    torch.cuda.manual_seed_all(myseed)\n"
   ]
  },
  {
   "attachments": {},
   "cell_type": "markdown",
   "id": "0bad5f7a",
   "metadata": {},
   "source": [
    "## Show current device name\n"
   ]
  },
  {
   "cell_type": "code",
   "execution_count": 34,
   "id": "7bb581ce",
   "metadata": {},
   "outputs": [
    {
     "data": {
      "text/plain": [
       "'NVIDIA GeForce RTX 3080 Ti'"
      ]
     },
     "execution_count": 34,
     "metadata": {},
     "output_type": "execute_result"
    }
   ],
   "source": [
    "torch.cuda.get_device_name(0)\n"
   ]
  },
  {
   "attachments": {},
   "cell_type": "markdown",
   "id": "f4af96d7",
   "metadata": {},
   "source": [
    "## Basic Function\n",
    "\n",
    "Do not modify this part\n"
   ]
  },
  {
   "cell_type": "code",
   "execution_count": 35,
   "id": "7c6e7cae",
   "metadata": {},
   "outputs": [],
   "source": [
    "def get_device():\n",
    "    ''' Get device (if GPU is available, use GPU) '''\n",
    "    return 'cuda' if torch.cuda.is_available() else 'cpu'\n",
    "\n",
    "\n",
    "def plot_learning_curve(loss_record, title=''):\n",
    "    ''' Plot learning curve of your DNN (train & dev loss) '''\n",
    "    total_steps = len(loss_record['train'])\n",
    "    x_1 = range(total_steps)\n",
    "    x_2 = x_1[::len(loss_record['train']) // len(loss_record['dev'])]\n",
    "    figure(figsize=(6, 4))\n",
    "    plt.plot(x_1, loss_record['train'], c='tab:red', label='train')\n",
    "    plt.plot(x_2, loss_record['dev'], c='tab:cyan', label='dev')\n",
    "    plt.ylim(0.0, 5.)\n",
    "    plt.xlabel('Training steps')\n",
    "    plt.ylabel('MSE loss')\n",
    "    plt.title('Learning curve of {}'.format(title))\n",
    "    plt.legend()\n",
    "    plt.show()\n",
    "\n",
    "\n",
    "def plot_pred(dv_set, model, device, lim=35., preds=None, targets=None):\n",
    "    ''' Plot prediction of your DNN '''\n",
    "    if preds is None or targets is None:\n",
    "        model.eval()\n",
    "        preds, targets = [], []\n",
    "        for x, y in dv_set:\n",
    "            x, y = x.to(device), y.to(device)\n",
    "            with torch.no_grad():\n",
    "                pred = model(x)\n",
    "                preds.append(pred.detach().cpu())\n",
    "                targets.append(y.detach().cpu())\n",
    "        preds = torch.cat(preds, dim=0).numpy()\n",
    "        targets = torch.cat(targets, dim=0).numpy()\n",
    "\n",
    "    figure(figsize=(5, 5))\n",
    "    plt.scatter(targets, preds, c='r', alpha=0.5)\n",
    "    plt.plot([-0.2, lim], [-0.2, lim], c='b')\n",
    "    plt.xlim(-0.2, lim)\n",
    "    plt.ylim(-0.2, lim)\n",
    "    plt.xlabel('Truth value')\n",
    "    plt.ylabel('predicted value')\n",
    "    plt.title('Truth v.s. Prediction')\n",
    "    plt.show()\n"
   ]
  },
  {
   "attachments": {},
   "cell_type": "markdown",
   "id": "84bd9695",
   "metadata": {},
   "source": [
    "## Data and Preprocess\n",
    "\n",
    "The function below used to:\n",
    "\n",
    "1. Read the csv files into python\n",
    "2. Choose features (you can choose yourself)\n",
    "3. Split data into training and validation sets.\n",
    "4. Normalization\n"
   ]
  },
  {
   "cell_type": "code",
   "execution_count": 36,
   "id": "127739cf",
   "metadata": {},
   "outputs": [],
   "source": [
    "class Dataprocess(Dataset):\n",
    "    def __init__(self,\n",
    "                 path,\n",
    "                 mode='train',\n",
    "                 modify=False):\n",
    "        self.mode = mode\n",
    "\n",
    "        # Read csv file\n",
    "        with open(path, 'r') as f:\n",
    "            data = list(csv.reader(f))\n",
    "            data = np.array(data[1:])[:, 1:].astype(float)\n",
    "\n",
    "        if modify == False:\n",
    "            feats = list(range(93))\n",
    "        else:\n",
    "            # Hint:Feature Selection\n",
    "            feats = list(range(40, 93))\n",
    "\n",
    "        if mode == 'test':\n",
    "            # Testing set\n",
    "            data = data[:, feats]\n",
    "            self.data = torch.FloatTensor(data)\n",
    "        else:\n",
    "            # Training set\n",
    "            target = data[:, -1]\n",
    "            data = data[:, feats]\n",
    "\n",
    "            # Splitting data into training and validation sets\n",
    "            if mode == 'train':\n",
    "                indices = [i for i in range(len(data)) if i % 10 != 0]\n",
    "            elif mode == 'dev':\n",
    "                indices = [i for i in range(len(data)) if i % 10 == 0]\n",
    "\n",
    "            # Convert data into PyTorch tensors\n",
    "            self.data = torch.FloatTensor(data[indices])\n",
    "            self.target = torch.FloatTensor(target[indices])\n",
    "\n",
    "        # Normalize features\n",
    "        self.data[:, 40:] = \\\n",
    "            (self.data[:, 40:] - self.data[:, 40:].mean(dim=0, keepdim=True)) \\\n",
    "            / self.data[:, 40:].std(dim=0, keepdim=True)\n",
    "\n",
    "        self.dim = self.data.shape[1]\n",
    "\n",
    "        print('Finished reading the {} set of COVID19 Dataset ({} samples found, each dim = {})'\n",
    "              .format(mode, len(self.data), self.dim))\n",
    "\n",
    "    def __getitem__(self, index):\n",
    "        # Returns one sample at a time\n",
    "        if self.mode in ['train', 'dev']:\n",
    "            # For training\n",
    "            return self.data[index], self.target[index]\n",
    "        else:\n",
    "            # For testing\n",
    "            return self.data[index]\n",
    "\n",
    "    def __len__(self):\n",
    "        # Returns the size of the dataset\n",
    "        return len(self.data)\n"
   ]
  },
  {
   "attachments": {},
   "cell_type": "markdown",
   "id": "dd6939cf",
   "metadata": {},
   "source": [
    "## Dataloader\n",
    "\n",
    "Loads data into batches.\n"
   ]
  },
  {
   "cell_type": "code",
   "execution_count": 37,
   "id": "a5123b30",
   "metadata": {},
   "outputs": [],
   "source": [
    "def dataloader(path, mode, batch_size, n_jobs=0, modify=False):\n",
    "    dataset = Dataprocess(path, mode=mode, modify=modify)\n",
    "    dataloader = DataLoader(\n",
    "        dataset, batch_size,\n",
    "        shuffle=(mode == 'train'), drop_last=False,\n",
    "        num_workers=n_jobs, pin_memory=True)\n",
    "    return dataloader\n"
   ]
  },
  {
   "attachments": {},
   "cell_type": "markdown",
   "id": "3683c933",
   "metadata": {},
   "source": [
    "## Define DNN by pytorch\n",
    "\n",
    "The DNN consists of 2 fully-connected layers with ReLU activation function\n"
   ]
  },
  {
   "cell_type": "code",
   "execution_count": 38,
   "id": "a18d0f3a",
   "metadata": {},
   "outputs": [],
   "source": [
    "class NeuralNet(nn.Module):\n",
    "    def __init__(self, input_dim):\n",
    "        super(NeuralNet, self).__init__()\n",
    "\n",
    "        # Try to modify this DNN to achieve better performance\n",
    "        self.net = nn.Sequential(\n",
    "            nn.Linear(input_dim, 47),\n",
    "            nn.ReLU(),\n",
    "            nn.Linear(47, 1)\n",
    "        )\n",
    "\n",
    "        # Loss function MSE\n",
    "        self.criterion = nn.MSELoss(reduction='mean')\n",
    "\n",
    "    def forward(self, x):\n",
    "        ''' Given input of size (batch_size x input_dim), compute output of the network '''\n",
    "        return self.net(x).squeeze(1)\n",
    "\n",
    "    def cal_loss(self, pred, target):\n",
    "        ''' Calculate loss '''\n",
    "        # You may try regularization here\n",
    "\n",
    "        return self.criterion(pred, target)\n"
   ]
  },
  {
   "attachments": {},
   "cell_type": "markdown",
   "id": "a0f886bb",
   "metadata": {},
   "source": [
    "## Validation\n"
   ]
  },
  {
   "cell_type": "code",
   "execution_count": 39,
   "id": "0339c829",
   "metadata": {},
   "outputs": [],
   "source": [
    "def dev(dv_set, model, device):\n",
    "    model.eval()                                # set model to evalutation mode\n",
    "    total_loss = 0\n",
    "    for x, y in dv_set:                         # iterate through the dataloader\n",
    "        x, y = x.to(device), y.to(device)       # move data to device (cpu/cuda)\n",
    "        with torch.no_grad():                   # disable gradient calculation\n",
    "            pred = model(x)                     # forward pass (compute output)\n",
    "            mse_loss = model.cal_loss(pred, y)  # compute loss\n",
    "        total_loss += mse_loss.detach().cpu().item() * len(x)  # accumulate loss\n",
    "    total_loss = total_loss / len(dv_set.dataset)              # compute averaged loss\n",
    "\n",
    "    return total_loss\n"
   ]
  },
  {
   "attachments": {},
   "cell_type": "markdown",
   "id": "8625e04c",
   "metadata": {},
   "source": [
    "## Training\n"
   ]
  },
  {
   "cell_type": "code",
   "execution_count": 40,
   "id": "42034751",
   "metadata": {},
   "outputs": [],
   "source": [
    "def train(tr_set, dv_set, model, config, device):\n",
    "\n",
    "    n_epochs = config['n_epochs']  # Maximum number of epochs\n",
    "\n",
    "    # Setup optimizer\n",
    "    optimizer = getattr(torch.optim, config['optimizer'])(\n",
    "        model.parameters(), **config['optim_hparas'])\n",
    "\n",
    "    min_mse = 1000.\n",
    "    loss_record = {'train': [], 'dev': []}      # for recording training loss\n",
    "    early_stop_cnt = 0\n",
    "    epoch = 0\n",
    "    while epoch < n_epochs:\n",
    "        model.train()                           # set model to training mode\n",
    "        for x, y in tr_set:                     # iterate through the dataloader\n",
    "            optimizer.zero_grad()               # set gradient to zero\n",
    "            x, y = x.to(device), y.to(device)   # move data to device (cpu/cuda)\n",
    "            pred = model(x)                     # forward pass (compute output)\n",
    "            mse_loss = model.cal_loss(pred, y)  # compute loss\n",
    "            mse_loss.backward()                 # compute gradient (backpropagation)\n",
    "            optimizer.step()                    # update model with optimizer\n",
    "            loss_record['train'].append(mse_loss.detach().cpu().item())\n",
    "\n",
    "        dev_mse = dev(dv_set, model, device)\n",
    "        if dev_mse < min_mse:\n",
    "            # Save model if your model improved\n",
    "            min_mse = dev_mse\n",
    "            print('Saving model (epoch = {:4d}, loss = {:.4f})'\n",
    "                  .format(epoch + 1, min_mse))\n",
    "            torch.save(model.state_dict(), config['save_path'])  # Save model to specified path\n",
    "            early_stop_cnt = 0\n",
    "        else:\n",
    "            early_stop_cnt += 1\n",
    "\n",
    "        epoch += 1\n",
    "        loss_record['dev'].append(dev_mse)\n",
    "        if early_stop_cnt > config['early_stop']:\n",
    "            break\n",
    "\n",
    "    print('Finished training after {} epochs'.format(epoch))\n",
    "    return min_mse, loss_record\n"
   ]
  },
  {
   "attachments": {},
   "cell_type": "markdown",
   "id": "997f8430",
   "metadata": {},
   "source": [
    "## Testing\n"
   ]
  },
  {
   "cell_type": "code",
   "execution_count": 41,
   "id": "841528bf",
   "metadata": {},
   "outputs": [],
   "source": [
    "def test(tt_set, model, device):\n",
    "    model.eval()                                # set model to evalutation mode\n",
    "    preds = []\n",
    "    for x in tt_set:                            # iterate through the dataloader\n",
    "        x = x.to(device)                        # move data to device (cpu/cuda)\n",
    "        with torch.no_grad():                   # disable gradient calculation\n",
    "            pred = model(x)                     # forward pass (compute output)\n",
    "            preds.append(pred.detach().cpu())   # collect prediction\n",
    "    preds = torch.cat(preds, dim=0).numpy()     # concatenate all predictions and convert to a numpy array\n",
    "    return preds\n"
   ]
  },
  {
   "cell_type": "markdown",
   "id": "a0aed462",
   "metadata": {},
   "source": [
    "## Hyper-parameters for DNN\n"
   ]
  },
  {
   "cell_type": "code",
   "execution_count": 42,
   "id": "bde81b48",
   "metadata": {},
   "outputs": [],
   "source": [
    "device = get_device()                 # get the current available device ('cpu' or 'cuda')\n",
    "os.makedirs('models', exist_ok=True)  # The trained model will be saved to ./models/\n",
    "modify = True                        # Need selection\n",
    "\n",
    "# Tune these hyper-parameters to improve your model\n",
    "config = {\n",
    "    'n_epochs': 5000,                # maximum number of epochs\n",
    "    'batch_size': 100,               # mini-batch size for dataloader\n",
    "    'optimizer': 'SGD',              # optimization algorithm (optimizer in torch.optim)\n",
    "    'optim_hparas': {                # hyper-parameters for the optimizer (depends on which optimizer you are using)\n",
    "        'lr': 0.0001,                # learning rate of SGD\n",
    "        'momentum': 0.9\n",
    "    },\n",
    "    'early_stop': 100,               # early stopping epochs (the number epochs since your model's last improvement)\n",
    "    'save_path': 'models/model.pth'  # your model will be saved here\n",
    "}\n"
   ]
  },
  {
   "attachments": {},
   "cell_type": "markdown",
   "id": "1b2f04ac",
   "metadata": {},
   "source": [
    "## Read the dataset\n"
   ]
  },
  {
   "cell_type": "code",
   "execution_count": 43,
   "id": "55ad5a64",
   "metadata": {
    "scrolled": true
   },
   "outputs": [
    {
     "name": "stdout",
     "output_type": "stream",
     "text": [
      "Finished reading the train set of COVID19 Dataset (1800 samples found, each dim = 53)\n",
      "Finished reading the dev set of COVID19 Dataset (200 samples found, each dim = 53)\n",
      "Finished reading the test set of COVID19 Dataset (500 samples found, each dim = 53)\n"
     ]
    }
   ],
   "source": [
    "train_path = '../data/HW1.train.csv'  # path to training data\n",
    "test_path = '../data/HW1.test.csv'   # path to testing data\n",
    "\n",
    "train_set = dataloader(train_path, 'train', config['batch_size'], modify=modify)\n",
    "validation_set = dataloader(train_path, 'dev', config['batch_size'], modify=modify)\n",
    "test_set = dataloader(test_path, 'test', config['batch_size'], modify=modify)\n"
   ]
  },
  {
   "attachments": {},
   "cell_type": "markdown",
   "id": "c4020f9b",
   "metadata": {},
   "source": [
    "## Try to train your DNN\n"
   ]
  },
  {
   "cell_type": "code",
   "execution_count": 44,
   "id": "0a27228e",
   "metadata": {},
   "outputs": [],
   "source": [
    "model = NeuralNet(train_set.dataset.dim).to(device)  # Construct model and move to device\n"
   ]
  },
  {
   "cell_type": "code",
   "execution_count": 45,
   "id": "a6416f36",
   "metadata": {},
   "outputs": [
    {
     "name": "stdout",
     "output_type": "stream",
     "text": [
      "Saving model (epoch =    1, loss = 59.0032)\n",
      "Saving model (epoch =    2, loss = 20.9789)\n",
      "Saving model (epoch =    4, loss = 10.0423)\n",
      "Saving model (epoch =    5, loss = 8.2034)\n",
      "Saving model (epoch =    6, loss = 7.0902)\n",
      "Saving model (epoch =    7, loss = 6.3527)\n",
      "Saving model (epoch =    8, loss = 6.0644)\n",
      "Saving model (epoch =    9, loss = 5.3498)\n",
      "Saving model (epoch =   10, loss = 4.6025)\n",
      "Saving model (epoch =   11, loss = 4.0293)\n",
      "Saving model (epoch =   12, loss = 3.7651)\n",
      "Saving model (epoch =   15, loss = 3.5013)\n",
      "Saving model (epoch =   17, loss = 1.9627)\n",
      "Saving model (epoch =   18, loss = 1.8678)\n",
      "Saving model (epoch =   20, loss = 1.7531)\n",
      "Saving model (epoch =   21, loss = 1.6310)\n",
      "Saving model (epoch =   22, loss = 1.5240)\n",
      "Saving model (epoch =   24, loss = 1.4981)\n",
      "Saving model (epoch =   25, loss = 1.4838)\n",
      "Saving model (epoch =   26, loss = 1.4780)\n",
      "Saving model (epoch =   30, loss = 1.3678)\n",
      "Saving model (epoch =   31, loss = 1.3431)\n",
      "Saving model (epoch =   35, loss = 1.2954)\n",
      "Saving model (epoch =   38, loss = 1.2758)\n",
      "Saving model (epoch =   39, loss = 1.2751)\n",
      "Saving model (epoch =   41, loss = 1.2529)\n",
      "Saving model (epoch =   45, loss = 1.2319)\n",
      "Saving model (epoch =   50, loss = 1.2164)\n",
      "Saving model (epoch =   59, loss = 1.1904)\n",
      "Saving model (epoch =   62, loss = 1.1859)\n",
      "Saving model (epoch =   64, loss = 1.1810)\n",
      "Saving model (epoch =   69, loss = 1.1713)\n",
      "Saving model (epoch =   91, loss = 1.1336)\n",
      "Saving model (epoch =   99, loss = 1.1238)\n",
      "Saving model (epoch =  101, loss = 1.1217)\n",
      "Saving model (epoch =  105, loss = 1.1152)\n",
      "Saving model (epoch =  115, loss = 1.1055)\n",
      "Saving model (epoch =  119, loss = 1.1040)\n",
      "Saving model (epoch =  130, loss = 1.0932)\n",
      "Saving model (epoch =  143, loss = 1.0809)\n",
      "Saving model (epoch =  156, loss = 1.0702)\n",
      "Saving model (epoch =  157, loss = 1.0684)\n",
      "Saving model (epoch =  172, loss = 1.0549)\n",
      "Saving model (epoch =  182, loss = 1.0468)\n",
      "Saving model (epoch =  185, loss = 1.0458)\n",
      "Saving model (epoch =  194, loss = 1.0408)\n",
      "Saving model (epoch =  198, loss = 1.0350)\n",
      "Saving model (epoch =  201, loss = 1.0307)\n",
      "Saving model (epoch =  212, loss = 1.0253)\n",
      "Saving model (epoch =  224, loss = 1.0168)\n",
      "Saving model (epoch =  226, loss = 1.0158)\n",
      "Saving model (epoch =  232, loss = 1.0100)\n",
      "Saving model (epoch =  234, loss = 1.0066)\n",
      "Saving model (epoch =  254, loss = 0.9985)\n",
      "Saving model (epoch =  267, loss = 0.9974)\n",
      "Saving model (epoch =  283, loss = 0.9878)\n",
      "Saving model (epoch =  290, loss = 0.9814)\n",
      "Saving model (epoch =  295, loss = 0.9794)\n",
      "Saving model (epoch =  307, loss = 0.9778)\n",
      "Saving model (epoch =  311, loss = 0.9757)\n",
      "Saving model (epoch =  341, loss = 0.9700)\n",
      "Saving model (epoch =  344, loss = 0.9690)\n",
      "Saving model (epoch =  345, loss = 0.9625)\n",
      "Saving model (epoch =  356, loss = 0.9556)\n",
      "Saving model (epoch =  366, loss = 0.9526)\n",
      "Saving model (epoch =  385, loss = 0.9473)\n",
      "Saving model (epoch =  391, loss = 0.9411)\n",
      "Saving model (epoch =  394, loss = 0.9406)\n",
      "Saving model (epoch =  410, loss = 0.9405)\n",
      "Saving model (epoch =  413, loss = 0.9390)\n",
      "Saving model (epoch =  450, loss = 0.9350)\n",
      "Saving model (epoch =  476, loss = 0.9252)\n",
      "Saving model (epoch =  481, loss = 0.9223)\n",
      "Saving model (epoch =  493, loss = 0.9204)\n",
      "Saving model (epoch =  510, loss = 0.9168)\n",
      "Saving model (epoch =  513, loss = 0.9148)\n",
      "Saving model (epoch =  530, loss = 0.9133)\n",
      "Saving model (epoch =  566, loss = 0.9091)\n",
      "Saving model (epoch =  581, loss = 0.9057)\n",
      "Saving model (epoch =  583, loss = 0.9038)\n",
      "Saving model (epoch =  593, loss = 0.9034)\n",
      "Saving model (epoch =  595, loss = 0.9016)\n",
      "Saving model (epoch =  601, loss = 0.9005)\n",
      "Saving model (epoch =  613, loss = 0.8997)\n",
      "Saving model (epoch =  627, loss = 0.8986)\n",
      "Saving model (epoch =  643, loss = 0.8970)\n",
      "Saving model (epoch =  651, loss = 0.8958)\n",
      "Saving model (epoch =  663, loss = 0.8951)\n",
      "Saving model (epoch =  675, loss = 0.8912)\n",
      "Saving model (epoch =  690, loss = 0.8901)\n",
      "Saving model (epoch =  707, loss = 0.8855)\n",
      "Saving model (epoch =  727, loss = 0.8848)\n",
      "Saving model (epoch =  737, loss = 0.8843)\n",
      "Saving model (epoch =  739, loss = 0.8828)\n",
      "Saving model (epoch =  750, loss = 0.8820)\n",
      "Saving model (epoch =  775, loss = 0.8816)\n",
      "Saving model (epoch =  785, loss = 0.8803)\n",
      "Saving model (epoch =  823, loss = 0.8799)\n",
      "Saving model (epoch =  826, loss = 0.8769)\n",
      "Saving model (epoch =  841, loss = 0.8755)\n",
      "Saving model (epoch =  855, loss = 0.8740)\n",
      "Saving model (epoch =  884, loss = 0.8728)\n",
      "Saving model (epoch =  926, loss = 0.8708)\n",
      "Saving model (epoch =  959, loss = 0.8707)\n",
      "Saving model (epoch =  968, loss = 0.8687)\n",
      "Saving model (epoch =  969, loss = 0.8685)\n",
      "Saving model (epoch =  971, loss = 0.8681)\n",
      "Saving model (epoch =  982, loss = 0.8677)\n",
      "Saving model (epoch =  984, loss = 0.8668)\n",
      "Saving model (epoch =  996, loss = 0.8666)\n",
      "Saving model (epoch = 1013, loss = 0.8658)\n",
      "Saving model (epoch = 1030, loss = 0.8638)\n",
      "Saving model (epoch = 1060, loss = 0.8626)\n",
      "Saving model (epoch = 1119, loss = 0.8617)\n",
      "Saving model (epoch = 1181, loss = 0.8614)\n",
      "Saving model (epoch = 1182, loss = 0.8604)\n",
      "Saving model (epoch = 1206, loss = 0.8598)\n",
      "Saving model (epoch = 1231, loss = 0.8579)\n",
      "Saving model (epoch = 1257, loss = 0.8563)\n",
      "Saving model (epoch = 1299, loss = 0.8563)\n",
      "Saving model (epoch = 1322, loss = 0.8559)\n",
      "Saving model (epoch = 1351, loss = 0.8535)\n",
      "Saving model (epoch = 1438, loss = 0.8529)\n",
      "Finished training after 1539 epochs\n"
     ]
    }
   ],
   "source": [
    "model_loss, model_loss_record = train(train_set, validation_set, model, config, device)\n"
   ]
  },
  {
   "cell_type": "code",
   "execution_count": 46,
   "id": "2881054f",
   "metadata": {},
   "outputs": [
    {
     "data": {
      "image/png": "[encoded data removed]",
      "text/plain": [
       "<Figure size 600x400 with 1 Axes>"
      ]
     },
     "metadata": {},
     "output_type": "display_data"
    }
   ],
   "source": [
    "plot_learning_curve(model_loss_record, title='deep model')\n"
   ]
  },
  {
   "cell_type": "code",
   "execution_count": 47,
   "id": "f1bee712",
   "metadata": {},
   "outputs": [
    {
     "data": {
      "image/png": "[encoded data removed]",
      "text/plain": [
       "<Figure size 500x500 with 1 Axes>"
      ]
     },
     "metadata": {},
     "output_type": "display_data"
    }
   ],
   "source": [
    "del model\n",
    "model = NeuralNet(train_set.dataset.dim).to(device)\n",
    "ckpt = torch.load(config['save_path'], map_location='cpu')  # Load your best model\n",
    "model.load_state_dict(ckpt)\n",
    "plot_pred(validation_set, model, device)  # Show prediction on the validation set\n"
   ]
  },
  {
   "attachments": {},
   "cell_type": "markdown",
   "id": "31261f5f",
   "metadata": {},
   "source": [
    "## Testing\n",
    "\n",
    "Get the prediction result and save it to csv file named 'prediction.csv'\n"
   ]
  },
  {
   "cell_type": "code",
   "execution_count": 48,
   "id": "a6acc3b6",
   "metadata": {},
   "outputs": [
    {
     "name": "stdout",
     "output_type": "stream",
     "text": [
      "Saving results to prediction.csv\n"
     ]
    }
   ],
   "source": [
    "def save_pred(preds, file):\n",
    "    print('Saving results to {}'.format(file))\n",
    "    with open(file, 'w') as fp:\n",
    "        writer = csv.writer(fp)\n",
    "        writer.writerow(['id', 'tested_positive'])\n",
    "        for i, p in enumerate(preds):\n",
    "            writer.writerow([i, p])\n",
    "\n",
    "\n",
    "preds = test(test_set, model, device)  # predict COVID-19 cases with your model\n",
    "save_pred(preds, 'prediction.csv')         # save prediction file to pred.csv\n"
   ]
  },
  {
   "attachments": {},
   "cell_type": "markdown",
   "id": "7340932d",
   "metadata": {},
   "source": [
    "## Hints for better result\n",
    "\n",
    "-   Feature selection\n",
    "-   DNN architecture\n",
    "-   Training (mini-batch/optimizer/learning rate)\n",
    "-   Regularization\n"
   ]
  }
 ],
 "metadata": {
  "kernelspec": {
   "display_name": "4016",
   "language": "python",
   "name": "python3"
  },
  "language_info": {
   "codemirror_mode": {
    "name": "ipython",
    "version": 3
   },
   "file_extension": ".py",
   "mimetype": "text/x-python",
   "name": "python",
   "nbconvert_exporter": "python",
   "pygments_lexer": "ipython3",
   "version": "3.10.9"
  },
  "vscode": {
   "interpreter": {
    "hash": "7d2802fe7c6103ed55938689795e5d5c39fc82d10c8d38b20790576d767dda36"
   }
  }
 },
 "nbformat": 4,
 "nbformat_minor": 5
}
