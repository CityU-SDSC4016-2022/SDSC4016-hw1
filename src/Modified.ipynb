{
 "cells": [
  {
   "attachments": {},
   "cell_type": "markdown",
   "id": "42b67c5d",
   "metadata": {},
   "source": [
    "# Baseline Code for HW1\n",
    "\n",
    "This is just the baseline code to set up the basic function you need. You need to modify the code yourself to achieve a better result.\n"
   ]
  },
  {
   "attachments": {},
   "cell_type": "markdown",
   "id": "d88ab3a2",
   "metadata": {},
   "source": [
    "## Import packages you need\n"
   ]
  },
  {
   "cell_type": "code",
   "execution_count": 1,
   "id": "b63ef26d",
   "metadata": {},
   "outputs": [],
   "source": [
    "# PyTorch\n",
    "import torch\n",
    "import torch.nn as nn\n",
    "from torch.utils.data import Dataset, DataLoader\n",
    "\n",
    "# For data preprocess\n",
    "import numpy as np\n",
    "import csv\n",
    "import os\n",
    "\n",
    "# For plotting\n",
    "import matplotlib.pyplot as plt\n",
    "from matplotlib.pyplot import figure\n",
    "\n",
    "myseed = 666  # set a random seed for reproducibility\n",
    "torch.backends.cudnn.deterministic = True\n",
    "torch.backends.cudnn.benchmark = False\n",
    "np.random.seed(myseed)\n",
    "torch.manual_seed(myseed)\n",
    "if torch.cuda.is_available():\n",
    "    torch.cuda.manual_seed_all(myseed)\n"
   ]
  },
  {
   "cell_type": "code",
   "execution_count": 2,
   "id": "f2f8d51e",
   "metadata": {},
   "outputs": [],
   "source": [
    "import pandas as pd\n",
    "from sklearn import preprocessing\n",
    "from sklearn.feature_selection import SelectKBest\n",
    "from sklearn.feature_selection import f_regression\n"
   ]
  },
  {
   "attachments": {},
   "cell_type": "markdown",
   "id": "aa883426",
   "metadata": {},
   "source": [
    "## Variables"
   ]
  },
  {
   "cell_type": "code",
   "execution_count": 3,
   "id": "ab9fd5ae",
   "metadata": {},
   "outputs": [],
   "source": [
    "train_path = '../data/HW1.train.csv'    # path to training data\n",
    "test_path = '../data/HW1.test.csv'      # path to testing data\n",
    "kFeat = 23                              # Features selection\n",
    "hdim = 40                               # Hidden layer dimensionality"
   ]
  },
  {
   "attachments": {},
   "cell_type": "markdown",
   "id": "0bad5f7a",
   "metadata": {},
   "source": [
    "## Show current device name\n"
   ]
  },
  {
   "cell_type": "code",
   "execution_count": 4,
   "id": "7bb581ce",
   "metadata": {},
   "outputs": [
    {
     "data": {
      "text/plain": [
       "'NVIDIA GeForce RTX 3080 Ti'"
      ]
     },
     "execution_count": 4,
     "metadata": {},
     "output_type": "execute_result"
    }
   ],
   "source": [
    "torch.cuda.get_device_name(0)\n"
   ]
  },
  {
   "attachments": {},
   "cell_type": "markdown",
   "id": "f4af96d7",
   "metadata": {},
   "source": [
    "## Basic Function\n",
    "\n",
    "Do not modify this part\n"
   ]
  },
  {
   "cell_type": "code",
   "execution_count": 5,
   "id": "7c6e7cae",
   "metadata": {},
   "outputs": [],
   "source": [
    "def get_device():\n",
    "    ''' Get device (if GPU is available, use GPU) '''\n",
    "    return 'cuda' if torch.cuda.is_available() else 'cpu'\n",
    "\n",
    "\n",
    "def plot_learning_curve(loss_record, title=''):\n",
    "    ''' Plot learning curve of your DNN (train & dev loss) '''\n",
    "    total_steps = len(loss_record['train'])\n",
    "    x_1 = range(total_steps)\n",
    "    x_2 = x_1[::len(loss_record['train']) // len(loss_record['dev'])]\n",
    "    figure(figsize=(6, 4))\n",
    "    plt.plot(x_1, loss_record['train'], c='tab:red', label='train')\n",
    "    plt.plot(x_2, loss_record['dev'], c='tab:cyan', label='dev')\n",
    "    plt.ylim(0.0, 5.)\n",
    "    plt.xlabel('Training steps')\n",
    "    plt.ylabel('MSE loss')\n",
    "    plt.title('Learning curve of {}'.format(title))\n",
    "    plt.legend()\n",
    "    plt.show()\n",
    "\n",
    "\n",
    "def plot_pred(dv_set, model, device, lim=35., preds=None, targets=None):\n",
    "    ''' Plot prediction of your DNN '''\n",
    "    if preds is None or targets is None:\n",
    "        model.eval()\n",
    "        preds, targets = [], []\n",
    "        for x, y in dv_set:\n",
    "            x, y = x.to(device), y.to(device)\n",
    "            with torch.no_grad():\n",
    "                pred = model(x)\n",
    "                preds.append(pred.detach().cpu())\n",
    "                targets.append(y.detach().cpu())\n",
    "        preds = torch.cat(preds, dim=0).numpy()\n",
    "        targets = torch.cat(targets, dim=0).numpy()\n",
    "\n",
    "    figure(figsize=(5, 5))\n",
    "    plt.scatter(targets, preds, c='r', alpha=0.5)\n",
    "    plt.plot([-0.2, lim], [-0.2, lim], c='b')\n",
    "    plt.xlim(-0.2, lim)\n",
    "    plt.ylim(-0.2, lim)\n",
    "    plt.xlabel('Truth value')\n",
    "    plt.ylabel('predicted value')\n",
    "    plt.title('Truth v.s. Prediction')\n",
    "    plt.show()\n"
   ]
  },
  {
   "attachments": {},
   "cell_type": "markdown",
   "id": "84bd9695",
   "metadata": {},
   "source": [
    "## Data and Preprocess\n",
    "\n",
    "The function below used to:\n",
    "\n",
    "1. Read the csv files into python\n",
    "2. Choose features (you can choose yourself)\n",
    "3. Split data into training and validation sets.\n",
    "4. Normalization\n"
   ]
  },
  {
   "cell_type": "code",
   "execution_count": 6,
   "id": "5978b2bb",
   "metadata": {},
   "outputs": [],
   "source": [
    "# Select K best features\n",
    "def getKBestFeatures(path: str, k: int):\n",
    "    dataPre = pd.read_csv(path)\n",
    "    dataPre = pd.DataFrame(preprocessing.MinMaxScaler().fit_transform(dataPre))\n",
    "    dataPreX = dataPre.iloc[:, 41:94]\n",
    "    dataPreY = dataPre.iloc[:, -1]\n",
    "    dataPrefit = SelectKBest(f_regression, k=5).fit(dataPreX, dataPreY)\n",
    "    featScore = pd.DataFrame(dataPrefit.scores_, index=dataPreX.columns, columns=[\"Score\"])\n",
    "    feats = list(featScore.nlargest(k, \"Score\").index - 1)\n",
    "    # print(f\"Feature selected: {feats}\")\n",
    "    return feats\n"
   ]
  },
  {
   "cell_type": "code",
   "execution_count": 7,
   "id": "127739cf",
   "metadata": {},
   "outputs": [],
   "source": [
    "class Dataprocess(Dataset):\n",
    "    def __init__(self, path, mode='train', modify=False):\n",
    "        self.mode = mode\n",
    "\n",
    "        # Read csv file\n",
    "        with open(path, 'r') as f:\n",
    "            data = list(csv.reader(f))\n",
    "            data = np.array(data[1:])[:, 1:].astype(float)\n",
    "        \n",
    "        if modify == False:\n",
    "            feats = list(range(93))\n",
    "        else:\n",
    "            # Hint:Feature Selection\n",
    "            # feats = list(range(40, 93))\n",
    "            feats = getKBestFeatures(train_path, kFeat)\n",
    "            \n",
    "        if mode == 'test':\n",
    "            # Testing set\n",
    "            data = data[:, feats]\n",
    "            self.data = torch.FloatTensor(data)\n",
    "        else:\n",
    "            # Training set\n",
    "            target = data[:, -1]\n",
    "            data = data[:, feats]\n",
    "\n",
    "            # Splitting data into training and validation sets\n",
    "            if mode == 'train':\n",
    "                indices = [i for i in range(len(data)) if i % 10 != 0]\n",
    "            elif mode == 'dev':\n",
    "                indices = [i for i in range(len(data)) if i % 10 == 0]\n",
    "\n",
    "            # Convert data into PyTorch tensors\n",
    "            self.data = torch.FloatTensor(data[indices])\n",
    "            self.target = torch.FloatTensor(target[indices])\n",
    "\n",
    "        # Normalize features\n",
    "        # np.savetxt(\"feat.csv\", self.data.data, delimiter=\",\")\n",
    "        # self.data = (self.data - self.data.mean(dim=0, keepdim=True)) / self.data.std(dim=0, keepdim=True)\n",
    "        self.dim = self.data.shape[1]\n",
    "\n",
    "        print('Finished reading the {} set of COVID19 Dataset ({} samples found, each dim = {})'.format(mode, len(self.data), self.dim))\n",
    "\n",
    "    def __getitem__(self, index):\n",
    "        # Returns one sample at a time\n",
    "        if self.mode in ['train', 'dev']:\n",
    "            # For training\n",
    "            return self.data[index], self.target[index]\n",
    "        else:\n",
    "            # For testing\n",
    "            return self.data[index]\n",
    "\n",
    "    def __len__(self):\n",
    "        # Returns the size of the dataset\n",
    "        return len(self.data)\n"
   ]
  },
  {
   "attachments": {},
   "cell_type": "markdown",
   "id": "dd6939cf",
   "metadata": {},
   "source": [
    "## Dataloader\n",
    "\n",
    "Loads data into batches.\n"
   ]
  },
  {
   "cell_type": "code",
   "execution_count": 8,
   "id": "a5123b30",
   "metadata": {},
   "outputs": [],
   "source": [
    "def dataloader(path, mode, batch_size, n_jobs=0, modify=False):\n",
    "    dataset = Dataprocess(path, mode=mode, modify=modify)\n",
    "    dataloader = DataLoader(\n",
    "        dataset, batch_size,\n",
    "        shuffle=(mode == 'train'), drop_last=False,\n",
    "        num_workers=n_jobs, pin_memory=True)\n",
    "    return dataloader\n"
   ]
  },
  {
   "attachments": {},
   "cell_type": "markdown",
   "id": "3683c933",
   "metadata": {},
   "source": [
    "## Define DNN by pytorch\n",
    "\n",
    "The DNN consists of 2 fully-connected layers with ReLU activation function\n"
   ]
  },
  {
   "cell_type": "code",
   "execution_count": 9,
   "id": "a18d0f3a",
   "metadata": {},
   "outputs": [],
   "source": [
    "class NeuralNet(nn.Module):\n",
    "    def __init__(self, input_dim):\n",
    "        super(NeuralNet, self).__init__()\n",
    "\n",
    "        # Try to modify this DNN to achieve better performance\n",
    "        self.net = nn.Sequential(\n",
    "            nn.Linear(input_dim, hdim),\n",
    "            nn.ReLU(),\n",
    "            nn.Linear(hdim, 1)\n",
    "        )\n",
    "\n",
    "        # Loss function MSE\n",
    "        self.criterion = nn.MSELoss(reduction='mean')\n",
    "\n",
    "    def forward(self, x):\n",
    "        ''' Given input of size (batch_size x input_dim), compute output of the network '''\n",
    "        return self.net(x).squeeze(1)\n",
    "\n",
    "    def cal_loss(self, pred, target):\n",
    "        ''' Calculate loss '''\n",
    "        # You may try regularization here\n",
    "        return self.criterion(pred, target)\n"
   ]
  },
  {
   "attachments": {},
   "cell_type": "markdown",
   "id": "a0f886bb",
   "metadata": {},
   "source": [
    "## Validation\n"
   ]
  },
  {
   "cell_type": "code",
   "execution_count": 10,
   "id": "0339c829",
   "metadata": {},
   "outputs": [],
   "source": [
    "def dev(dv_set, model, device):\n",
    "    model.eval()                                # set model to evalutation mode\n",
    "    total_loss = 0\n",
    "    for x, y in dv_set:                         # iterate through the dataloader\n",
    "        x, y = x.to(device), y.to(device)       # move data to device (cpu/cuda)\n",
    "        with torch.no_grad():                   # disable gradient calculation\n",
    "            pred = model(x)                     # forward pass (compute output)\n",
    "            mse_loss = model.cal_loss(pred, y)  # compute loss\n",
    "        total_loss += mse_loss.detach().cpu().item() * len(x)  # accumulate loss\n",
    "    total_loss = total_loss / len(dv_set.dataset)              # compute averaged loss\n",
    "\n",
    "    return total_loss\n"
   ]
  },
  {
   "attachments": {},
   "cell_type": "markdown",
   "id": "8625e04c",
   "metadata": {},
   "source": [
    "## Training\n"
   ]
  },
  {
   "cell_type": "code",
   "execution_count": 11,
   "id": "42034751",
   "metadata": {},
   "outputs": [],
   "source": [
    "def train(tr_set, dv_set, model, config, device):\n",
    "\n",
    "    n_epochs = config['n_epochs']  # Maximum number of epochs\n",
    "\n",
    "    # Setup optimizer\n",
    "    optimizer = getattr(torch.optim, config['optimizer'])(\n",
    "        model.parameters(), **config['optim_hparas'])\n",
    "\n",
    "    min_mse = 1000.\n",
    "    loss_record = {'train': [], 'dev': []}      # for recording training loss\n",
    "    early_stop_cnt = 0\n",
    "    epoch = 0\n",
    "    while epoch < n_epochs:\n",
    "        model.train()                           # set model to training mode\n",
    "        for x, y in tr_set:                     # iterate through the dataloader\n",
    "            optimizer.zero_grad()               # set gradient to zero\n",
    "            x, y = x.to(device), y.to(device)   # move data to device (cpu/cuda)\n",
    "            pred = model(x)                     # forward pass (compute output)\n",
    "            mse_loss = model.cal_loss(pred, y)  # compute loss\n",
    "            mse_loss.backward()                 # compute gradient (backpropagation)\n",
    "            optimizer.step()                    # update model with optimizer\n",
    "            loss_record['train'].append(mse_loss.detach().cpu().item())\n",
    "\n",
    "        dev_mse = dev(dv_set, model, device)\n",
    "        if dev_mse < min_mse:\n",
    "            # Save model if your model improved\n",
    "            min_mse = dev_mse\n",
    "            print('Saving model (epoch = {:4d}, loss = {:.4f})'\n",
    "                  .format(epoch + 1, min_mse))\n",
    "            torch.save(model.state_dict(), config['save_path'])  # Save model to specified path\n",
    "            early_stop_cnt = 0\n",
    "        else:\n",
    "            early_stop_cnt += 1\n",
    "\n",
    "        epoch += 1\n",
    "        loss_record['dev'].append(dev_mse)\n",
    "        if early_stop_cnt > config['early_stop']:\n",
    "            break\n",
    "\n",
    "    print('Finished training after {} epochs'.format(epoch))\n",
    "    return min_mse, loss_record\n"
   ]
  },
  {
   "attachments": {},
   "cell_type": "markdown",
   "id": "997f8430",
   "metadata": {},
   "source": [
    "## Testing\n"
   ]
  },
  {
   "cell_type": "code",
   "execution_count": 12,
   "id": "841528bf",
   "metadata": {},
   "outputs": [],
   "source": [
    "def test(tt_set, model, device):\n",
    "    model.eval()                                # set model to evalutation mode\n",
    "    preds = []\n",
    "    for x in tt_set:                            # iterate through the dataloader\n",
    "        x = x.to(device)                        # move data to device (cpu/cuda)\n",
    "        with torch.no_grad():                   # disable gradient calculation\n",
    "            pred = model(x)                     # forward pass (compute output)\n",
    "            preds.append(pred.detach().cpu())   # collect prediction\n",
    "    preds = torch.cat(preds, dim=0).numpy()     # concatenate all predictions and convert to a numpy array\n",
    "    return preds\n"
   ]
  },
  {
   "cell_type": "markdown",
   "id": "a0aed462",
   "metadata": {},
   "source": [
    "## Hyper-parameters for DNN\n"
   ]
  },
  {
   "cell_type": "code",
   "execution_count": 13,
   "id": "bde81b48",
   "metadata": {},
   "outputs": [],
   "source": [
    "device = get_device()                   # get the current available device ('cpu' or 'cuda')\n",
    "os.makedirs('models', exist_ok=True)    # The trained model will be saved to ./models/\n",
    "modify = True                           # Need selection\n",
    "\n",
    "# Tune these hyper-parameters to improve your model\n",
    "config = {\n",
    "    'n_epochs': 10000,                  # maximum number of epochs\n",
    "    'batch_size': 100,                  # mini-batch size for dataloader\n",
    "    'optimizer': 'SGD',                 # optimization algorithm (optimizer in torch.optim)\n",
    "    'optim_hparas': {                   # hyper-parameters for the optimizer (depends on which optimizer you are using)\n",
    "        'lr': 1e-4,                     # learning rate of SGD\n",
    "        'momentum': 0.5,\n",
    "        'weight_decay': 1e-3\n",
    "    },\n",
    "    'early_stop': 100,                  # early stopping epochs (the number epochs since your model's last improvement)\n",
    "    'save_path': 'models/model.pth'     # your model will be saved here\n",
    "}\n"
   ]
  },
  {
   "attachments": {},
   "cell_type": "markdown",
   "id": "1b2f04ac",
   "metadata": {},
   "source": [
    "## Read the dataset\n"
   ]
  },
  {
   "cell_type": "code",
   "execution_count": 14,
   "id": "55ad5a64",
   "metadata": {
    "scrolled": true
   },
   "outputs": [
    {
     "name": "stdout",
     "output_type": "stream",
     "text": [
      "Finished reading the train set of COVID19 Dataset (1800 samples found, each dim = 23)\n",
      "Finished reading the dev set of COVID19 Dataset (200 samples found, each dim = 23)\n",
      "Finished reading the test set of COVID19 Dataset (500 samples found, each dim = 23)\n"
     ]
    }
   ],
   "source": [
    "train_set = dataloader(train_path, 'train', config['batch_size'], modify=modify)\n",
    "validation_set = dataloader(train_path, 'dev', config['batch_size'], modify=modify)\n",
    "test_set = dataloader(test_path, 'test', config['batch_size'], modify=modify)\n"
   ]
  },
  {
   "attachments": {},
   "cell_type": "markdown",
   "id": "c4020f9b",
   "metadata": {},
   "source": [
    "## Try to train your DNN\n"
   ]
  },
  {
   "cell_type": "code",
   "execution_count": 15,
   "id": "0a27228e",
   "metadata": {},
   "outputs": [
    {
     "name": "stdout",
     "output_type": "stream",
     "text": [
      "Input dim is 23\n"
     ]
    }
   ],
   "source": [
    "print(f\"Input dim is {train_set.dataset.dim}\")\n",
    "model = NeuralNet(train_set.dataset.dim).to(device)  # Construct model and move to device\n"
   ]
  },
  {
   "cell_type": "code",
   "execution_count": 16,
   "id": "a6416f36",
   "metadata": {},
   "outputs": [
    {
     "name": "stdout",
     "output_type": "stream",
     "text": [
      "Saving model (epoch =    1, loss = 10.7386)\n",
      "Saving model (epoch =    2, loss = 9.1181)\n",
      "Saving model (epoch =    3, loss = 7.8627)\n",
      "Saving model (epoch =    4, loss = 6.9520)\n",
      "Saving model (epoch =    5, loss = 5.3730)\n",
      "Saving model (epoch =    6, loss = 4.5413)\n",
      "Saving model (epoch =    7, loss = 4.1075)\n",
      "Saving model (epoch =    8, loss = 3.4337)\n",
      "Saving model (epoch =    9, loss = 3.0145)\n",
      "Saving model (epoch =   10, loss = 2.6756)\n",
      "Saving model (epoch =   11, loss = 2.3981)\n",
      "Saving model (epoch =   13, loss = 2.0722)\n",
      "Saving model (epoch =   15, loss = 2.0272)\n",
      "Saving model (epoch =   17, loss = 1.5580)\n",
      "Saving model (epoch =   24, loss = 1.4202)\n",
      "Saving model (epoch =   32, loss = 1.4179)\n",
      "Saving model (epoch =   36, loss = 1.4096)\n",
      "Saving model (epoch =   39, loss = 1.2713)\n",
      "Saving model (epoch =   43, loss = 1.2628)\n",
      "Saving model (epoch =   46, loss = 1.2586)\n",
      "Saving model (epoch =   49, loss = 1.2403)\n",
      "Saving model (epoch =   53, loss = 1.2366)\n",
      "Saving model (epoch =   58, loss = 1.2236)\n",
      "Saving model (epoch =   66, loss = 1.2032)\n",
      "Saving model (epoch =   73, loss = 1.1956)\n",
      "Saving model (epoch =   78, loss = 1.1785)\n",
      "Saving model (epoch =   93, loss = 1.1494)\n",
      "Saving model (epoch =  100, loss = 1.1435)\n",
      "Saving model (epoch =  104, loss = 1.1340)\n",
      "Saving model (epoch =  109, loss = 1.1275)\n",
      "Saving model (epoch =  114, loss = 1.1256)\n",
      "Saving model (epoch =  117, loss = 1.1192)\n",
      "Saving model (epoch =  122, loss = 1.1037)\n",
      "Saving model (epoch =  131, loss = 1.0978)\n",
      "Saving model (epoch =  133, loss = 1.0904)\n",
      "Saving model (epoch =  135, loss = 1.0862)\n",
      "Saving model (epoch =  143, loss = 1.0746)\n",
      "Saving model (epoch =  147, loss = 1.0736)\n",
      "Saving model (epoch =  153, loss = 1.0638)\n",
      "Saving model (epoch =  155, loss = 1.0581)\n",
      "Saving model (epoch =  158, loss = 1.0563)\n",
      "Saving model (epoch =  161, loss = 1.0513)\n",
      "Saving model (epoch =  175, loss = 1.0455)\n",
      "Saving model (epoch =  177, loss = 1.0449)\n",
      "Saving model (epoch =  178, loss = 1.0376)\n",
      "Saving model (epoch =  184, loss = 1.0302)\n",
      "Saving model (epoch =  188, loss = 1.0273)\n",
      "Saving model (epoch =  197, loss = 1.0262)\n",
      "Saving model (epoch =  198, loss = 1.0257)\n",
      "Saving model (epoch =  205, loss = 1.0135)\n",
      "Saving model (epoch =  213, loss = 1.0063)\n",
      "Saving model (epoch =  220, loss = 0.9982)\n",
      "Saving model (epoch =  222, loss = 0.9960)\n",
      "Saving model (epoch =  225, loss = 0.9943)\n",
      "Saving model (epoch =  233, loss = 0.9940)\n",
      "Saving model (epoch =  234, loss = 0.9902)\n",
      "Saving model (epoch =  241, loss = 0.9828)\n",
      "Saving model (epoch =  251, loss = 0.9755)\n",
      "Saving model (epoch =  269, loss = 0.9653)\n",
      "Saving model (epoch =  280, loss = 0.9599)\n",
      "Saving model (epoch =  286, loss = 0.9587)\n",
      "Saving model (epoch =  288, loss = 0.9543)\n",
      "Saving model (epoch =  294, loss = 0.9526)\n",
      "Saving model (epoch =  306, loss = 0.9447)\n",
      "Saving model (epoch =  309, loss = 0.9429)\n",
      "Saving model (epoch =  314, loss = 0.9397)\n",
      "Saving model (epoch =  318, loss = 0.9377)\n",
      "Saving model (epoch =  323, loss = 0.9364)\n",
      "Saving model (epoch =  335, loss = 0.9319)\n",
      "Saving model (epoch =  344, loss = 0.9267)\n",
      "Saving model (epoch =  354, loss = 0.9215)\n",
      "Saving model (epoch =  361, loss = 0.9189)\n",
      "Saving model (epoch =  380, loss = 0.9147)\n",
      "Saving model (epoch =  385, loss = 0.9096)\n",
      "Saving model (epoch =  394, loss = 0.9085)\n",
      "Saving model (epoch =  407, loss = 0.9053)\n",
      "Saving model (epoch =  408, loss = 0.9030)\n",
      "Saving model (epoch =  420, loss = 0.8994)\n",
      "Saving model (epoch =  429, loss = 0.8947)\n",
      "Saving model (epoch =  438, loss = 0.8922)\n",
      "Saving model (epoch =  446, loss = 0.8920)\n",
      "Saving model (epoch =  447, loss = 0.8896)\n",
      "Saving model (epoch =  458, loss = 0.8893)\n",
      "Saving model (epoch =  459, loss = 0.8878)\n",
      "Saving model (epoch =  483, loss = 0.8838)\n",
      "Saving model (epoch =  505, loss = 0.8803)\n",
      "Saving model (epoch =  507, loss = 0.8796)\n",
      "Saving model (epoch =  511, loss = 0.8768)\n",
      "Saving model (epoch =  512, loss = 0.8751)\n",
      "Saving model (epoch =  518, loss = 0.8749)\n",
      "Saving model (epoch =  543, loss = 0.8718)\n",
      "Saving model (epoch =  545, loss = 0.8697)\n",
      "Saving model (epoch =  560, loss = 0.8669)\n",
      "Saving model (epoch =  577, loss = 0.8637)\n",
      "Saving model (epoch =  589, loss = 0.8630)\n",
      "Saving model (epoch =  608, loss = 0.8609)\n",
      "Saving model (epoch =  619, loss = 0.8577)\n",
      "Saving model (epoch =  621, loss = 0.8560)\n",
      "Saving model (epoch =  647, loss = 0.8557)\n",
      "Saving model (epoch =  675, loss = 0.8530)\n",
      "Saving model (epoch =  681, loss = 0.8519)\n",
      "Saving model (epoch =  683, loss = 0.8470)\n",
      "Saving model (epoch =  706, loss = 0.8466)\n",
      "Saving model (epoch =  712, loss = 0.8445)\n",
      "Saving model (epoch =  720, loss = 0.8441)\n",
      "Saving model (epoch =  736, loss = 0.8431)\n",
      "Saving model (epoch =  741, loss = 0.8423)\n",
      "Saving model (epoch =  759, loss = 0.8421)\n",
      "Saving model (epoch =  772, loss = 0.8390)\n",
      "Saving model (epoch =  804, loss = 0.8390)\n",
      "Saving model (epoch =  808, loss = 0.8388)\n",
      "Saving model (epoch =  809, loss = 0.8384)\n",
      "Saving model (epoch =  841, loss = 0.8382)\n",
      "Saving model (epoch =  888, loss = 0.8349)\n",
      "Saving model (epoch =  909, loss = 0.8325)\n",
      "Saving model (epoch =  959, loss = 0.8321)\n",
      "Saving model (epoch =  991, loss = 0.8309)\n",
      "Saving model (epoch =  995, loss = 0.8296)\n",
      "Saving model (epoch = 1011, loss = 0.8295)\n",
      "Saving model (epoch = 1023, loss = 0.8280)\n",
      "Saving model (epoch = 1042, loss = 0.8277)\n",
      "Saving model (epoch = 1048, loss = 0.8259)\n",
      "Saving model (epoch = 1100, loss = 0.8247)\n",
      "Saving model (epoch = 1174, loss = 0.8239)\n",
      "Saving model (epoch = 1178, loss = 0.8228)\n",
      "Saving model (epoch = 1202, loss = 0.8221)\n",
      "Saving model (epoch = 1272, loss = 0.8193)\n",
      "Saving model (epoch = 1364, loss = 0.8188)\n",
      "Saving model (epoch = 1431, loss = 0.8160)\n",
      "Finished training after 1532 epochs\n"
     ]
    }
   ],
   "source": [
    "model_loss, model_loss_record = train(train_set, validation_set, model, config, device)\n"
   ]
  },
  {
   "cell_type": "code",
   "execution_count": 17,
   "id": "2881054f",
   "metadata": {},
   "outputs": [
    {
     "data": {
      "image/png": "[encoded data removed]",
      "text/plain": [
       "<Figure size 600x400 with 1 Axes>"
      ]
     },
     "metadata": {},
     "output_type": "display_data"
    }
   ],
   "source": [
    "plot_learning_curve(model_loss_record, title='deep model')\n"
   ]
  },
  {
   "cell_type": "code",
   "execution_count": 18,
   "id": "f1bee712",
   "metadata": {},
   "outputs": [
    {
     "data": {
      "image/png": "[encoded data removed]",
      "text/plain": [
       "<Figure size 500x500 with 1 Axes>"
      ]
     },
     "metadata": {},
     "output_type": "display_data"
    }
   ],
   "source": [
    "del model\n",
    "model = NeuralNet(train_set.dataset.dim).to(device)\n",
    "ckpt = torch.load(config['save_path'], map_location='cpu')  # Load your best model\n",
    "model.load_state_dict(ckpt)\n",
    "plot_pred(validation_set, model, device)  # Show prediction on the validation set\n"
   ]
  },
  {
   "attachments": {},
   "cell_type": "markdown",
   "id": "31261f5f",
   "metadata": {},
   "source": [
    "## Testing\n",
    "\n",
    "Get the prediction result and save it to csv file named 'prediction.csv'\n"
   ]
  },
  {
   "cell_type": "code",
   "execution_count": 19,
   "id": "a6acc3b6",
   "metadata": {},
   "outputs": [
    {
     "name": "stdout",
     "output_type": "stream",
     "text": [
      "Saving results to prediction.csv\n"
     ]
    }
   ],
   "source": [
    "def save_pred(preds, file):\n",
    "    print('Saving results to {}'.format(file))\n",
    "    with open(file, 'w') as fp:\n",
    "        writer = csv.writer(fp)\n",
    "        writer.writerow(['id', 'tested_positive'])\n",
    "        for i, p in enumerate(preds):\n",
    "            writer.writerow([i, p])\n",
    "\n",
    "\n",
    "preds = test(test_set, model, device)  # predict COVID-19 cases with your model\n",
    "save_pred(preds, 'prediction.csv')         # save prediction file to pred.csv\n"
   ]
  },
  {
   "attachments": {},
   "cell_type": "markdown",
   "id": "7340932d",
   "metadata": {},
   "source": [
    "## Hints for better result\n",
    "\n",
    "-   Feature selection\n",
    "-   DNN architecture\n",
    "-   Training (mini-batch/optimizer/learning rate)\n",
    "-   Regularization\n"
   ]
  }
 ],
 "metadata": {
  "kernelspec": {
   "display_name": "4016",
   "language": "python",
   "name": "python3"
  },
  "language_info": {
   "codemirror_mode": {
    "name": "ipython",
    "version": 3
   },
   "file_extension": ".py",
   "mimetype": "text/x-python",
   "name": "python",
   "nbconvert_exporter": "python",
   "pygments_lexer": "ipython3",
   "version": "3.10.9"
  },
  "vscode": {
   "interpreter": {
    "hash": "7d2802fe7c6103ed55938689795e5d5c39fc82d10c8d38b20790576d767dda36"
   }
  }
 },
 "nbformat": 4,
 "nbformat_minor": 5
}
